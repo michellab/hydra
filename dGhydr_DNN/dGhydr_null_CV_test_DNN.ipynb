{
 "cells": [
  {
   "cell_type": "markdown",
   "metadata": {},
   "source": [
    "# Correcting absolute hydration free energies using support vector machines - null test"
   ]
  },
  {
   "cell_type": "markdown",
   "metadata": {
    "toc": true
   },
   "source": [
    "<h1>Table of Contents<span class=\"tocSkip\"></span></h1>\n",
    "<div class=\"toc\"><ul class=\"toc-item\"><li><span><a href=\"#Imports\" data-toc-modified-id=\"Imports-1\"><span class=\"toc-item-num\">1&nbsp;&nbsp;</span>Imports</a></span></li><li><span><a href=\"#Global-variables\" data-toc-modified-id=\"Global-variables-2\"><span class=\"toc-item-num\">2&nbsp;&nbsp;</span>Global variables</a></span></li><li><span><a href=\"#Path-variables\" data-toc-modified-id=\"Path-variables-3\"><span class=\"toc-item-num\">3&nbsp;&nbsp;</span>Path variables</a></span><ul class=\"toc-item\"><li><span><a href=\"#Convergence-plot\" data-toc-modified-id=\"Convergence-plot-3.1\"><span class=\"toc-item-num\">3.1&nbsp;&nbsp;</span>Convergence plot</a></span></li></ul></li><li><span><a href=\"#External-testing\" data-toc-modified-id=\"External-testing-4\"><span class=\"toc-item-num\">4&nbsp;&nbsp;</span>External testing</a></span><ul class=\"toc-item\"><li><span><a href=\"#Load-test-data\" data-toc-modified-id=\"Load-test-data-4.1\"><span class=\"toc-item-num\">4.1&nbsp;&nbsp;</span>Load test data</a></span></li><li><span><a href=\"#Predict-$\\Delta-G_{hydr}$\" data-toc-modified-id=\"Predict-$\\Delta-G_{hydr}$-4.2\"><span class=\"toc-item-num\">4.2&nbsp;&nbsp;</span>Predict $\\Delta G_{hydr}$</a></span></li></ul></li></ul></div>"
   ]
  },
  {
   "cell_type": "markdown",
   "metadata": {},
   "source": [
    "## Imports"
   ]
  },
  {
   "cell_type": "code",
   "execution_count": 1,
   "metadata": {
    "scrolled": true
   },
   "outputs": [
    {
     "name": "stderr",
     "output_type": "stream",
     "text": [
      "/home/wwu/anaconda3/envs/freesolv/lib/python3.7/site-packages/sklearn/externals/joblib/__init__.py:15: DeprecationWarning: sklearn.externals.joblib is deprecated in 0.21 and will be removed in 0.23. Please import this functionality directly from joblib, which can be installed with: pip install joblib. If this warning is raised when loading pickled models, you may need to re-serialize those models with scikit-learn 0.21+.\n",
      "  warnings.warn(msg, category=DeprecationWarning)\n"
     ]
    }
   ],
   "source": [
    "# General:\n",
    "import pandas as pd\n",
    "import numpy as np\n",
    "from matplotlib import pyplot as plt\n",
    "import os\n",
    "import csv\n",
    "import time\n",
    "import scipy\n",
    "import shutil\n",
    "import logging\n",
    "import pickle\n",
    "import statistics\n",
    "from tqdm import tqdm_notebook as tqdm\n",
    "from uncertainties import unumpy\n",
    "\n",
    "# SVM:\n",
    "from sklearn.svm import SVR\n",
    "from sklearn.model_selection import KFold\n",
    "from sklearn.metrics import mean_absolute_error\n",
    "\n",
    "import tensorflow as tf\n",
    "from skopt import gp_minimize, dump, load\n",
    "\n",
    "# SciKit-Optimise:\n",
    "from skopt import gp_minimize, dump\n",
    "from skopt.space import Categorical\n",
    "from skopt.utils import use_named_args\n",
    "from skopt.plots import plot_convergence"
   ]
  },
  {
   "cell_type": "markdown",
   "metadata": {},
   "source": [
    "## Global variables"
   ]
  },
  {
   "cell_type": "code",
   "execution_count": 2,
   "metadata": {},
   "outputs": [],
   "source": [
    "# Global variables:\n",
    "model_type = 'null_DNN'\n",
    "# label_col = 'Experimental dGhydr (kcal/mol)'\n",
    "label_col = 'dGoffset (kcal/mol)'\n",
    "label_u_col = 'uncertainty (kcal/mol)'\n",
    "\n",
    "# set data processing configurations:\n",
    "n_calls = 60  # Number of Bayesian optimisation loops for hyperparameter optimisation, 40 is best for convergence, > 60 scales to very expensive\n",
    "best_mae = np.inf  # Point to consider top-performing model from (MAE/MAD); 1.0 = no improvement on test-set variance\n",
    "\n",
    "# KFold parameters:\n",
    "n_splits = 5  # Number of K-fold splits\n",
    "random_state = 2  # Ranom number seed\n",
    "\n",
    "# DNN global variables\n",
    "n_calls = 60  # Number of Bayesian optimisation loops for hyperparameter optimisation, 40 is best for convergence, > 60 scales to very expensive\n",
    "epochs = 200\n",
    "best_mae = np.inf"
   ]
  },
  {
   "cell_type": "markdown",
   "metadata": {},
   "source": [
    "## Path variables"
   ]
  },
  {
   "cell_type": "code",
   "execution_count": 3,
   "metadata": {},
   "outputs": [],
   "source": [
    "# Path variables:\n",
    "path = './'\n",
    "datasets_dr = '../datasets/'\n",
    "SDF_dr = datasets_dr + 'sdffiles/'\n",
    "output_dr = path + 'output_null/'\n",
    "if not os.path.exists(output_dr):\n",
    "    os.mkdir(output_dr)\n",
    "figures_dr = path + 'figures_null/'\n",
    "if not os.path.exists(figures_dr):\n",
    "    os.mkdir(figures_dr)\n",
    "freesolv_loc = datasets_dr + 'freesolv_database.txt'"
   ]
  },
  {
   "cell_type": "markdown",
   "metadata": {},
   "source": [
    "### Convergence plot"
   ]
  },
  {
   "cell_type": "markdown",
   "metadata": {},
   "source": [
    "Load gp_minimize objects"
   ]
  },
  {
   "cell_type": "code",
   "execution_count": 4,
   "metadata": {},
   "outputs": [
    {
     "name": "stderr",
     "output_type": "stream",
     "text": [
      "/home/wwu/anaconda3/envs/freesolv/lib/python3.7/site-packages/sklearn/base.py:306: UserWarning: Trying to unpickle estimator LabelBinarizer from version 0.20.0 when using version 0.21.2. This might lead to breaking code or invalid results. Use at your own risk.\n",
      "  UserWarning)\n"
     ]
    }
   ],
   "source": [
    "# gp_minimize object\n",
    "gp_results = [load(output_dr + 'fold_' + str(fold_num) +  '_gp_minimize_result.pickle') \n",
    "              for fold_num in range(1, n_splits + 1)]\n",
    "# lsit of MAE and associated parameters\n",
    "mae_logger = pd.read_csv(output_dr + 'DNN_statistics.csv')"
   ]
  },
  {
   "cell_type": "markdown",
   "metadata": {},
   "source": [
    "Plot function convergence over number of calls"
   ]
  },
  {
   "cell_type": "code",
   "execution_count": 5,
   "metadata": {},
   "outputs": [
    {
     "data": {
      "image/png": "[encoded data removed]",
      "text/plain": [
       "<Figure size 432x288 with 1 Axes>"
      ]
     },
     "metadata": {
      "needs_background": "light"
     },
     "output_type": "display_data"
    }
   ],
   "source": [
    "for result in gp_results: plot_convergence(result)\n",
    "plt.savefig(figures_dr + 'convergence_plot.png')"
   ]
  },
  {
   "cell_type": "markdown",
   "metadata": {},
   "source": [
    "## External testing"
   ]
  },
  {
   "cell_type": "markdown",
   "metadata": {},
   "source": [
    "### Load test data"
   ]
  },
  {
   "cell_type": "code",
   "execution_count": 9,
   "metadata": {
    "scrolled": true
   },
   "outputs": [],
   "source": [
    "test_X = pd.read_csv(datasets_dr + 'test_data.csv',\n",
    "                     index_col='ID').iloc[:,0:-2]\n",
    "\n",
    "test_y = pd.read_csv(filepath_or_buffer=datasets_dr + 'test_data.csv',\n",
    "                     index_col='ID').iloc[:,-2:-1]"
   ]
  },
  {
   "cell_type": "code",
   "execution_count": 11,
   "metadata": {
    "scrolled": false
   },
   "outputs": [],
   "source": [
    "# load experimetnal dGhydr column from freesolv\n",
    "exp_dGhydr = pd.read_csv(filepath_or_buffer=datasets_dr + 'freesolv_database.txt',\n",
    "                         sep='; ',\n",
    "                         engine='python',\n",
    "                         usecols=['compound id (and file prefix)', 'experimental value (kcal/mol)'],\n",
    "                         index_col='compound id (and file prefix)'\n",
    "                        ).sort_index()"
   ]
  },
  {
   "cell_type": "markdown",
   "metadata": {},
   "source": [
    "### Predict $\\Delta G_{hydr}$"
   ]
  },
  {
   "cell_type": "code",
   "execution_count": 12,
   "metadata": {},
   "outputs": [],
   "source": [
    "def model_predict(model_num, test_entry):\n",
    "    \"\"\"Load model from HDF5 and return model prediction on a given test_entry.\"\"\"\n",
    "\n",
    "    model = tf.keras.models.load_model(output_dr + 'dGhydr_DNN_fold_' + str(model_num) + '_model.h5')\n",
    "\n",
    "    return model.predict(test_entry)"
   ]
  },
  {
   "cell_type": "code",
   "execution_count": null,
   "metadata": {},
   "outputs": [],
   "source": [
    "import tensorflow as tf\n",
    "output_dr = './output_null/'\n",
    "model_1 = tf.keras.models.load_model(output_dr + 'dGhydr_DNN_fold_1_model.h5')"
   ]
  },
  {
   "cell_type": "code",
   "execution_count": null,
   "metadata": {},
   "outputs": [],
   "source": [
    "# ML predicted labels nested list per fold\n",
    "predict_per_fold = [model_predict(fold_num, test_X) for fold_num in range(1, n_splits + 1)]\n",
    "# average ML predicted labels\n",
    "predict_y = np.average(predict_per_fold, axis=0)\n",
    "# convert np array to float\n",
    "predict_y = [float(x) for x in predict_y]"
   ]
  },
  {
   "cell_type": "code",
   "execution_count": null,
   "metadata": {},
   "outputs": [],
   "source": [
    "!ls ./output_null"
   ]
  },
  {
   "cell_type": "code",
   "execution_count": null,
   "metadata": {},
   "outputs": [],
   "source": [
    "def plot_scatter(x, y, title, x_label, y_label):\n",
    "    \"\"\"\n",
    "    Returns and saves linear regression scatter plot.\n",
    "    x: (list) calculated or predicted data.\n",
    "    y: (list) true or experimental data.\n",
    "    title: (str) plot title and filename delimitted by underscores. Avoid special characters.\n",
    "    x_label: (str) x-axis label.\n",
    "    y_label: (str) y-axis label.\n",
    "    \"\"\"\n",
    "    \n",
    "    # plot scatter\n",
    "    plt.figure()\n",
    "    plt.scatter(x, y, color='black', s=8)\n",
    "\n",
    "    # plot line of best fit\n",
    "    # https://stackoverflow.com/questions/22239691/code-for-best-fit-straight-line-of-a-scatter-plot-in-python\n",
    "    plt.plot(np.unique(x),\n",
    "             np.poly1d(np.polyfit(x, y, 1))(np.unique(x)),\n",
    "             color='black', linewidth=1)\n",
    "\n",
    "    # axis labels\n",
    "    plt.xlabel(x_label)\n",
    "    plt.ylabel(y_label)\n",
    "\n",
    "    # figure title\n",
    "    plt.title(title)\n",
    "\n",
    "    # absolute error\n",
    "    ae = [abs(i - j) for i, j in zip(x, y)]\n",
    "    # mean absolute error\n",
    "    mae = statistics.mean(ae)\n",
    "    \n",
    "    # R-squared\n",
    "    slope, intercept, r_value, p_value, std_err = scipy.stats.linregress(y, x)\n",
    "    r2 = r_value**2\n",
    "\n",
    "    # annotate with r-squared and MAE\n",
    "    string = 'MAE = {}\\nR$^2$ = {}\\nR = {}'.format(round(mae, 4), round(r2, 4), round(r_value, 4))\n",
    "    plt.annotate(string, xy=(0, 1),\n",
    "                 xytext=(12, -12), va='top',\n",
    "                 xycoords='axes fraction',\n",
    "                 textcoords='offset points')\n",
    "\n",
    "    filename = figures_dr + str(title).lower().replace(' ', '_') + '.png'\n",
    "    plt.savefig(filename)\n",
    "    logging.info('Saved {}.'.format(filename))"
   ]
  },
  {
   "cell_type": "code",
   "execution_count": null,
   "metadata": {},
   "outputs": [],
   "source": [
    "plot_scatter(x=predict_y,\n",
    "             y=test_y[label_col].tolist(),\n",
    "             title='{}-predicted hydration free energies'.format(model_type),\n",
    "             x_label='SVM-predicted $\\Delta G_{hydr}$ / kcal mol$^{-1}$',\n",
    "             y_label='Experimental $\\Delta G_{hydr}$ / kcal mol$^{-1}$')"
   ]
  },
  {
   "cell_type": "code",
   "execution_count": null,
   "metadata": {},
   "outputs": [],
   "source": [
    "def generate_statistics(self, comp_data, exp_data, compound_list=None, repeats=1000):\n",
    "        r\"\"\"\n",
    "        Parameters\n",
    "        ----------\n",
    "        comp_data : list of dictionaries\n",
    "            list of dictionaries of computed free energies and their errors\n",
    "        exp_data : list of dictionaries\n",
    "            list of dictionaries of experimental free energies and their errors\n",
    "        compound_list : list of strings\n",
    "            list should contain dictionary keys of compounds to be compared statistically\n",
    "        repeats : integer\n",
    "            number of times new samples are drawn from the gaussian distribution of the computational data\n",
    "        \"\"\"\n",
    "        self.data_comp = []\n",
    "        self.data_exp = []\n",
    "\n",
    "        # Setting up compound list\n",
    "        if compound_list is None:\n",
    "            cl_exp = set().union(*(d.keys() for d in exp_data))\n",
    "            cl_comp = set().union(*(d.keys() for d in comp_data))\n",
    "            compound_list = list(set(cl_exp).intersection(cl_comp))\n",
    "            if 'error' in compound_list:\n",
    "                index = compound_list.index('error')\n",
    "                compound_list.pop(index)\n",
    "            self._compound_list = compound_list\n",
    "        else:\n",
    "            self._compound_list = compound_list\n",
    "\n",
    "        # Setting up computed and experimental dictionaries\n",
    "        for k in self._compound_list:\n",
    "            comp = next(item for item in comp_data if k in item)\n",
    "            exp = next(item for item in exp_data if k in item)\n",
    "            val = comp[k]\n",
    "            err = comp['error']\n",
    "            self.data_comp.append([val, err])\n",
    "            val = exp[k]\n",
    "            self.data_exp.append(val)\n",
    "\n",
    "        new_data = np.array(self.data_comp)[:,0]\n",
    "        self._R_from_data, p = scipy.stats.pearsonr(new_data, np.array(self.data_exp))\n",
    "        self._tau_from_data = scipy.stats.kendalltau(new_data, np.array(self.data_exp))[0]\n",
    "        self._rmse_from_data = self._calculate_rmse(new_data, np.array(self.data_exp))\n",
    "        self._mue_from_data = self._calculate_mue(new_data, np.array(self.data_exp))\n",
    "\n",
    "        self._R = []\n",
    "        self._R2 = []\n",
    "        self._tau = []\n",
    "        self._mue = []\n",
    "        self._rmse = []\n",
    "\n",
    "        # Now generate the data\n",
    "        for i in range(repeats):\n",
    "            new_data = []\n",
    "            for i in range(len(self.data_comp)):\n",
    "                val = self.data_comp[i][0]\n",
    "                err = self.data_comp[i][1]\n",
    "                if err != 0.0:\n",
    "                    val2 = np.random.normal(val, err)\n",
    "                    new_data.append(val2)\n",
    "                else:\n",
    "                    new_data.append(val)\n",
    "            R2, R = self._calculate_r2(new_data, self.data_exp)\n",
    "            tau = self._calculate_tau(new_data, self.data_exp)\n",
    "            mue = self._calculate_mue(new_data, self.data_exp)\n",
    "            rmse = self._calculate_rmse(np.array(new_data), np.array(self.data_exp))\n",
    "            self._R.append(R)\n",
    "            self._R2.append(R2)\n",
    "            self._tau.append(tau)\n",
    "            self._mue.append(mue)\n",
    "            self._rmse.append(rmse)\n"
   ]
  }
 ],
 "metadata": {
  "kernelspec": {
   "display_name": "Python 3",
   "language": "python",
   "name": "python3"
  },
  "language_info": {
   "codemirror_mode": {
    "name": "ipython",
    "version": 3
   },
   "file_extension": ".py",
   "mimetype": "text/x-python",
   "name": "python",
   "nbconvert_exporter": "python",
   "pygments_lexer": "ipython3",
   "version": "3.7.4"
  },
  "toc": {
   "base_numbering": 1,
   "nav_menu": {},
   "number_sections": true,
   "sideBar": true,
   "skip_h1_title": true,
   "title_cell": "Table of Contents",
   "title_sidebar": "Contents",
   "toc_cell": true,
   "toc_position": {
    "height": "calc(100% - 180px)",
    "left": "10px",
    "top": "150px",
    "width": "165px"
   },
   "toc_section_display": true,
   "toc_window_display": true
  }
 },
 "nbformat": 4,
 "nbformat_minor": 2
}
