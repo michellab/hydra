{
 "cells": [
  {
   "cell_type": "markdown",
   "metadata": {},
   "source": [
    "# Correcting absolute hydration free energies using support vector machines"
   ]
  },
  {
   "cell_type": "markdown",
   "metadata": {
    "toc": true
   },
   "source": [
    "<h1>Table of Contents<span class=\"tocSkip\"></span></h1>\n",
    "<div class=\"toc\"><ul class=\"toc-item\"><li><span><a href=\"#Imports\" data-toc-modified-id=\"Imports-1\"><span class=\"toc-item-num\">1&nbsp;&nbsp;</span>Imports</a></span></li><li><span><a href=\"#Global-variables\" data-toc-modified-id=\"Global-variables-2\"><span class=\"toc-item-num\">2&nbsp;&nbsp;</span>Global variables</a></span></li><li><span><a href=\"#Path-variables\" data-toc-modified-id=\"Path-variables-3\"><span class=\"toc-item-num\">3&nbsp;&nbsp;</span>Path variables</a></span></li><li><span><a href=\"#Logger\" data-toc-modified-id=\"Logger-4\"><span class=\"toc-item-num\">4&nbsp;&nbsp;</span>Logger</a></span></li><li><span><a href=\"#Data-preparation\" data-toc-modified-id=\"Data-preparation-5\"><span class=\"toc-item-num\">5&nbsp;&nbsp;</span>Data preparation</a></span><ul class=\"toc-item\"><li><span><a href=\"#Load-data\" data-toc-modified-id=\"Load-data-5.1\"><span class=\"toc-item-num\">5.1&nbsp;&nbsp;</span>Load data</a></span></li><li><span><a href=\"#Cross-validation\" data-toc-modified-id=\"Cross-validation-5.2\"><span class=\"toc-item-num\">5.2&nbsp;&nbsp;</span>Cross validation</a></span></li></ul></li><li><span><a href=\"#Training\" data-toc-modified-id=\"Training-6\"><span class=\"toc-item-num\">6&nbsp;&nbsp;</span>Training</a></span><ul class=\"toc-item\"><li><span><a href=\"#Hyper-parameter-ranges\" data-toc-modified-id=\"Hyper-parameter-ranges-6.1\"><span class=\"toc-item-num\">6.1&nbsp;&nbsp;</span>Hyper-parameter ranges</a></span></li><li><span><a href=\"#SVR-model\" data-toc-modified-id=\"SVR-model-6.2\"><span class=\"toc-item-num\">6.2&nbsp;&nbsp;</span>SVR model</a></span></li><li><span><a href=\"#Training-function\" data-toc-modified-id=\"Training-function-6.3\"><span class=\"toc-item-num\">6.3&nbsp;&nbsp;</span>Training function</a></span></li><li><span><a href=\"#Perform-training-per-fold\" data-toc-modified-id=\"Perform-training-per-fold-6.4\"><span class=\"toc-item-num\">6.4&nbsp;&nbsp;</span>Perform training per fold</a></span></li></ul></li><li><span><a href=\"#Hyper-parameter-search-space\" data-toc-modified-id=\"Hyper-parameter-search-space-7\"><span class=\"toc-item-num\">7&nbsp;&nbsp;</span>Hyper-parameter search space</a></span><ul class=\"toc-item\"><li><span><a href=\"#Convergence-plot\" data-toc-modified-id=\"Convergence-plot-7.1\"><span class=\"toc-item-num\">7.1&nbsp;&nbsp;</span>Convergence plot</a></span></li></ul></li><li><span><a href=\"#External-testing\" data-toc-modified-id=\"External-testing-8\"><span class=\"toc-item-num\">8&nbsp;&nbsp;</span>External testing</a></span><ul class=\"toc-item\"><li><span><a href=\"#Load-testing-data\" data-toc-modified-id=\"Load-testing-data-8.1\"><span class=\"toc-item-num\">8.1&nbsp;&nbsp;</span>Load testing data</a></span><ul class=\"toc-item\"><li><span><a href=\"#FreeSolve-database\" data-toc-modified-id=\"FreeSolve-database-8.1.1\"><span class=\"toc-item-num\">8.1.1&nbsp;&nbsp;</span>FreeSolve database</a></span></li><li><span><a href=\"#External-test-set\" data-toc-modified-id=\"External-test-set-8.1.2\"><span class=\"toc-item-num\">8.1.2&nbsp;&nbsp;</span>External test set</a></span><ul class=\"toc-item\"><li><span><a href=\"#FreeSolve-format\" data-toc-modified-id=\"FreeSolve-format-8.1.2.1\"><span class=\"toc-item-num\">8.1.2.1&nbsp;&nbsp;</span>FreeSolve format</a></span></li><li><span><a href=\"#Features-and-labels-format\" data-toc-modified-id=\"Features-and-labels-format-8.1.2.2\"><span class=\"toc-item-num\">8.1.2.2&nbsp;&nbsp;</span>Features and labels format</a></span></li></ul></li></ul></li><li><span><a href=\"#Original-$\\Delta-G_{hydr}$\" data-toc-modified-id=\"Original-$\\Delta-G_{hydr}$-8.2\"><span class=\"toc-item-num\">8.2&nbsp;&nbsp;</span>Original $\\Delta G_{hydr}$</a></span></li><li><span><a href=\"#Predict-$\\Delta-G_{offset}$\" data-toc-modified-id=\"Predict-$\\Delta-G_{offset}$-8.3\"><span class=\"toc-item-num\">8.3&nbsp;&nbsp;</span>Predict $\\Delta G_{offset}$</a></span></li><li><span><a href=\"#$\\Delta-G_{hydr}$-correction\" data-toc-modified-id=\"$\\Delta-G_{hydr}$-correction-8.4\"><span class=\"toc-item-num\">8.4&nbsp;&nbsp;</span>$\\Delta G_{hydr}$ correction</a></span></li></ul></li></ul></div>"
   ]
  },
  {
   "cell_type": "markdown",
   "metadata": {},
   "source": [
    "## Imports"
   ]
  },
  {
   "cell_type": "code",
   "execution_count": 1,
   "metadata": {},
   "outputs": [
    {
     "name": "stderr",
     "output_type": "stream",
     "text": [
      "/Users/wilsonwu/anaconda3/envs/freesolv/lib/python3.7/site-packages/sklearn/externals/joblib/__init__.py:15: DeprecationWarning: sklearn.externals.joblib is deprecated in 0.21 and will be removed in 0.23. Please import this functionality directly from joblib, which can be installed with: pip install joblib. If this warning is raised when loading pickled models, you may need to re-serialize those models with scikit-learn 0.21+.\n",
      "  warnings.warn(msg, category=DeprecationWarning)\n"
     ]
    }
   ],
   "source": [
    "# General:\n",
    "import pandas as pd\n",
    "import numpy as np\n",
    "from matplotlib import pyplot as plt\n",
    "import os\n",
    "import csv\n",
    "import time\n",
    "import scipy\n",
    "import shutil\n",
    "import logging\n",
    "import pickle\n",
    "import statistics\n",
    "from tqdm import tqdm_notebook as tqdm\n",
    "\n",
    "# SVM:\n",
    "from sklearn.svm import SVR\n",
    "from sklearn.model_selection import KFold\n",
    "from sklearn.metrics import mean_absolute_error\n",
    "\n",
    "# SciKit-Optimise:\n",
    "from skopt import gp_minimize, dump\n",
    "from skopt.space import Categorical\n",
    "from skopt.utils import use_named_args\n",
    "from skopt.plots import plot_convergence"
   ]
  },
  {
   "cell_type": "markdown",
   "metadata": {},
   "source": [
    "## Global variables"
   ]
  },
  {
   "cell_type": "code",
   "execution_count": 2,
   "metadata": {},
   "outputs": [],
   "source": [
    "# Global variables:\n",
    "model_type = 'SVM'\n",
    "kernel = 'rbf'\n",
    "label_col = 'dGoffset (kcal/mol)'\n",
    "\n",
    "# set data processing configurations:\n",
    "n_calls = 60  # Number of Bayesian optimisation loops for hyperparameter optimisation, 40 is best for convergence, > 60 scales to very expensive\n",
    "best_mae = np.inf  # Point to consider top-performing model from (MAE/MAD); 1.0 = no improvement on test-set variance\n",
    "\n",
    "# KFold parameters:\n",
    "n_splits = 5  # Number of K-fold splits\n",
    "random_state = 2  # Random number seed"
   ]
  },
  {
   "cell_type": "markdown",
   "metadata": {},
   "source": [
    "## Path variables"
   ]
  },
  {
   "cell_type": "code",
   "execution_count": 3,
   "metadata": {},
   "outputs": [],
   "source": [
    "# Path variables:\n",
    "path = './'\n",
    "datasets_dr = '../datasets/'\n",
    "SDF_dr = datasets_dr + 'sdffiles/'\n",
    "output_dr = path + 'output' + '_' + kernel + '/'\n",
    "if not os.path.exists(output_dr):\n",
    "    os.mkdir(output_dr)\n",
    "figures_dr = path + 'figures' + '_' + kernel + '/'\n",
    "if not os.path.exists(figures_dr):\n",
    "    os.mkdir(figures_dr)\n",
    "freesolv_loc = datasets_dr + 'freesolv_database.txt'"
   ]
  },
  {
   "cell_type": "markdown",
   "metadata": {},
   "source": [
    "## Logger"
   ]
  },
  {
   "cell_type": "code",
   "execution_count": 4,
   "metadata": {},
   "outputs": [],
   "source": [
    "# clean slate output_dr\n",
    "if os.path.exists(output_dr):\n",
    "    shutil.rmtree(output_dr)\n",
    "if not os.path.exists(output_dr):\n",
    "    os.mkdir(output_dr)\n",
    "\n",
    "# initiate log file\n",
    "logging.basicConfig(filename= output_dr + 'dGhydr_' + model_type + '.log',\n",
    "                    filemode='a',\n",
    "                    format='%(asctime)s - %(message)s',\n",
    "                    level=logging.INFO)\n",
    "\n",
    "logging.info('Starting {}.ipynb.'.format(os.path.abspath('')))\n",
    "logging.info('\\n\\nParameters:\\n\\nn_calls = {}  # gp_minimize\\nn_splits = {}  # Kfolds\\n'.format(n_calls, n_splits))"
   ]
  },
  {
   "cell_type": "markdown",
   "metadata": {},
   "source": [
    "## Data preparation"
   ]
  },
  {
   "cell_type": "markdown",
   "metadata": {},
   "source": [
    "### Load data"
   ]
  },
  {
   "cell_type": "code",
   "execution_count": 5,
   "metadata": {},
   "outputs": [
    {
     "data": {
      "text/html": [
       "<div>\n",
       "<style scoped>\n",
       "    .dataframe tbody tr th:only-of-type {\n",
       "        vertical-align: middle;\n",
       "    }\n",
       "\n",
       "    .dataframe tbody tr th {\n",
       "        vertical-align: top;\n",
       "    }\n",
       "\n",
       "    .dataframe thead th {\n",
       "        text-align: right;\n",
       "    }\n",
       "</style>\n",
       "<table border=\"1\" class=\"dataframe\">\n",
       "  <thead>\n",
       "    <tr style=\"text-align: right;\">\n",
       "      <th></th>\n",
       "      <th>PC1</th>\n",
       "      <th>PC2</th>\n",
       "      <th>PC3</th>\n",
       "      <th>PC4</th>\n",
       "      <th>PC5</th>\n",
       "      <th>PC6</th>\n",
       "      <th>PC7</th>\n",
       "      <th>PC8</th>\n",
       "      <th>PC9</th>\n",
       "      <th>PC10</th>\n",
       "      <th>...</th>\n",
       "      <th>PC103</th>\n",
       "      <th>PC104</th>\n",
       "      <th>PC105</th>\n",
       "      <th>PC106</th>\n",
       "      <th>PC107</th>\n",
       "      <th>PC108</th>\n",
       "      <th>PC109</th>\n",
       "      <th>PC110</th>\n",
       "      <th>PC111</th>\n",
       "      <th>dGoffset (kcal/mol)</th>\n",
       "    </tr>\n",
       "  </thead>\n",
       "  <tbody>\n",
       "    <tr>\n",
       "      <td>mobley_1017962</td>\n",
       "      <td>1.781592</td>\n",
       "      <td>-9.059647</td>\n",
       "      <td>3.780119</td>\n",
       "      <td>-1.056808</td>\n",
       "      <td>-1.528974</td>\n",
       "      <td>1.154161</td>\n",
       "      <td>2.361153</td>\n",
       "      <td>-2.700138</td>\n",
       "      <td>-5.169281</td>\n",
       "      <td>-2.558583</td>\n",
       "      <td>...</td>\n",
       "      <td>0.176910</td>\n",
       "      <td>0.448660</td>\n",
       "      <td>-0.481919</td>\n",
       "      <td>-0.730970</td>\n",
       "      <td>1.433422</td>\n",
       "      <td>-0.871800</td>\n",
       "      <td>-0.046023</td>\n",
       "      <td>0.146078</td>\n",
       "      <td>-0.985729</td>\n",
       "      <td>0.81</td>\n",
       "    </tr>\n",
       "    <tr>\n",
       "      <td>mobley_1019269</td>\n",
       "      <td>-15.261008</td>\n",
       "      <td>-4.347183</td>\n",
       "      <td>1.379246</td>\n",
       "      <td>0.645708</td>\n",
       "      <td>1.531135</td>\n",
       "      <td>0.856268</td>\n",
       "      <td>2.825631</td>\n",
       "      <td>1.283684</td>\n",
       "      <td>-3.142267</td>\n",
       "      <td>-1.366230</td>\n",
       "      <td>...</td>\n",
       "      <td>0.650525</td>\n",
       "      <td>-0.065040</td>\n",
       "      <td>-0.539433</td>\n",
       "      <td>0.367840</td>\n",
       "      <td>0.331124</td>\n",
       "      <td>0.003756</td>\n",
       "      <td>-0.432505</td>\n",
       "      <td>-0.340372</td>\n",
       "      <td>0.021577</td>\n",
       "      <td>-1.49</td>\n",
       "    </tr>\n",
       "    <tr>\n",
       "      <td>mobley_1034539</td>\n",
       "      <td>36.296153</td>\n",
       "      <td>18.307947</td>\n",
       "      <td>-16.146556</td>\n",
       "      <td>9.478137</td>\n",
       "      <td>5.356792</td>\n",
       "      <td>-1.551679</td>\n",
       "      <td>8.356573</td>\n",
       "      <td>-6.716154</td>\n",
       "      <td>-1.947512</td>\n",
       "      <td>7.365367</td>\n",
       "      <td>...</td>\n",
       "      <td>0.168824</td>\n",
       "      <td>0.777216</td>\n",
       "      <td>1.135480</td>\n",
       "      <td>0.712777</td>\n",
       "      <td>-0.498693</td>\n",
       "      <td>0.691487</td>\n",
       "      <td>-1.452439</td>\n",
       "      <td>0.096043</td>\n",
       "      <td>-1.621214</td>\n",
       "      <td>-1.96</td>\n",
       "    </tr>\n",
       "    <tr>\n",
       "      <td>mobley_1036761</td>\n",
       "      <td>-7.287637</td>\n",
       "      <td>-6.559314</td>\n",
       "      <td>-4.371576</td>\n",
       "      <td>-0.002275</td>\n",
       "      <td>1.794860</td>\n",
       "      <td>5.108000</td>\n",
       "      <td>0.532538</td>\n",
       "      <td>-1.465378</td>\n",
       "      <td>-2.029966</td>\n",
       "      <td>-1.791384</td>\n",
       "      <td>...</td>\n",
       "      <td>0.644729</td>\n",
       "      <td>0.141384</td>\n",
       "      <td>2.021007</td>\n",
       "      <td>0.251282</td>\n",
       "      <td>-0.186177</td>\n",
       "      <td>0.216360</td>\n",
       "      <td>-2.022736</td>\n",
       "      <td>-0.802692</td>\n",
       "      <td>-0.227339</td>\n",
       "      <td>-0.64</td>\n",
       "    </tr>\n",
       "    <tr>\n",
       "      <td>mobley_1046331</td>\n",
       "      <td>0.013096</td>\n",
       "      <td>5.160060</td>\n",
       "      <td>-0.553108</td>\n",
       "      <td>-8.828100</td>\n",
       "      <td>-1.271934</td>\n",
       "      <td>-2.744112</td>\n",
       "      <td>1.456818</td>\n",
       "      <td>0.573025</td>\n",
       "      <td>-3.004421</td>\n",
       "      <td>-1.923495</td>\n",
       "      <td>...</td>\n",
       "      <td>-0.823191</td>\n",
       "      <td>0.277780</td>\n",
       "      <td>1.177761</td>\n",
       "      <td>-0.455553</td>\n",
       "      <td>0.149812</td>\n",
       "      <td>-0.992073</td>\n",
       "      <td>-0.448685</td>\n",
       "      <td>-0.195229</td>\n",
       "      <td>0.616093</td>\n",
       "      <td>1.62</td>\n",
       "    </tr>\n",
       "    <tr>\n",
       "      <td>...</td>\n",
       "      <td>...</td>\n",
       "      <td>...</td>\n",
       "      <td>...</td>\n",
       "      <td>...</td>\n",
       "      <td>...</td>\n",
       "      <td>...</td>\n",
       "      <td>...</td>\n",
       "      <td>...</td>\n",
       "      <td>...</td>\n",
       "      <td>...</td>\n",
       "      <td>...</td>\n",
       "      <td>...</td>\n",
       "      <td>...</td>\n",
       "      <td>...</td>\n",
       "      <td>...</td>\n",
       "      <td>...</td>\n",
       "      <td>...</td>\n",
       "      <td>...</td>\n",
       "      <td>...</td>\n",
       "      <td>...</td>\n",
       "      <td>...</td>\n",
       "    </tr>\n",
       "    <tr>\n",
       "      <td>mobley_9913368</td>\n",
       "      <td>-20.236474</td>\n",
       "      <td>9.027594</td>\n",
       "      <td>-0.488696</td>\n",
       "      <td>6.984286</td>\n",
       "      <td>2.903779</td>\n",
       "      <td>-4.453868</td>\n",
       "      <td>1.557532</td>\n",
       "      <td>1.482581</td>\n",
       "      <td>-0.569213</td>\n",
       "      <td>-0.728069</td>\n",
       "      <td>...</td>\n",
       "      <td>0.662516</td>\n",
       "      <td>0.124512</td>\n",
       "      <td>-1.252097</td>\n",
       "      <td>0.093136</td>\n",
       "      <td>0.964358</td>\n",
       "      <td>1.117784</td>\n",
       "      <td>-0.596488</td>\n",
       "      <td>0.125104</td>\n",
       "      <td>-0.104126</td>\n",
       "      <td>-1.80</td>\n",
       "    </tr>\n",
       "    <tr>\n",
       "      <td>mobley_9942801</td>\n",
       "      <td>0.465744</td>\n",
       "      <td>-3.377600</td>\n",
       "      <td>-9.321441</td>\n",
       "      <td>-5.431455</td>\n",
       "      <td>0.795493</td>\n",
       "      <td>0.275491</td>\n",
       "      <td>-3.901344</td>\n",
       "      <td>-1.813911</td>\n",
       "      <td>3.214033</td>\n",
       "      <td>0.992900</td>\n",
       "      <td>...</td>\n",
       "      <td>0.550031</td>\n",
       "      <td>-0.060056</td>\n",
       "      <td>0.567654</td>\n",
       "      <td>0.528096</td>\n",
       "      <td>0.281406</td>\n",
       "      <td>-0.258472</td>\n",
       "      <td>0.607825</td>\n",
       "      <td>0.480860</td>\n",
       "      <td>-0.378041</td>\n",
       "      <td>-0.38</td>\n",
       "    </tr>\n",
       "    <tr>\n",
       "      <td>mobley_994483</td>\n",
       "      <td>-23.790773</td>\n",
       "      <td>3.251655</td>\n",
       "      <td>-1.631419</td>\n",
       "      <td>11.152238</td>\n",
       "      <td>3.508680</td>\n",
       "      <td>-7.857823</td>\n",
       "      <td>-2.714649</td>\n",
       "      <td>3.183763</td>\n",
       "      <td>0.001303</td>\n",
       "      <td>-1.865963</td>\n",
       "      <td>...</td>\n",
       "      <td>0.202422</td>\n",
       "      <td>-0.385468</td>\n",
       "      <td>0.059621</td>\n",
       "      <td>-1.176402</td>\n",
       "      <td>0.542244</td>\n",
       "      <td>0.026653</td>\n",
       "      <td>-1.198516</td>\n",
       "      <td>-0.103893</td>\n",
       "      <td>0.185989</td>\n",
       "      <td>-1.23</td>\n",
       "    </tr>\n",
       "    <tr>\n",
       "      <td>mobley_9974966</td>\n",
       "      <td>-7.485137</td>\n",
       "      <td>-8.419295</td>\n",
       "      <td>-3.439812</td>\n",
       "      <td>6.400467</td>\n",
       "      <td>-3.151041</td>\n",
       "      <td>3.133507</td>\n",
       "      <td>-4.384348</td>\n",
       "      <td>-3.678455</td>\n",
       "      <td>6.494977</td>\n",
       "      <td>6.819835</td>\n",
       "      <td>...</td>\n",
       "      <td>-0.746396</td>\n",
       "      <td>-0.626866</td>\n",
       "      <td>-1.084912</td>\n",
       "      <td>0.240855</td>\n",
       "      <td>-0.400569</td>\n",
       "      <td>-1.748269</td>\n",
       "      <td>-0.498583</td>\n",
       "      <td>-0.721052</td>\n",
       "      <td>-0.141620</td>\n",
       "      <td>-1.35</td>\n",
       "    </tr>\n",
       "    <tr>\n",
       "      <td>mobley_9979854</td>\n",
       "      <td>-5.298027</td>\n",
       "      <td>11.052041</td>\n",
       "      <td>19.860505</td>\n",
       "      <td>-2.104938</td>\n",
       "      <td>-3.803667</td>\n",
       "      <td>6.641799</td>\n",
       "      <td>-1.995134</td>\n",
       "      <td>-8.120011</td>\n",
       "      <td>5.450319</td>\n",
       "      <td>-2.381429</td>\n",
       "      <td>...</td>\n",
       "      <td>-2.059559</td>\n",
       "      <td>-1.528944</td>\n",
       "      <td>-0.728551</td>\n",
       "      <td>0.369873</td>\n",
       "      <td>0.012996</td>\n",
       "      <td>-0.453640</td>\n",
       "      <td>-0.613581</td>\n",
       "      <td>-0.294865</td>\n",
       "      <td>1.107766</td>\n",
       "      <td>-0.71</td>\n",
       "    </tr>\n",
       "  </tbody>\n",
       "</table>\n",
       "<p>601 rows × 112 columns</p>\n",
       "</div>"
      ],
      "text/plain": [
       "                      PC1        PC2        PC3        PC4       PC5  \\\n",
       "mobley_1017962   1.781592  -9.059647   3.780119  -1.056808 -1.528974   \n",
       "mobley_1019269 -15.261008  -4.347183   1.379246   0.645708  1.531135   \n",
       "mobley_1034539  36.296153  18.307947 -16.146556   9.478137  5.356792   \n",
       "mobley_1036761  -7.287637  -6.559314  -4.371576  -0.002275  1.794860   \n",
       "mobley_1046331   0.013096   5.160060  -0.553108  -8.828100 -1.271934   \n",
       "...                   ...        ...        ...        ...       ...   \n",
       "mobley_9913368 -20.236474   9.027594  -0.488696   6.984286  2.903779   \n",
       "mobley_9942801   0.465744  -3.377600  -9.321441  -5.431455  0.795493   \n",
       "mobley_994483  -23.790773   3.251655  -1.631419  11.152238  3.508680   \n",
       "mobley_9974966  -7.485137  -8.419295  -3.439812   6.400467 -3.151041   \n",
       "mobley_9979854  -5.298027  11.052041  19.860505  -2.104938 -3.803667   \n",
       "\n",
       "                     PC6       PC7       PC8       PC9      PC10  ...  \\\n",
       "mobley_1017962  1.154161  2.361153 -2.700138 -5.169281 -2.558583  ...   \n",
       "mobley_1019269  0.856268  2.825631  1.283684 -3.142267 -1.366230  ...   \n",
       "mobley_1034539 -1.551679  8.356573 -6.716154 -1.947512  7.365367  ...   \n",
       "mobley_1036761  5.108000  0.532538 -1.465378 -2.029966 -1.791384  ...   \n",
       "mobley_1046331 -2.744112  1.456818  0.573025 -3.004421 -1.923495  ...   \n",
       "...                  ...       ...       ...       ...       ...  ...   \n",
       "mobley_9913368 -4.453868  1.557532  1.482581 -0.569213 -0.728069  ...   \n",
       "mobley_9942801  0.275491 -3.901344 -1.813911  3.214033  0.992900  ...   \n",
       "mobley_994483  -7.857823 -2.714649  3.183763  0.001303 -1.865963  ...   \n",
       "mobley_9974966  3.133507 -4.384348 -3.678455  6.494977  6.819835  ...   \n",
       "mobley_9979854  6.641799 -1.995134 -8.120011  5.450319 -2.381429  ...   \n",
       "\n",
       "                   PC103     PC104     PC105     PC106     PC107     PC108  \\\n",
       "mobley_1017962  0.176910  0.448660 -0.481919 -0.730970  1.433422 -0.871800   \n",
       "mobley_1019269  0.650525 -0.065040 -0.539433  0.367840  0.331124  0.003756   \n",
       "mobley_1034539  0.168824  0.777216  1.135480  0.712777 -0.498693  0.691487   \n",
       "mobley_1036761  0.644729  0.141384  2.021007  0.251282 -0.186177  0.216360   \n",
       "mobley_1046331 -0.823191  0.277780  1.177761 -0.455553  0.149812 -0.992073   \n",
       "...                  ...       ...       ...       ...       ...       ...   \n",
       "mobley_9913368  0.662516  0.124512 -1.252097  0.093136  0.964358  1.117784   \n",
       "mobley_9942801  0.550031 -0.060056  0.567654  0.528096  0.281406 -0.258472   \n",
       "mobley_994483   0.202422 -0.385468  0.059621 -1.176402  0.542244  0.026653   \n",
       "mobley_9974966 -0.746396 -0.626866 -1.084912  0.240855 -0.400569 -1.748269   \n",
       "mobley_9979854 -2.059559 -1.528944 -0.728551  0.369873  0.012996 -0.453640   \n",
       "\n",
       "                   PC109     PC110     PC111  dGoffset (kcal/mol)  \n",
       "mobley_1017962 -0.046023  0.146078 -0.985729                 0.81  \n",
       "mobley_1019269 -0.432505 -0.340372  0.021577                -1.49  \n",
       "mobley_1034539 -1.452439  0.096043 -1.621214                -1.96  \n",
       "mobley_1036761 -2.022736 -0.802692 -0.227339                -0.64  \n",
       "mobley_1046331 -0.448685 -0.195229  0.616093                 1.62  \n",
       "...                  ...       ...       ...                  ...  \n",
       "mobley_9913368 -0.596488  0.125104 -0.104126                -1.80  \n",
       "mobley_9942801  0.607825  0.480860 -0.378041                -0.38  \n",
       "mobley_994483  -1.198516 -0.103893  0.185989                -1.23  \n",
       "mobley_9974966 -0.498583 -0.721052 -0.141620                -1.35  \n",
       "mobley_9979854 -0.613581 -0.294865  1.107766                -0.71  \n",
       "\n",
       "[601 rows x 112 columns]"
      ]
     },
     "execution_count": 5,
     "metadata": {},
     "output_type": "execute_result"
    }
   ],
   "source": [
    "train_df = pd.read_hdf(datasets_dr + 'train_data.h5', key='absolute')\n",
    "train_df"
   ]
  },
  {
   "cell_type": "markdown",
   "metadata": {},
   "source": [
    "### Cross validation"
   ]
  },
  {
   "cell_type": "code",
   "execution_count": 6,
   "metadata": {},
   "outputs": [],
   "source": [
    "def split_dataset(dataset, n_splits, random_state):\n",
    "    \"\"\"KFold implementation for pandas DataFrame.\n",
    "    (https://stackoverflow.com/questions/45115964/separate-pandas-dataframe-using-sklearns-kfold)\"\"\"\n",
    "    logging.info('Performing {}-fold cross-validation...'.format(n_splits))\n",
    "\n",
    "    kf = KFold(n_splits=n_splits, shuffle=True, random_state=random_state)\n",
    "\n",
    "    kfolds = []\n",
    "    global offset_col_name\n",
    "\n",
    "    for train, validate in kf.split(dataset):\n",
    "        training = dataset.iloc[train]\n",
    "        train_labels = training[label_col]\n",
    "        train_set = training.drop(label_col, axis=1)\n",
    "\n",
    "        validating = dataset.iloc[validate]\n",
    "        validate_labels = validating[label_col]\n",
    "        validate_set = validating.drop(label_col, axis=1)\n",
    "\n",
    "        kfolds.append(\n",
    "            [[train_set, validate_set],\n",
    "             [train_labels, validate_labels]]\n",
    "        )\n",
    "\n",
    "    with open(path + 'kfolds.json', \"wb\") as f:\n",
    "        pickle.dump(kfolds, f)\n",
    "\n",
    "    logging.info('Pickled kfolds nested list at {}kfolds.json.'.format(path))\n",
    "    return kfolds"
   ]
  },
  {
   "cell_type": "code",
   "execution_count": 7,
   "metadata": {},
   "outputs": [],
   "source": [
    "# call function\n",
    "kfolds = split_dataset(train_df, n_splits, random_state)"
   ]
  },
  {
   "cell_type": "markdown",
   "metadata": {},
   "source": [
    "## Training"
   ]
  },
  {
   "cell_type": "code",
   "execution_count": 8,
   "metadata": {},
   "outputs": [],
   "source": [
    "# init training statistics logger\n",
    "mae_logger = output_dr + model_type + '_statistics.csv'\n",
    "with open(mae_logger, 'w') as file:\n",
    "    writer = csv.writer(file)\n",
    "    writer.writerow(['Fold', 'MAE (kcal/mol)', 'Parameters'])"
   ]
  },
  {
   "cell_type": "markdown",
   "metadata": {},
   "source": [
    "### Hyper-parameter ranges"
   ]
  },
  {
   "cell_type": "code",
   "execution_count": 9,
   "metadata": {},
   "outputs": [],
   "source": [
    "# set hyper-parameter ranges, append to list\n",
    "dim_param_C = Categorical(categories=list(np.logspace(-3, 2, 6, dtype=\"float32\")), name=\"param_C\")\n",
    "dim_param_gamma = Categorical(categories=list(np.logspace(-3, 2, 6, dtype=\"float32\")), name=\"param_gamma\")\n",
    "dim_param_epsilon = Categorical(categories=list(np.logspace(-3, 2, 6, dtype=\"float32\")), name=\"param_epsilon\")\n",
    "\n",
    "# gp_minimize dimensions\n",
    "dimensions = [dim_param_C, dim_param_gamma, dim_param_epsilon]"
   ]
  },
  {
   "cell_type": "markdown",
   "metadata": {},
   "source": [
    "### SVR model"
   ]
  },
  {
   "cell_type": "code",
   "execution_count": 10,
   "metadata": {},
   "outputs": [],
   "source": [
    "def create_model(param_gamma, param_C, param_epsilon):\n",
    "    \"\"\"Returns a SVR class instance.\"\"\"\n",
    "    \n",
    "    return SVR(kernel=kernel,\n",
    "               gamma=param_gamma,\n",
    "               C=param_C,\n",
    "               epsilon=param_epsilon,\n",
    "               verbose=False)"
   ]
  },
  {
   "cell_type": "markdown",
   "metadata": {},
   "source": [
    "### Training function"
   ]
  },
  {
   "cell_type": "code",
   "execution_count": 11,
   "metadata": {},
   "outputs": [],
   "source": [
    "class tqdm_skopt(object):\n",
    "    \"\"\"tqdm implementation for skopt.gp_minimize\"\"\"\n",
    "    def __init__(self, **kwargs):\n",
    "        self._bar = tqdm(**kwargs)\n",
    "        \n",
    "    def __call__(self, res):\n",
    "        self._bar.update()"
   ]
  },
  {
   "cell_type": "code",
   "execution_count": 12,
   "metadata": {},
   "outputs": [],
   "source": [
    "def train_model(fold, fold_num):\n",
    "    \"\"\"\n",
    "    1. Unpack data.\n",
    "    2. Define fitness function for guassian process optmisation.\n",
    "    3. Decorate fitness with pre-defined hyper-parameter ranges.\n",
    "    4. Return and pickle final gp_minimize object.\n",
    "    \"\"\"\n",
    "    logging.info('Started training fold {}...'.format(str(fold_num)))\n",
    "\n",
    "    # retrieve data sets and convert to numpy array\n",
    "    train_X = fold[0][0].values\n",
    "    validate_X = fold[0][1].values\n",
    "    train_y = fold[1][0].values\n",
    "    validate_y = fold[1][1].values\n",
    "    \n",
    "    # define function for gaussian process optimisation\n",
    "    @use_named_args(dimensions=dimensions)\n",
    "    def fitness(param_C, param_gamma, param_epsilon):\n",
    "        \"\"\"Function for gaussian process optmisation.\"\"\"\n",
    "\n",
    "        # create SVR model\n",
    "        model = create_model(param_C, param_gamma, param_epsilon)\n",
    "\n",
    "        # train model on training data\n",
    "        model.fit(train_X, train_y)\n",
    "\n",
    "        # validate model\n",
    "        predicted_y = model.predict(validate_X)\n",
    "        mae = mean_absolute_error(validate_y, predicted_y)\n",
    "\n",
    "        # update statistics\n",
    "        with open(output_dr + model_type + '_statistics.csv', 'a') as file:\n",
    "            writer = csv.writer(file)\n",
    "            writer.writerow([fold_num, mae, [param_gamma, param_gamma, param_epsilon]])\n",
    "\n",
    "        # check if model improves\n",
    "        global best_mae\n",
    "        if mae < best_mae:\n",
    "            # update new model accuracy.\n",
    "            best_mae = mae\n",
    "            # overwrite model if mae improves\n",
    "            pkl_file = output_dr + 'fold_' + str(fold_num) + '_' + model_type + '_model.pickle'\n",
    "            with open(pkl_file, 'wb') as file: pickle.dump(model, file)\n",
    "            logging.info('Saved {}.'.format(pkl_file))\n",
    "\n",
    "        # reset best MAE\n",
    "        best_mae = np.inf\n",
    "        \n",
    "        return mae\n",
    "    \n",
    "    # starting parameters\n",
    "    default_parameters = [1.0, 1.0, 1.0]\n",
    "    # optimise hyper-parameters\n",
    "    search_result = gp_minimize(func=fitness,\n",
    "                                dimensions=dimensions,\n",
    "                                acq_func='EI',  # Expected Improvement.\n",
    "                                n_calls=n_calls,\n",
    "                                x0=default_parameters,\n",
    "                                verbose=False,\n",
    "                                callback=[tqdm_skopt(total=n_calls, desc='Fold {}'.format(fold_num))])\n",
    "\n",
    "    # save skopt object and analyse in a separate script as\n",
    "    logging.info('Saved {}fold_{}_gp_minimize_result.pickle.'.format(output_dr, fold_num))\n",
    "\n",
    "    logging.info('Finished training fold {}: {}.'.format(str(fold_num), search_result.x))\n",
    "    return search_result"
   ]
  },
  {
   "cell_type": "markdown",
   "metadata": {},
   "source": [
    "### Perform training per fold"
   ]
  },
  {
   "cell_type": "code",
   "execution_count": 13,
   "metadata": {
    "scrolled": true
   },
   "outputs": [
    {
     "data": {
      "application/vnd.jupyter.widget-view+json": {
<<<<<<< HEAD
       "model_id": "4e987c81471541b5a260ab3c7023b5ac",
=======
       "model_id": "6547fd7b29934fe8974a3b2c981355fd",
>>>>>>> 785c424943fa901575ffe00fbf82422569e86ce6
       "version_major": 2,
       "version_minor": 0
      },
      "text/plain": [
       "HBox(children=(IntProgress(value=0, description='Fold 1', max=60, style=ProgressStyle(description_width='initi…"
      ]
     },
     "metadata": {},
     "output_type": "display_data"
    },
    {
<<<<<<< HEAD
     "data": {
      "application/vnd.jupyter.widget-view+json": {
       "model_id": "2fa24e6653494b678f946de90010683c",
=======
     "name": "stderr",
     "output_type": "stream",
     "text": [
      "/home/wwu/anaconda3/envs/freesolv/lib/python3.7/site-packages/skopt/optimizer/optimizer.py:399: UserWarning: The objective has been evaluated at this point before.\n",
      "  warnings.warn(\"The objective has been evaluated \"\n",
      "/home/wwu/anaconda3/envs/freesolv/lib/python3.7/site-packages/skopt/optimizer/optimizer.py:399: UserWarning: The objective has been evaluated at this point before.\n",
      "  warnings.warn(\"The objective has been evaluated \"\n",
      "/home/wwu/anaconda3/envs/freesolv/lib/python3.7/site-packages/ipykernel_launcher.py:4: TqdmDeprecationWarning: This function will be removed in tqdm==5.0.0\n",
      "Please use `tqdm.notebook.tqdm` instead of `tqdm.tqdm_notebook`\n",
      "  after removing the cwd from sys.path.\n"
     ]
    },
    {
     "data": {
      "application/vnd.jupyter.widget-view+json": {
       "model_id": "2d2c50504c814a41b61806d221bd9770",
>>>>>>> 785c424943fa901575ffe00fbf82422569e86ce6
       "version_major": 2,
       "version_minor": 0
      },
      "text/plain": [
       "HBox(children=(IntProgress(value=0, description='Fold 2', max=60, style=ProgressStyle(description_width='initi…"
      ]
     },
     "metadata": {},
     "output_type": "display_data"
    },
    {
     "name": "stderr",
     "output_type": "stream",
     "text": [
      "/Users/wilsonwu/anaconda3/envs/freesolv/lib/python3.7/site-packages/skopt/optimizer/optimizer.py:399: UserWarning: The objective has been evaluated at this point before.\n",
      "  warnings.warn(\"The objective has been evaluated \"\n",
      "/Users/wilsonwu/anaconda3/envs/freesolv/lib/python3.7/site-packages/skopt/optimizer/optimizer.py:399: UserWarning: The objective has been evaluated at this point before.\n",
      "  warnings.warn(\"The objective has been evaluated \"\n",
      "/Users/wilsonwu/anaconda3/envs/freesolv/lib/python3.7/site-packages/skopt/optimizer/optimizer.py:399: UserWarning: The objective has been evaluated at this point before.\n",
      "  warnings.warn(\"The objective has been evaluated \"\n",
      "/Users/wilsonwu/anaconda3/envs/freesolv/lib/python3.7/site-packages/skopt/optimizer/optimizer.py:399: UserWarning: The objective has been evaluated at this point before.\n",
      "  warnings.warn(\"The objective has been evaluated \"\n"
     ]
    },
    {
     "data": {
      "application/vnd.jupyter.widget-view+json": {
<<<<<<< HEAD
       "model_id": "0722c5fd345f432a8477ca0b751b89be",
=======
       "model_id": "79996709e84e4d1582899efe39608b67",
>>>>>>> 785c424943fa901575ffe00fbf82422569e86ce6
       "version_major": 2,
       "version_minor": 0
      },
      "text/plain": [
       "HBox(children=(IntProgress(value=0, description='Fold 3', max=60, style=ProgressStyle(description_width='initi…"
      ]
     },
     "metadata": {},
     "output_type": "display_data"
    },
    {
     "name": "stderr",
     "output_type": "stream",
     "text": [
      "/Users/wilsonwu/anaconda3/envs/freesolv/lib/python3.7/site-packages/skopt/optimizer/optimizer.py:399: UserWarning: The objective has been evaluated at this point before.\n",
      "  warnings.warn(\"The objective has been evaluated \"\n",
      "/Users/wilsonwu/anaconda3/envs/freesolv/lib/python3.7/site-packages/skopt/optimizer/optimizer.py:399: UserWarning: The objective has been evaluated at this point before.\n",
      "  warnings.warn(\"The objective has been evaluated \"\n",
      "/Users/wilsonwu/anaconda3/envs/freesolv/lib/python3.7/site-packages/skopt/optimizer/optimizer.py:399: UserWarning: The objective has been evaluated at this point before.\n",
      "  warnings.warn(\"The objective has been evaluated \"\n",
      "/Users/wilsonwu/anaconda3/envs/freesolv/lib/python3.7/site-packages/skopt/optimizer/optimizer.py:399: UserWarning: The objective has been evaluated at this point before.\n",
      "  warnings.warn(\"The objective has been evaluated \"\n",
      "/Users/wilsonwu/anaconda3/envs/freesolv/lib/python3.7/site-packages/skopt/optimizer/optimizer.py:399: UserWarning: The objective has been evaluated at this point before.\n",
      "  warnings.warn(\"The objective has been evaluated \"\n"
     ]
    },
    {
     "data": {
      "application/vnd.jupyter.widget-view+json": {
<<<<<<< HEAD
       "model_id": "2479c07b32f0469a9847df5c45f13aad",
=======
       "model_id": "780dd4ec625245d7b22f3c8703a086d4",
>>>>>>> 785c424943fa901575ffe00fbf82422569e86ce6
       "version_major": 2,
       "version_minor": 0
      },
      "text/plain": [
       "HBox(children=(IntProgress(value=0, description='Fold 4', max=60, style=ProgressStyle(description_width='initi…"
      ]
     },
     "metadata": {},
     "output_type": "display_data"
    },
    {
     "name": "stderr",
     "output_type": "stream",
     "text": [
      "/Users/wilsonwu/anaconda3/envs/freesolv/lib/python3.7/site-packages/skopt/optimizer/optimizer.py:399: UserWarning: The objective has been evaluated at this point before.\n",
      "  warnings.warn(\"The objective has been evaluated \"\n",
      "/Users/wilsonwu/anaconda3/envs/freesolv/lib/python3.7/site-packages/skopt/optimizer/optimizer.py:399: UserWarning: The objective has been evaluated at this point before.\n",
      "  warnings.warn(\"The objective has been evaluated \"\n",
      "/Users/wilsonwu/anaconda3/envs/freesolv/lib/python3.7/site-packages/skopt/optimizer/optimizer.py:399: UserWarning: The objective has been evaluated at this point before.\n",
      "  warnings.warn(\"The objective has been evaluated \"\n",
<<<<<<< HEAD
      "/Users/wilsonwu/anaconda3/envs/freesolv/lib/python3.7/site-packages/skopt/optimizer/optimizer.py:399: UserWarning: The objective has been evaluated at this point before.\n",
      "  warnings.warn(\"The objective has been evaluated \"\n",
      "/Users/wilsonwu/anaconda3/envs/freesolv/lib/python3.7/site-packages/skopt/optimizer/optimizer.py:399: UserWarning: The objective has been evaluated at this point before.\n",
      "  warnings.warn(\"The objective has been evaluated \"\n"
=======
      "/home/wwu/anaconda3/envs/freesolv/lib/python3.7/site-packages/skopt/optimizer/optimizer.py:399: UserWarning: The objective has been evaluated at this point before.\n",
      "  warnings.warn(\"The objective has been evaluated \"\n",
      "/home/wwu/anaconda3/envs/freesolv/lib/python3.7/site-packages/skopt/optimizer/optimizer.py:399: UserWarning: The objective has been evaluated at this point before.\n",
      "  warnings.warn(\"The objective has been evaluated \"\n",
      "/home/wwu/anaconda3/envs/freesolv/lib/python3.7/site-packages/ipykernel_launcher.py:4: TqdmDeprecationWarning: This function will be removed in tqdm==5.0.0\n",
      "Please use `tqdm.notebook.tqdm` instead of `tqdm.tqdm_notebook`\n",
      "  after removing the cwd from sys.path.\n"
>>>>>>> 785c424943fa901575ffe00fbf82422569e86ce6
     ]
    },
    {
     "data": {
      "application/vnd.jupyter.widget-view+json": {
<<<<<<< HEAD
       "model_id": "18eaef357b1545c68f694495ee8beb29",
=======
       "model_id": "af8e0ec3bfa44a1e927214340c59ae8c",
>>>>>>> 785c424943fa901575ffe00fbf82422569e86ce6
       "version_major": 2,
       "version_minor": 0
      },
      "text/plain": [
       "HBox(children=(IntProgress(value=0, description='Fold 5', max=60, style=ProgressStyle(description_width='initi…"
      ]
     },
     "metadata": {},
     "output_type": "display_data"
    },
    {
     "name": "stderr",
     "output_type": "stream",
     "text": [
      "/Users/wilsonwu/anaconda3/envs/freesolv/lib/python3.7/site-packages/skopt/optimizer/optimizer.py:399: UserWarning: The objective has been evaluated at this point before.\n",
      "  warnings.warn(\"The objective has been evaluated \"\n",
      "/Users/wilsonwu/anaconda3/envs/freesolv/lib/python3.7/site-packages/skopt/optimizer/optimizer.py:399: UserWarning: The objective has been evaluated at this point before.\n",
      "  warnings.warn(\"The objective has been evaluated \"\n",
      "/Users/wilsonwu/anaconda3/envs/freesolv/lib/python3.7/site-packages/skopt/optimizer/optimizer.py:399: UserWarning: The objective has been evaluated at this point before.\n",
      "  warnings.warn(\"The objective has been evaluated \"\n",
<<<<<<< HEAD
      "/Users/wilsonwu/anaconda3/envs/freesolv/lib/python3.7/site-packages/skopt/optimizer/optimizer.py:399: UserWarning: The objective has been evaluated at this point before.\n",
=======
      "/home/wwu/anaconda3/envs/freesolv/lib/python3.7/site-packages/skopt/optimizer/optimizer.py:399: UserWarning: The objective has been evaluated at this point before.\n",
      "  warnings.warn(\"The objective has been evaluated \"\n",
      "/home/wwu/anaconda3/envs/freesolv/lib/python3.7/site-packages/skopt/optimizer/optimizer.py:399: UserWarning: The objective has been evaluated at this point before.\n",
      "  warnings.warn(\"The objective has been evaluated \"\n",
      "/home/wwu/anaconda3/envs/freesolv/lib/python3.7/site-packages/skopt/optimizer/optimizer.py:399: UserWarning: The objective has been evaluated at this point before.\n",
>>>>>>> 785c424943fa901575ffe00fbf82422569e86ce6
      "  warnings.warn(\"The objective has been evaluated \"\n"
     ]
    }
   ],
   "source": [
    "# call train_model save gp_minimize objects to lsit\n",
    "gp_results = [train_model(fold, fold_num + 1) for fold_num, fold in enumerate(kfolds)]"
   ]
  },
  {
   "cell_type": "markdown",
   "metadata": {},
   "source": [
    "## Hyper-parameter search space"
   ]
  },
  {
   "cell_type": "markdown",
   "metadata": {},
   "source": [
    "### Convergence plot"
   ]
  },
  {
   "cell_type": "code",
   "execution_count": 25,
   "metadata": {},
   "outputs": [
    {
     "data": {
<<<<<<< HEAD
      "image/png": "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\n",
=======
      "image/png": "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\n",
>>>>>>> 785c424943fa901575ffe00fbf82422569e86ce6
      "text/plain": [
       "<Figure size 432x288 with 1 Axes>"
      ]
     },
     "metadata": {
      "needs_background": "light"
     },
     "output_type": "display_data"
    }
   ],
   "source": [
<<<<<<< HEAD
    "for result in gp_results:\n",
    "    plot_convergence(result)\n",
    "plt.savefig(figures_dr + 'convergnece_plot.png')"
=======
    "for result in gp_results: plot_convergence(result)\n",
    "plt.savefig(figures_dr + 'convergence_plot.png')"
>>>>>>> 785c424943fa901575ffe00fbf82422569e86ce6
   ]
  },
  {
   "cell_type": "markdown",
   "metadata": {},
   "source": [
    "## External testing"
   ]
  },
  {
   "cell_type": "code",
   "execution_count": 15,
   "metadata": {},
   "outputs": [],
   "source": [
    "def plot_scatter(x, y, title, x_label, y_label):\n",
    "    \"\"\"\n",
    "    Returns and saves linear regression scatter plot.\n",
    "    x: (list) calculated or predicted data.\n",
    "    y: (list) true or experimental data.\n",
    "    title: (str) plot title and filename delimitted by underscores. Avoid special characters.\n",
    "    x_label: (str) x-axis label.\n",
    "    y_label: (str) y-axis label.\n",
    "    \"\"\"\n",
    "    \n",
    "    # plot scatter\n",
    "    plt.figure()\n",
    "    plt.scatter(x, y, color='black', s=8)\n",
    "\n",
    "    # plot line of best fit\n",
    "    # https://stackoverflow.com/questions/22239691/code-for-best-fit-straight-line-of-a-scatter-plot-in-python\n",
    "    plt.plot(np.unique(x),\n",
    "             np.poly1d(np.polyfit(x, y, 1))(np.unique(x)),\n",
    "             color='black', linewidth=1)\n",
    "\n",
    "    # axis labels\n",
    "    plt.xlabel(x_label)\n",
    "    plt.ylabel(y_label)\n",
    "\n",
    "    # figure title\n",
    "    plt.title(title)\n",
    "\n",
    "    # absolute error\n",
    "    ae = [abs(i - j) for i, j in zip(x, y)]\n",
    "    # mean absolute error\n",
    "    mae = statistics.mean(ae)\n",
    "    \n",
    "    # R-squared\n",
    "    slope, intercept, r_value, p_value, std_err = scipy.stats.linregress(y, x)\n",
    "    r2 = r_value**2\n",
    "\n",
    "    # annotate with r-squared and MAE\n",
    "    string = 'R-squared = {}\\nMAE = {}'.format(round(r2, 4), round(mae, 4))\n",
    "    plt.annotate(string, xy=(0, 1),\n",
    "                 xytext=(12, -12), va='top',\n",
    "                 xycoords='axes fraction',\n",
    "                 textcoords='offset points')\n",
    "\n",
    "    filename = figures_dr + str(title).lower().replace(' ', '_') + '.png'\n",
    "    plt.savefig(filename)\n",
    "    logging.info('Saved {}.'.format(filename))"
   ]
  },
  {
   "cell_type": "markdown",
   "metadata": {},
   "source": [
    "### Load testing data"
   ]
  },
  {
   "cell_type": "markdown",
   "metadata": {},
   "source": [
    "#### FreeSolve database"
   ]
  },
  {
   "cell_type": "code",
   "execution_count": 16,
   "metadata": {},
   "outputs": [],
   "source": [
    "# load freesolv\n",
    "freesolv_df = pd.read_csv(freesolv_loc, sep='; ', engine='python', index_col='compound id (and file prefix)')\n",
    "# index\n",
    "fs_id = freesolv_df.index\n",
    "# experimentally determined dGhydr\n",
    "fs_exp = freesolv_df.iloc[:, 2].tolist()\n",
    "# computationally calculated dGhydr\n",
    "fs_calc = freesolv_df.iloc[:, 4].tolist()"
   ]
  },
  {
   "cell_type": "markdown",
   "metadata": {},
   "source": [
    "#### External test set"
   ]
  },
  {
   "cell_type": "markdown",
   "metadata": {},
   "source": [
    "##### FreeSolve format"
   ]
  },
  {
   "cell_type": "code",
   "execution_count": 17,
   "metadata": {},
   "outputs": [],
   "source": [
    "# SAMPL4_Gurthrie df\n",
    "test_fs_df = freesolv_df.loc[freesolv_df.iloc[:, 6] == 'SAMPL4_Guthrie'].sort_index()\n",
    "# SAMPL4_Gurthrie experimentally determined dGhydr\n",
    "test_exp = test_fs_df.iloc[:, 2].tolist()\n",
    "# SAMPL4_Gurthrie computationally calculated dGhydr\n",
    "test_calc = test_fs_df.iloc[:, 4].tolist()"
   ]
  },
  {
   "cell_type": "markdown",
   "metadata": {},
   "source": [
    "##### Features and labels format"
   ]
  },
  {
   "cell_type": "code",
   "execution_count": 18,
   "metadata": {},
   "outputs": [],
   "source": [
    "# load external testing data\n",
    "test_df = pd.read_hdf(datasets_dr + 'test_data.h5', key='absolute').sort_index()\n",
    "# unpack testing set\n",
    "test_id = test_df.index.tolist()\n",
    "# features\n",
    "test_X = test_df.drop(columns=label_col).values\n",
    "# true computationally calculated labels\n",
    "test_y = test_df[label_col].values"
   ]
  },
  {
   "cell_type": "markdown",
   "metadata": {},
   "source": [
    "### Original $\\Delta G_{hydr}$"
   ]
  },
  {
   "cell_type": "code",
   "execution_count": 19,
   "metadata": {},
   "outputs": [
    {
     "data": {
      "image/png": "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\n",
      "text/plain": [
       "<Figure size 432x288 with 1 Axes>"
      ]
     },
     "metadata": {
      "needs_background": "light"
     },
     "output_type": "display_data"
    }
   ],
   "source": [
    "plot_scatter(x=test_calc,\n",
    "             y=test_exp,\n",
    "             title='Original test set hydraton free energy',\n",
    "             x_label='Predicted $\\Delta G_{hydr}$ / kcal mol$^{-1}$',\n",
    "             y_label='Experimental $\\Delta G_{hydr}$ / kcal mol$^{-1}$')"
   ]
  },
  {
   "cell_type": "markdown",
   "metadata": {},
   "source": [
    "### Predict $\\Delta G_{offset}$"
   ]
  },
  {
   "cell_type": "code",
   "execution_count": 20,
   "metadata": {},
   "outputs": [],
   "source": [
    "def model_predict(model_num, test_entry):\n",
    "    \"\"\"Load model from pickle and return model prediction on a given test_entry.\"\"\"\n",
    "\n",
    "    with open(output_dr + 'fold_' + str(model_num) + '_' + model_type + '_model.pickle', 'rb') as f:\n",
    "        model = pickle.load(f)\n",
    "\n",
    "    return model.predict(test_entry)"
   ]
  },
  {
   "cell_type": "code",
   "execution_count": 21,
   "metadata": {},
   "outputs": [],
   "source": [
    "# ML predicted labels nested list per fold\n",
    "predict_per_fold = [model_predict(fold_num, test_X) for fold_num in range(1, n_splits + 1)]\n",
    "# average ML predicted labels\n",
    "predict_y = np.average(predict_per_fold, axis=0)\n",
    "# convert np array to float\n",
    "predict_y = [float(x) for x in predict_y]"
   ]
  },
  {
   "cell_type": "code",
   "execution_count": 22,
   "metadata": {},
   "outputs": [
    {
     "data": {
<<<<<<< HEAD
      "image/png": "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\n",
=======
      "image/png": "iVBORw0KGgoAAAANSUhEUgAAAYoAAAEcCAYAAADZQfNOAAAABHNCSVQICAgIfAhkiAAAAAlwSFlzAAALEgAACxIB0t1+/AAAADh0RVh0U29mdHdhcmUAbWF0cGxvdGxpYiB2ZXJzaW9uMy4xLjEsIGh0dHA6Ly9tYXRwbG90bGliLm9yZy8QZhcZAAAgAElEQVR4nO3dd3xUVfr48c9D6CxSBCx0lSJiCE1EREQEFFEsKGABFL7Krr0AYfmti65uQlOaNGEFFwQpYkMRFFjQFRUwdAl9aYJ0kJ48vz/uTRzCZDKTzGQmmef9es2Lmbn3nvvcO2GeOefcc66oKsYYY0xmCoQ7AGOMMZHNEoUxxhifLFEYY4zxyRKFMcYYnyxRGGOM8ckShTHGGJ8sUUQBEdkuIrf7WP5nEdknIidE5NLcjC2cRERF5Br3+VgR+Vsu7LO7iHwb6v1EMhF5Q0QOiMiv7uv7RGSn+/dXP9zxmYtZoohyIlIIeAtoo6p/UtWDXtbpISK/iMhxN6HMFZGSItJPRJZ4Wb+ciJwVkbruF6OKyFsZ1rnXfX9SyA4uAKraS1X/kdV6IrJYRHqGIgYRqeaek4JBKGuSiLwRjLgylHuriOzKwfaVgZeBOqp6ufv2EOAZ9+/v52yWG7RzZy5miSIf8/M/zWVAUWBdJmW0AP4JdFHVksC1wAx38b+Bm0SkeobNOgNrVHWt+3oL0ClDPF2BZL8OxA8iEhOsskxIVQUOqur+DO95/fszkcESRT7jNjP1FZHVwO8eX86NRWS9iBwWkfdEpKiI1AQ2usuPiMhCL0U2Br5P+6WnqodUdbKqHlfVXcBC4LEM23QFJnu8/hVYA7R1YywL3AR86uM4bhWRXSLyV7eZYruIPOKxfJKIjBGRL0Tkd6CliBQRkSEi8j+35jNWRIp5bNNbRPaKyB4ReSLD/i74BS4iHUQkSUSOicgWEblDRN4EmgOj3GaSUe66tUVkgYgcEpGNIvKQRzmXisinbjk/AldndsxAWu3siFt+U7eMJ0Rkg/vZfSUiVd33RUTeFpH9InJURFa7tbgngUeAPm45n3k5v163dZd5PY8iUgL4ErjSLfeEiFzppexSIvK+iPwmIjtE5P+JSAFxmj8XeGw/TUROADHAKhHZ4m7fV0R2i1OD3Sgirdz3C4hIvPt5HBSRGe7fktdzJyLXiMh/3OM7ICIf+jj3xhdVtUc+egDbgSSgMlDM47217ntlge+AN9xl1QAFCmZSXnPgFPAa0AwokmH5I8Amj9e1gLNAefd1d+Bb4GHgQ/e9vwDjgDeASZns91bgPE6zWBGgBfA7UMtdPgk46sZUAKdWNAwn+ZQFSgKfAQnu+ncA+4C6QAngA/e4r/EoL+2c3OCW3dotuyJQ2122GOjpEWcJYCfwOFAQaAAcAK5zl0/HqYGVcPe9G/g2k2O+6LMA7gU249TkCgL/D/ivu6wtsAIoDYi7zhUZjyeTffna1td5vBXYlcXf4PvAJ+621XBqjj0y2z7D51DLPZ9XepyTq93nLwDLgEru38Q4YJqPczcN6O/x93FzuP9/5tVH2AOwR5A/UCcpPOHlvV4er9sBW9znF/0H81Lmne6XxRHgBM6Xd4y7rDhwDLjJff0m8InHtt1xEkUxnC/qUu5/9mb4lyhKeLw3A/ib+3wS8L7HMsFJJFd7vNcU2OY+/xeQ6LGsJpkninHA25nEtZgLE0UnYGmGdcYBf8f5pXwON8m4y/5JYIniS9wvWfd1AeAkTnPNbThfwjcCBTKUlX48mezL67Z+nMdb8ZEo3GM+g9MHkfbeU8DizLbP8DlcA+wHbgcKZVhvA9DK4/UV7vktmMm5ex8YD1QK9//LvP6wpqf8aWcW7+0ALmoyyIyqfqmqd+P8wuyA8+Xf0112EpgJdBURwalhTPZSxilgLs4v4nKq+p0fuz6sqr/7iNvzmMrjJK0VInJERI4A89z3cbfLeA4yUxmnX8UfVYEmaft09/sIcLm774IB7Dez8od7lH0I58u8oqouBEYB7wD7RGS8iFziT6E+ts3qPGalHFCYC49zB06tzJ+4NuPUHAYA+0VkukfzVlVgjkdcG4AUnH42b/rgnKsfRWRdxuZG4z9LFPmTtymBK3s8rwLsCbhQ1VRV/QanX6Kux6LJwEM4TTUlgc8zKeJ9nCte/u3nLsu47eJpMsbteZwHcJrIrlPV0u6jlKr+yV2+l4vPQWZ2knlfQsZzuxP4j8c+S6tz9c6fgd9wakX+7tfb57YTeCpD+cVU9b8AqjpCVRsC1+HUknr7KOvCnXnfNqvzmFW5B3B+5Vf1eK8KTpObX1T1A1W92S1DgYHuop3AnRnORVFV3e0tLlX9VVX/T1WvxKnVjBb3cmgTGEsU0eNpEankdv79FfCrY8/t1O0sImXcDtAbcPoLlnmsthSnWWo8MF1Vz2ZS3H9wksnIAOJ+TUQKi0hzoD1O7eUiqpoKvAu8LSIV3Ngrikhbd5UZQHcRqSMixXGahjIzEXhcRFq5HagVRaS2u2wfcJXHup8DNUXkMREp5D4ai8i1qpoCfAQMEJHiIlIH6OZjv78BqRnKHwv0E5Hr3GMqJSIPus8bi0gTcS5x/h04jfML21ucF8hsWz/O4z7gUhEp5a1c95hnAG+Kcwl1VeAlYIqP4/aMq5aI3CYiRdyYTnkc01i33LTO/PIi0sFddtG5E5EHRaSS+/IwTjJJK8sEwBJF9PgAmA9sdR/+XmN/GPg/YBNOX8QUYLCqTk1bQVUVp7ZQ1f3XK3V8o6qH/Nz3r+7+9wBTcfpZfvGxfl+cjt9lInIM+BqncxRV/RKnk3ahu463K7zS4vwRp3P6bZxO7f/wxy/k4UBHca5AGqGqx4E2OJcE73FjHojT2QrwDPAn9/1JwHs+9nsSp4/nO7d55UZVneOWN909prU4fUYAl+B8qR/Gad45iDMmAZxkV8ct52Mvu/O1ra/z+AtOJ/FWt2xvTZjP4iSfrTj9Ux/g9BH5owiQiFMz+RWogPPDBpxz/ykwX0SO4/xYaeLGddG5w7li7wf3yqpPgedVdZufcRgP4vwfNyayiMitwBRVrZTVusaY0LIahTHGGJ8sURhjjPHJmp6MMcb4ZDUKY4wxPlmiMMYY41O+mJK3XLlyWq1atXCHYYwxecqKFSsOqGqWo+7zRaKoVq0ay5cvD3cYxhiTp4iIX1PKWNOTMcYYnyxRGGOM8ckShTHGGJ8sURhjjPHJEoUxxhifLFEYY4zxyRKFMSbiJCcnM3HiRJKTk8MdiiGCx1GISAywHNitqu3DHY8xJnckJyfToEEDVBURYeXKldSsWTPcYUW1SK5RPI9zT1xjTBRZunQpqsrJkydRVZYuXRrukKJeRCYK9/aFdwETwh2LMSZ3NW/eHBGhePHiiAjNmzcPd0hRLyITBc4tK/vg3APXKxF5UkSWi8jy3377LeAdxMTEEBcXR926dbn77rs5cuRIDsLNfd27d2fWrFk5Lmfy5MnUqFGDGjVqMHnyZJ/rDhkyBBHhwIEDAAwePJi4uLj08xgTE8OhQ3/c5TQlJYX69evTvv0fLYc9evSgXr16xMbG0rFjR06cOJHjYzD5S82aNVm5ciUjRoywZqcIEXGJQkTaA/tVdYWv9VR1vKo2UtVG5ctnOafVRYoVK0ZSUhJr166lbNmyvPPOO9kNOWjOnz+fq/s7dOgQr732Gj/88AM//vgjr732GocPH/a67s6dO1mwYAFVqlRJf693794kJSWRlJREQkICLVq0oGzZsunLhw8fzrXXXntBOW+//TarVq1i9erVVKlShVGjRoXm4EyeVrNmTXr06GFJIkJEXKIAmgH3iMh2YDpwm4hMCeUOmzZtyu7du70umzlzJnXr1qVevXrccsstAJw6dYrOnTsTGxtLp06daNKkSfqkhH/605/St501axbdu3cH4LPPPqNJkybUr1+f22+/nX379gEwYMAAnnzySdq0aUPXrl1JSUmhd+/eNG7cmNjYWMaNGweAqvLMM89Qp04d7rrrLvbv35/j4/7qq69o3bo1ZcuWpUyZMrRu3Zp58+Z5XffFF19k0KBBiIjX5dOmTaNLly7pr3ft2sXcuXPp2bPnBetdcskl6cdz6tSpTMszxkSOiLvqSVX7Af0ARORW4BVVfTRU+0tJSeGbb76hR48eXpe//vrrfPXVV1SsWDG9eWrMmDEUL16c1atXs3r1aho0aJDlfm6++WaWLVuGiDBhwgQGDRrE0KFDAVixYgXffvstxYoVY/z48ZQqVYqffvqJM2fO0KxZM9q0acPPP//Mxo0bWbNmDfv27aNOnTo88cQTF+1n8ODBTJ069aL3b7nlFkaMGHHBe7t376Zy5crprytVquQ1YX766adUrFiRevXqeT22kydPMm/evAtqBy+88AKDBg3i+PHjF63/+OOP88UXX1CnTp30c2CMiVwRlyhyy6lTp4iLi2P79u00bNiQ1q1be12vWbNmdO/enYceeoj7778fgCVLlvDcc88BEBsbS2xsbJb727VrF506dWLv3r2cPXuW6tWrpy+75557KFasGADz589n9erV6f0PR48eZdOmTSxZsoQuXboQExPDlVdeyW233eZ1P71796Z3795+nQNvt8HN+Av/5MmTvPnmm8yfPz/Tcj777DOaNWuW3uz0+eefU6FCBRo2bMjixYsvWv+9994jJSWFZ599lg8//JDHH3/cr3iNMeERiU1P6VR1cajGUKT1UezYsYOzZ8+m91H0798/vYMWYOzYsbzxxhvs3LmTuLg4Dh48CFz8hZrG8/3Tp0+nP3/22Wd55plnWLNmDePGjbtgWYkSJdKfqyojR45Mb/vftm0bbdq08blPT54dzJ6PtMTmqVKlSuzcuTP99a5du7jyyisvWGfLli1s27aNevXqUa1aNXbt2kWDBg349ddf09eZPn36Bc1O3333HZ9++inVqlWjc+fOLFy4kEcfvbBSGBMTQ6dOnZg9e3aWx2SMCTNVzfOPhg0baqBKlCiR/nzlypVauXJlPXv27EXrbd68Of15XFyc/vzzzzp06FDt0aOHqqquWbNGY2Ji9KefflJV1auvvlrXr1+vKSkpev/992u3bt3St12+fLmqqnbv3l1btGihqqp///vfdfDgwen7GDdunHbo0CE9lo0bN+qJEyd09uzZ2qZNGz1//rzu2bNHS5curTNnzgz4uD0dPHhQq1WrpocOHdJDhw5ptWrV9ODBgz63qVq1qv7222/pr48cOaJlypTREydOeF1/0aJFetddd6mqampqqm7atCn9+csvv6wvv/xyjo7BGJN9wHL14zs2apuePNWvX5969eoxffp0HnvssQuW9e7dm02bNqGqtGrVinr16lGrVi0ef/xxYmNjiYuL44YbbkhfPzExkfbt21O5cmXq1q2bfvnngAEDePDBB6lYsSI33ngj27Zt8xpLz5492b59e/rI1PLly/Pxxx9z3333sXDhQq6//npq1qxJixYtcnzcZcuW5W9/+xuNGzcG4NVXX01vPurZsye9evWiUaNGPsuYM2cObdq0uaBWlBlVpVu3bhw7dgxVpV69eowZMybHx2GMCS1RL+3UeU2jRo00nLdCvfXWWxkyZEiWX6rGGBNJRGSFqmb5xRXRfRTGGGPCz5qegsDblT3GGJNfWI3CGGP8EM1Tn0dtohCRCzquz58/T/ny5S+YlwigQ4cONG3a9IL3BgwYQMWKFS+4/DSnc0UdOnSI1q1bU6NGDVq3bp3pVBp9+/albt261K1blw8//DD9/YULF9KgQQPq1q1Lt27dLpoO5KeffiImJiZ9fMaiRYsuiL9o0aJ8/PHHOToGY/KrtKnPn3vuORo0aBB1ySJqE0WJEiVYu3Ytp06dAmDBggVUrFjxgnWOHDnCypUrOXLkyEVXKb344ovpYx2SkpIoXbp0juJJTEykVatWbNq0iVatWpGYmHjROnPnzmXlypUkJSXxww8/MHjwYI4dO0ZqairdunVj+vTprF27lqpVq14wwV9KSgp9+/albdu26e+1bNkyPfaFCxdSvHjx9PEaxpgLRfvU51GbKADuvPNO5s6dC1w8VxHA7Nmzufvuu+ncuTPTp08PaSyffPIJ3bp1A6Bbt25ef92vX7+eFi1aULBgQUqUKEG9evWYN28eBw8epEiRIukTqLVu3fqCgWwjR47kgQceoEKFCl73PWvWLO68806KFy8egiMzJu+L9qnPozpRpCWA06dPs3r1apo0aXLB8rTk0aVLF6ZNm3bBsrfffju92aZly5YXlX38+HGvI6Tj4uJYv379Revv27ePK664AoArrrjC66R/9erV48svv+TkyZMcOHCARYsWsXPnTsqVK8e5c+fSJyacNWtW+ojr3bt3M2fOHHr16pXpecg4stoYc6Fon/o8qq96io2NZfv27UybNo127dpdsGzfvn1s3ryZm2++GRGhYMGCrF27lrp16wJO09Mrr7ySadklS5YkKSkpqPG2adOGn376iZtuuony5cvTtGlTChYsiIgwffp0XnzxRc6cOUObNm0oWND5aF944QUGDhxITEyM1zL37t3LmjVrLmiWMsZcrGbNmlGXINJEdaIAZ0K+V155hcWLF6fP4wTw4Ycfcvjw4fTJ+44dO8b06dN54403/Cr3+PHjmVZPP/jgA+rUqXPBe5dddhl79+7liiuuYO/evZk2E/Xv35/+/fsD8PDDD1OjRg3AmSo9rd10/vz56Z1ty5cvp3PnzgAcOHCAL774goIFC3LvvfcCMGPGDO677z4KFSrk13EZY6JP1CeKJ554glKlSnH99ddfMB5i2rRpzJs3L/2Kp23bttG6dWu/E0WgNYp77rmHyZMnEx8fz+TJk+nQocNF66SkpHDkyBEuvfTS9CnO0zqg9+/fT4UKFThz5gwDBw5MTyaenfDdu3enffv26Uki7TgTEhL8jtMYE32iuo8CnBlUn3/++Qve2759O//73/+48cYb09+rXr06l1xyCT/88ANwYR9F2nTlOREfH8+CBQuoUaMGCxYsID4+HnBqBGk3/zl37hzNmzenTp06PPnkk0yZMiW9iWnw4MFce+21xMbGcvfdd2c6DXnG49y5c2dQ5o0yxuRfNteTMcZEKZvryRhjTFBYojDGGOOTJQpjjDE+WaIwxpgAROPkgFF/eawxxvgrbXJAVUVEomaUttUojDHGT9E6OaAlCmOM8VO0Tg5oTU/GGOOntMkBly5dSvPmzaOi2QmykShEpK+qDgxFMMYYE+micXLALBOFiMzwfAnEAZYojDEmSvhTozimqj3TXojImBDGY4wxJsL405n9ZobX/UMRiDHGRLpoHEMBftQoVHUbgIiUU9UDqnoo9GEZY0xkidYxFBDY5bH/ClkUxhgT4aJ1DAUEligkZFEYY0yEi9YxFBDY5bF5/8YVxhiTTdE6hgICSxRWozDGRLVoHEMBgTU9xYcsCg8iUllEFonIBhFZJyLPZ72VMcaYUPGrRiEixwEVuahSIYCq6iVBjOk88LKqrhSRksAKEVmgquuDuA9jjDF+8itRqGrJUAfisa+9wF73+XER2QBUBCxRGGNMGET07LEiUg2oD/wQ3kiMMSZ6ZWdSwHpA2nVhS1V1VXBDSt/Pn4DZwAuqeszL8ieBJwGqVKkSihCMMcYQYI3C7VieClRwH1NE5NlgByUihXCSxFRV/cjbOqo6XlUbqWqj8uXLBzsEY4wxrkBrFD2AJqr6O4CIDAS+B0YGKyBxeswnAhtU9a1glWuMMSZ7Au2jECDF43UKwR9f0Qx4DLhNRJLcR7sg78MYY4yfAq1RvAf8ICJzcBLEvQR5DihV/RYb3GeMMREjoEShqm+JyGKcX/0CdFPVpFAEZowxJjIElChEpBHO/Siqudv+n4ioqsaGIDZjjDERINCmp6lAb2ANkBr8cIwxxkSaQBPFb6r6aUgiMcYY47fU1FRSUlIoVKhQyPcV6FVPfxeRCSLSRUTuT3uEJDJjjMkFee32pufOnWPy5MnUrVuXWbNm5co+A61RPA7UBgrxR9OTAl4HxRljTCTLS7c3PXnyJBMnTmTIkCHUqFGDESNG0KpVq1zZd6CJop6qXh+SSIwxJpd53t60ePHiLF26NOISxeHDh3nnnXcYOXIkzZo1Y+bMmdxwww25GkOgTU/LRKROSCIxxphcFsm3N927dy+9e/fmmmuuYfPmzSxevJiPPvoo15MEBF6juBnoJiLbgDP8cT8KuzzWGJPnROLtTTdv3szgwYOZOXMmjz32GD///HPYJz4NNFHcEZIojDEmTCLl9qZJSUkkJiby9ddf8+c//5mNGzcSKROeBjoye0eoAjHGGG+Sk5Mj6hd/sC1dupSEhASSkpJ48cUXGT9+PJdcEsybhuZcwPejMMaY3JKXrkoKhKoyd+5cEhMT2bt3L3369OGjjz6iaNGi4Q7NK0sUxpiIlReuSgrE+fPnmTFjBomJiRQoUID4+Hg6duxIwYKR/VUc2dEZY6Jabl6VFMomrtOnTzNp0iQGDx5MxYoVGThwIHfccQfO7Xcin1+JQkSO4wysu2gRzlVPkdWgZozJF3LrqqRQNXEdO3aMMWPGMGzYMBo1asT7779Ps2bNghBx7vIrUahqyVAHYowx3uTGVUnBbuLav38/w4cPZ9y4cbRt25avvvqK2NjgjiLIzU7+gJueRKQMUANI73VR1SXBDMoYY3JTsJq4tm/fztChQ5k6dSqdO3fmxx9/5KqrrgpytLnfyR/QyGwR6QksAb4CXnP/HRD8sIwxJvekNXGNGDEiW1+669ato2vXrjRs2JASJUqwfv16Ro8eHZIkARfWgFSVpUuXhmQ/aQKtUTwPNAaWqWpLEamNkzCMMSZPy04T17Jly0hMTGTZsmU8//zzjBgxgtKlS4cowj/k9tQjgSaK06p6WkQQkSKq+ouI1ApJZMYYE4FUlQULFpCQkMC2bdvo3bs306ZNo1ixYrkWQ25PPRJootglIqWBj4EFInIY2BP8sIwxJrKkpKTw0UcfkZiYyOnTp+nWrRulSpWiZcuWuZok0uTm1COBTuFxn/t0gIgsAkoB84IelTHGBChUVwGdOXOGKVOmMGjQIMqUKcOrr75KrVq1aNSoUb4bMZ6ZbA+4U9X/BDMQY4zJrlBcBXTixAnGjx/PW2+9xXXXXce4ceNo0aIFIsLEiRPz1YjxrAR61dNkt+kp7XUZEflX8MMyxkSTnN6ONJhXAR08eJABAwZQvXp1li1bxsiRI3nooYe48sorERGSk5P59ddfUdWIvI9FKARao4hV1SNpL1T1sIjUD3JMxpgoEozaQDCuAtq1axdDhw5l8uTJ3H///Xz33XcAF8Q2fPhw/vKXv1CgQAFEhL/+9a88+OCD+bo2AYHf4a6AO+AOABEpi80XZYwJQMbaQzBqA77GQWRVW0lOTqZHjx7ExsYiIqxevZoJEyZQs2bNC2JLSUmhV69enD17ltOnT6OqXH755fk+SUDgX/JDgf+KyCycuZ8eAt4MelTGmHzJW+0hO7UBbx3X3q4C8lVbWbFiBQkJCSxZsoSnn36aTZs2cemll16wvWds58+fJyYmhvPnzwOQmpqa75uc0gR61dP7IrIcuA1nQsD7VXV9SCIzxuQ73uZU6tGjR0BjAgJpqsq4vyVLlrB7924SEhLYsGEDL7/8MpMnT6ZEiRJet/ccr1CpUiUeeOABChQoQGpqKp988klU1CYgwEQhIg1VdQWw3uO9u1X1s6BHZozJdzKrPQQyJiCQCfzS9lesWDFSUlIYOXIkp0+fpm/fvjz66KMULlw4y/15xhZp99fOLaLqbfbwTFYWWQl0U9U17usuwAuq2iRE8fmlUaNGunz58nCGYIzxU07HOwRSozh37hxvv/02w4cPp0yZMgwYMID77ruPmJiYnB5GviAiK1S1UVbrBdpH0RGYJSKPADcDXYE22YjPGBOlcjqi2J/pK06ePMnEiRMZMmQIV199NZMmTeL222/PMzcKijSB9lFsFZHOOFN47ATaqOqpkERmjMnXclKzyCzZHDlyhHfeeYcRI0bQtGlTZsyYQZMmYW3wyBf8vcPdGi68w11ZIAb4QURQ1aDekUNE7gCGu/uYoKqJwSzfGBNewR5J/euvv/L2228zYcIE2rdvz6JFi6hTp04QI45u/tYo2oc0Cg8iEgO8A7QGdgE/icindnWVMflHsO4ot3XrVgYNGsSMGTN45JFHWLlyJVWrVg1BxNHN31uh7gh1IB5uADar6lYAEZkOdMDjSitjTN6W05HUq1evJjExkfnz59OrVy9++eUXKlSoEKJoTaAjs3NDRZz+jzS73PeMMflAWt/E7NmzA76j3Lfffstdd93FHXfcQVxcHFu3buWNN94IaZLwZ2R3Tuapygv87aNoinNXO/+vpc0+b5clXLRfEXkSeBKgSpUqoY7JGBMEycnJxMXFkZKSQkxMDElJSVkmCVXliy++ICEhgb1799KnTx9mz55N0aJFcyVeX30puX3v6nDxt0bRDVghItNFpLuIXB7CmHYBlT1eV8LLzZFUdbyqNlLVRuXLlw9hOMaYYJk5cyanTp3i7NmznDp1ipkzZ2a67vnz55k2bRpxcXH89a9/5emnn2bjxo089dRTuZIkIOt5qHL73tXh4m8fRS8A9x7ZdwKTRKQUsAjnxkXfqWpKkGL6CaghItWB3UBn4OEglW2MiXCnT59m8uTJDBo0iCuvvJKEhATuvPPOsIyByKovJbfvXR0uAY3MvmBDkWJAS5zE0dSf0X0BlN0OGIZzeey/VNXnxIM2MtuYvMFX09OxY8cYO3Ysw4YNo379+vTr14+bb745zBFnPd4jVHfWyw3+jszOdqKIJJYojMk7Mn6x7t+/nxEjRjB27FjatGlD3759qVevXsDlmMCFagoPY4zJkbRR1Tt27ODZZ59l6tSpPPTQQ/zwww9cffXVfpURLZ3IkSISL481xuRj69evp1u3bjRo0IBixYqxbt06xo4d63eSgKw7kaPhktXclKMahYi8pKpvuc9rqerG4IRljMkPPJuHDh8+TEJCAt9//z3PPfccW7ZsoXTp0tkq11cnstU2gi9biUJESgNvA7fIUDEAAB8xSURBVLVE5DSwGugBPB7E2IwxeVhycjL169cnJSWFc+fOcfnllxMfH88HH3xA8eLFc1S2rxlkly5dSkpKCqdPn6Zo0aLZnh7E/CFbiUJVjwCPi0hb4AAQC3wUzMCMMXlXSkoKw4YN4/Tp06SmplK4cGFeffVVnnrqqaDtI7MZZCtVqsTp06cB51LbSpUqBW2f0SpHTU+q+pX7dEUQYjHG5HFnz55lypQpDBo0iCJFilCoUCEKFChAgQIFaNmyZa7EsGvXLooVK8apU6coVqwYu3btypX9ZkdeuXIrp30U7wAlVLW7iLRR1flBissYk4ecOHGCd999l7feeovatWszZswYbr31VjZt2pTrX4TNmzenQIECET8ILi/1peT08tizwD73+W2AJQpjosjBgwcZNWoU77zzDrfccgtz5syhUaM/LsvP6d3sssNb/0Uk/nIP1lTruSGnieIkUEpECgE2M58xUWL37t0MHTqUSZMmcd9997FkyRJq164d7rDSeSaoSP3lnpem/8jpOIpFwBZgLDA15+EYYyJZcnIyPXv25Prrr0dVWbVqFRMnToyoJJFRpE7cl1bzCXSq9XDIaY2iDTACaOs+5uY4ImNMxFm5ciUJCQksXryYp59+muTkZMqVKxfusPwSyb/cw9E0lx05rVGUBvoCfYDTOQ/HGBMpVJXFixfTtm1b7rnnHpo2bcq2bdsYMGCAX0kiUkZH56Vf7pEq2zUKEakJvA7UVtWNIpIavLCMMeGSmprK559/TkJCAgcPHqRv3748+uijFClSxO8yIq1fIK/8co9UOWl6+j9gq6qOAVDV+OCEZIwJh3PnzjF9+nQGDhxI4cKF6devH/fffz8xMTEBl5WXrugxWctJojgI9BKRWsAqIElVfw5OWMaYUPK8XLRy5cr861//YvDgwVSvXp2hQ4fSpk2bHN0oKJL7BUzgcpIoLgVm4XRm1weaA5YojIlwac1CqampnD9/nlKlSnHTTTcxffp0brzxxqDsw9dcTCbvyWmNogtOwlgFRMY1Z8YYnz7//HPOnDnD+fPniYmJ4dlnn+XVV18N+n6y6heIxEFwxrtsJwpVTRSRhUAyEIfVKIyJaFu3bmXw4MF88MEHABQtWpSYmBg6d+4ctH34+vL3XAZEVGe38S2nkwL+6D5d7D6MMRFmzZo1JCYmMm/ePJ566imSk5M5evRo0H/N+7rSKeOyfv36WWd3HpKjcRQi8g8RmSkik9xObWNMhPjuu+9o3749bdq0ITY2lq1bt/LPf/6Tyy67jJo1a9KjR48sm4YCGQfhawR0xmVAjjq7I2WMRrTI6cjsMqr6oIgUxrmR0dNBiMkYk02qyrx580hISGDXrl306dOHWbNmUbRo0YDKyc44CF9XOmVc9uCDD/Lggw9mq1YTaWM0okFOE8UZEWkArAFKBCEeY0w2pKSkMHPmTBITE0lNTSU+Pp6HHnqIggWz9188O+MgfF3plNmy7HzB2xiN3OfXX5GIlAWKquqeDIv6A8+6jw+DHJsxJgtnzpxh8uTJDBo0iMsvv5w333yTdu3a5WgMBGR/HISvK52CNTraxmjkPn9/bgwBNgEJACLyX2AXsBL4t6ruDk14xhhvjh8/zrhx43j77bepV68e7733XlC/MCN5HEQkx+avvHZpsKR1LPlcSWQVEKfuyiKyBngFaI1T03gmpFFmoVGjRrp8+fJwhmBMrvjtt98YMWIEY8eO5fbbb6dv377ExcWFOywTgEjqYxGRFaraKKv1/L3q6YxemFEWuvfL7g1kuRNjTM7873//4/nnn6dWrVrs37+f77//nmnTplmSyIMi9f4YvvibKE6LSNW0F6r6vPuvAoVCEZgxBjZs2ED37t2Ji4ujSJEirFu3jnHjxnHNNdeEOzSTTXmxj8XfPoo3gY9FpIuq/pL2pohcEUAZxhg//fTTTyQkJPDdd9/x7LPPsmXLFsqUKRPusEwQ5MU+Fr++5FX1KxG5BFgkIknAWnfR/cDfQhWcMdFEVfnmm29ITEwkOTmZV155hSlTplC8ePFwh2aCLK/dH8Pv2oCqzhSRuUA74DrgFHC/qq4KVXDGRIPU1FQ+/vhjEhISOHHiBPHx8Tz88MMUKmStuiYyBNRspKoncaYWnwUgIs1E5B1VtRHZxgTo7NmzTJ06lYEDB1KqVCn69+/PPffcQ4ECOb1DsTHBFXD/gojE4Uwv3gnYB9TGpu4wxm+///47EyZMYOjQodSqVYvRo0fTsmXLCwbJ5bXr7E3+5u/I7JpAZ+Bh4AQwE7hVVbeLyLZgBSMig4G7gbPAFuBxVT0SrPKNCadDhw4xatQoRo0axS233MLs2bNp3LjxRetF0nX2xoD/l8f+AtwFdFTVRqo6UFW3u8uyHrHnvwVAXVWNxbnPRb8glm1MWOzZs4dXXnmFa665hu3bt7NkyRJmzZrlNUlA7lxnb7OvmkD42/T0AE6NYoGIfA3MAOap6rlgBqOq8z1eLgM6BrN8Y3LTpk2bGDRoELNnz6Zr166sWrWKypUrZ7ldqK+ztxqLCZRfNQpVnaOqnYBrgHnAU8AuEXkPuCREsT0BfBmiso0JmZ9//plOnTpx0003ceWVV5KcnMywYcP8ShLwx3X2I0aMCMmXeF4cGWzCK9Crnn4HpgJT3RllHwSqBVKGWyO53Mui/qr6ibtOf+C8u6/MynkSeBKgSpUqgYRgTNCpKkuWLCEhIYG1a9fy0ksvMWHCBEqWLJmt8kJ5nX1eHBlswsuvSQFzk4h0A3oBrdzLcbNkkwKacElNTWXu3LkkJCTw22+/0bdvXx577DGKFCnic7twX9UU7v2byODvpIARNf2GiNwB9AVa+JskjAmH8+fPM336dAYOHEihQoWIj4/ngQceICYmJsttrY/A5DURlSiAUUARnE5zgGWq2iu8IRnzh1OnTvHee+8xePBgqlatypAhQ2jTpk1ANwoK9x3aLFGZQEVUolBVmxLTRKSjR48yevRohg8fzg033MAHH3xA06ZNs1VWuPsIwp2oTN7j74C743gfLyE4s42H6sonY8Jq3759DBs2jPHjx9OuXTu+/vpr6tatm6Mywz17aLgTlcl7/J09NnuXbhiTR23bto0hQ4Ywbdo0unTpwvLly6levXrQyg/n7KHhTlQm78nOXE9lgBpA0bT3VHVJMIMyJlzWrl1LYmIi8+bN48knn2TDhg1cdtll4Q4r6PLaNNcmvAKaplJEegJLgK+A19x/BwQ/LGNy13//+1/uvvtuWrduTd26ddmyZQv//Oc/82WSMCZQgc5n/DzQGNihqi2B+sBvQY/KmFygqsybN48WLVrwyCOP0K5dO7Zu3Up8fDylSpUKd3jGRIxAm55Oq+ppEUFEiqjqLyJSKySRGRMiKSkpzJ49m8TERM6dO0d8fDydOnWiYMGIugjQmIgR6P+MXSJSGvgYZ6zDYWBP8MMyJvjOnDnD+++/z6BBg6hQoQKvv/467dq1sxsFGZOFQOd6us99OkBEFgGlcCYJNCZiHT9+nPHjx/PWW28RGxvLxIkT0y8RNcZkLdt1bVX9TzADMSbYDhw4wIgRIxgzZgytWrVi7ty5xMXFhTssY/KcgBKFiBTBuTdFNc9tVfX14IZlTPbt3LmToUOH8v7779OxY0e+//57rrnGBv0bk12BNs5+AnTAmQL8d4+HMWH3yy+/8PjjjxMXF0ehQoVYu3Yt48ePtyRhTA4F2vRUSVXvCEkkxmTT8uXLSUhI4Ntvv+WZZ55h06ZNlC1bNtxhGZNvBFqj+K+IXB+SSIwJgKryzTffcPvtt3P//ffTokULtm7dyt/+9jdLEsYEWaA1ipuBx0VkK3CGPyYFjA16ZMZ4kZqayieffEJCQgLHjx+nb9++PPzwwxQuXDjcoRmTbwWaKO7ATQ4hiMWYTJ07d46pU6cycOBASpYsSb9+/ejQoYONgTAmF/g7zfi3qnozsI4Lk0Ra0rBpxk1I/P7770ycOJEhQ4ZQs2ZNRo0axW233WZjIIzJRf5OM36z+69NN25yxeHDhxk1ahSjRo3i5ptvZvbs2TRu3DjcYRkTlazebiLKnj176N27N1dffTVbt25l8eLFliSMCbNAB9y95OXto8AKVU0KTkgmGm3evJlBgwYxa9YsunbtSlJSElWqVAl3WMYYAq9RNAJ6ARXdx5PArcC7ItInuKGZaJCUlETnzp1p2rQpl19+OcnJyQwbNsyShDERJNBEcSnQQFVfVtWXcRJHeeAWoHuQYzP5lKqyZMkS2rVrx1133UXjxo3ZunUrr7/+OuXKlQt3eMaYDAK9PLYKcNbj9TmgqqqeEpEzwQvL5Eeqyty5c0lISGD//v306dOHOXPmUKRIkXCHZozxIdBE8QGwTEQ+cV/fDUwTkRLA+qBGZvKN8+fPM2PGDBITE4mJiSE+Pp6OHTsSExMT7tCMMX4I9H4U/xCRL4FmOGMoeqnqcnfxI8EOzuRtp0+f5r333mPw4MFUrlyZQYMG0bZtWxsDYUweE/D9KNzEsDzLFU3UOnr0KGPGjGH48OE0btyYKVOmcNNNN4U7LGNMNgU0MltEjuNlZLaq2shsw/79+xk2bBjjx4/njjvuYP78+Vx/vc0haUxe59dVT26SEOA6Vb3E41HSkoTZvn07zzzzDLVr1+bIkSP8+OOPTJkyxZKEMfmE35fHqqoCc0IYi8lj1q1bx2OPPUbDhg0pWbIkGzZsYPTo0Vx11VXhDs0YE0SBjqNYJiI2l0KUW7ZsGR06dKBVq1bUqVOHrVu3kpCQwGWXXRbu0IwxIRBoZ3ZLoJeIbMe5BardjyJKqCrz588nISGBHTt20Lt3b6ZPn06xYsXCHZoxJsQCTRQPuNsozn2zTwU9IhNRUlJS+Oijj0hMTOTMmTPEx8fTqVMnChUqFO7QjDG5xN+rngoC/wSeAHbgNFlVAt4D+ocsOhM2Z86c4d///jeDBg2iXLlyDBgwgLvuustuFGRMFPK3RjEYKAlUV9XjACJyCTDEfTwfmvBMbjtx4gTjx4/nrbfeom7durz77rvccsstNkjOmCjm78/D9sD/pSUJAFU9BvwZaBfsoETkFRFREbEZ4nLJwYMH+fvf/0716tX54Ycf+Oyzz5g3bx4tWrSwJGFMlPM3Uah7eWzGN1MI8v2zRaQy0Br4XzDLNd7t3LmTF198kRo1arBnzx6+++47PvzwQ+rXrx/u0IwxEcLfRLFeRLpmfFNEHgV+CW5IvA30IcgJyFxo48aNPPHEE9SrV4+YmBjWrFnDu+++S82aNcMdmjEmwvjbR/E08JGIPAGswPkSbwwUA+4LVjAicg+wW1VXZdXcISJP4tw4yW5yE4AVK1aQkJDAkiVLeOaZZ9i8eTNly5YNd1jGmAjmV6JQ1d1AExG5DbgOZ/zEl6r6TaA7FJGvgcu9LOoP/BVo42dM44HxAI0aNbLahw+qyqJFi0hISOCXX37hlVdeYfLkyZQoUSLcoRlj8oBApxlfCCzMyQ5V9XZv74vI9UB1IK02UQlYKSI3qOqvOdlntEpNTeXTTz8lISGBo0eP0rdvXx555BEKFy4c7tCMMXlIwNOMh4qqrgEqpL12R383UtUDYQsqjzp37hwffPABAwcOpESJEvTr148OHTrYjYKMMdkSMYnC5NzJkyeZOHEiQ4YM4ZprrmHEiBG0atXKLm81xuRIxCYKVa0W7hjyisOHDzN69GhGjhzJTTfdxMyZM7nhhhvCHZYxJp+w+RjysL1799KnTx+uueYaNm3axKJFi/joo48sSRhjgsoSRR60ZcsWnnrqKa677jrOnDnDzz//zKRJk7j22mvDHZoxJh+yRJGHrFq1ii5dutCkSRMqVKjAxo0bGT58uI0jMcaElCWKPODbb7/lrrvuol27djRs2JCtW7fyj3/8g/Lly4c7NGNMFIjYzuxop6p88cUXJCQk8Ouvv9KnTx9mz55N0aJFwx2aMSbKWKKIMOfPn2fmzJkkJiYiIsTHx9OxY0cKFrSPyhgTHvbtEyFOnz7NpEmTGDx4MBUrViQxMZE77rjDxkAYY8LOEkWYHTt2jLFjxzJs2DAaNmzI+++/T7NmzcIdljHGpLNEESb79+9n+PDhjBs3jrZt2zJv3jxiY2PDHZYxxlzErnrKZTt27ODZZ5+ldu3aHDp0iB9//JGpU6dakjDGRCxLFLlk3bp1dO3alQYNGlCiRAnWr1/PmDFjuOqqq8IdmjHG+GSJIsSWLVvGvffeS6tWrbj22mvZsmULiYmJXH65t1tyGGNM5LE+ihBQVRYsWEBCQgLbtm2jd+/eTJs2jWLFioU7NGOMCZgliiBKSUlhzpw5JCYmcurUKeLj4+ncuTOFChUKd2jGGJNtliiC4OzZs/z73/9m0KBBlC1blldffZX27dtToIC17Blj8j5LFDlw4sQJ3n33Xd566y3q1KnDuHHjaNGihQ2SM8bkK5YosuHgwYOMHDmS0aNHc+utt/LJJ5/QoEGDcIdljDEhYW0jAdi1axcvvfQSNWrUYPfu3Xz77bfMmDHDkoQxJl+zROGH5ORkevbsSWxsLCLCmjVrePfdd6lZs2a4QzPGmJCzpicfVqxYQWJiIv/5z394+umn2bRpE5deemm4wzLGmFxliSIDVWXx4sUkJCSwYcMGXn75ZSZNmkSJEiXCHZoxxoSFJQpXamoqn332GQkJCRw+fJi+ffvy6KOPUrhw4XCHZowxYRXViSI5OZlFixZx9OhRJk+eTLFixejXrx/33nsvMTEx4Q7PGGMiQtQmiuTkZOrXr8+pU6cQESZMmED37t1tDIQxxmQQtVc9LV26FHD6JIoWLUpqaqolCWOM8SJqE0Xz5s0REYoXL46I0Lx583CHZIwxESlqm55q1qzJypUrWbp0Kc2bN7cxEcYYk4moTRTgJAtLEMYY41vUNj0ZY4zxjyUKY4wxPlmiMMYY45MlCmOMMT5ZojDGGOOTJQpjjDE+iaqGO4YcE5HfgB0+VikHHMilcHKTHVfekR+PCey48pqMx1VVVctntVG+SBRZEZHlqtoo3HEEmx1X3pEfjwnsuPKa7B6XNT0ZY4zxyRKFMcYYn6IlUYwPdwAhYseVd+THYwI7rrwmW8cVFX0Uxhhjsi9aahTGGGOyyRKFMcYYn/JlohCRwSLyi4isFpE5IlI6k/W2i8gaEUkSkeW5HWegAjiuO0Rko4hsFpH43I4zUCLyoIisE5FUEcn00r289HkFcEx57bMqKyILRGST+2+ZTNZLcT+nJBH5NLfj9FdW519EiojIh+7yH0SkWu5HGTg/jqu7iPzm8Rn19Fmgqua7B9AGKOg+HwgMzGS97UC5cMcbzOMCYoAtwFVAYWAVUCfcsWdxXNcCtYDFQCMf6+WZz8ufY8qjn9UgIN59Hu/j/9aJcMfqx7Fkef6BvwBj3eedgQ/DHXeQjqs7MMrfMvNljUJV56vqefflMqBSOOMJFj+P6wZgs6puVdWzwHSgQ27FmB2qukFVN4Y7jmDy85jy3GeFE99k9/lk4N4wxpJT/px/z+OdBbQSEcnFGLMj6H9X+TJRZPAE8GUmyxSYLyIrROTJXIwpGDI7rorATo/Xu9z38oO8/Hl5kxc/q8tUdS+A+2+FTNYrKiLLRWSZiERqMvHn/Kev4/5IOwpcmivRZZ+/f1cPuM3Ys0Sksq8C8+ytUEXka+ByL4v6q+on7jr9gfPA1EyKaaaqe0SkArBARH5R1SWhidg/QTgub792wn4NtD/H5YeI+ryCcEx57rMKoJgq7md1FbBQRNao6pbgRBg0/pz/iPyMsuBPzJ8B01T1jIj0wqk13ZZZgXk2Uajq7b6Wi0g3oD3QSt1GOS9l7HH/3S8ic3CqbGFNFEE4rl2A56+DSsCe4EWYPVkdl59lRNTnFYRjynOflYjsE5ErVHWviFwB7M+kjLTPaquILAbq47SbRxJ/zn/aOrtEpCBQCjiUO+FlW5bHpaoHPV6+i9Pnmal82fQkIncAfYF7VPVkJuuUEJGSac9xOorX5l6UgfPnuICfgBoiUl1ECuN0wEXsVSf+youflx/y4mf1KdDNfd4NuKjmJCJlRKSI+7wc0AxYn2sR+s+f8+95vB2BhZn98IwgWR6Xm+TT3ANs8FliuHvoQ9TrvxmnjS7JfaRdtXAl8IX7/CqcqwFWAetwmgvCHntOj8t93Q5IxvkFlxeO6z6cX0FngH3AV3n98/LnmPLoZ3Up8A2wyf23rPt+I2CC+/wmYI37Wa0BeoQ7bh/Hc9H5B17H+TEGUBSY6f7f+xG4KtwxB+m4Etz/R6uARUBtX+XZFB7GGGN8ypdNT8YYY4LHEoUxxhifLFEYY4zxyRKFMcYYnyxRGGOM8ckShTHGGJ8sURhj8gURuUpEJorIrHDHkt9YoohCIlJNRLyOahaR50Rkg4hcNI+UiPR377Gw2p3DvomILBaRthnWe0FERrvPVUT+7bGsoDsP/ufBPq6cEpHSIvKXbGw3QEReyWTZfe45qO1lWVsRWepOnrdGRCa5I5lDTkTGiUizDO9l+ncRYNknclpGdspVZ7bUHqHYd7SzRBFl3CmSfX3ufwHaqeojGbZrijPHVANVjQVuxxklPg1nigBPnd33AX4H6opIMfd1a2B3jg7CC3EUyOy1n0rjHH8wdQGWk+EciciDOPd26KaqjYA4nNHORYO8/8w0wZmqPs8RketF5PMMj8xmsTVBYIkiCri/FDe4v/JX4kwYVlBEJntMM1xcRMbiTJXxqYi8mKGYK4ADqnoGQFUPqDPx2yygvcfcPtVwpqn41mPbL4G73Odd+COJeIu1qxvTqgw1kZdEZK37eCGT42qe8ThF5FER+dGtAY0TkRgf+0kErnbXHZzZtu72/cW5g9jXODco8nYsfwJaAD3c4057vwQwEnhYVbe65zNFVd9U1V2ZnZtgEZFrgWRVTfGxzlUi8rOINPbxmXwszpTv6ySLad/dz+oXEZngfoZTReR2EflOnLvl3eCx7kWftSdVXaOq7TM8vE5OaIIk3HOS2CNX5n2pBqQCN3q8VpxpuwH+BbziPt+Ol7vIAX/CmV8qGRgNtPBYNhfo4D6PBwZ7LDsBxOIklKJuGbcCn3vZx3XAxrT988c8Qg1x5gwq4caxDmc2Um/H5fn6WpzplAu5r0cDXX3spxqw1te2GeIpDlyCMw/QK16O51Fgqvt8JU5tDOBB3LmfwvT38BLwRCZ/J2txEt/POLUcr+cqw3kr5m53adpnnknZ54HrcX6grnD/7gTnpjof+/qsMys3wz4uBcbizG/UL9z/7/LTw2oU0WOHqno2NexU1e/c51OAm31trKoncP4TPwn8BnwoIt3dxZ7NT57NTmnbrsb5ougCfOFjN7cBs1T1gLtd2nTONwNzVPV3N46PgOaZHJfn61ZuzD+JSJL7+iof+/GU2ba4+56jqidV9RiZz/jaBZjhPp/BH7WK6/CY+VZERri/noPaFCSZ3M8aaAvMy2RZeZwZYR9V1SR8n6vnRGQVThNWZaBGFiFtU6c2kIqTAL5R5xt+Dc7fB/j+rH1S1YOq2ktVr1bVBH+2Mf6xRBE9fs/wOuNskFnODqlO88hiVf078AzwgLvoY5xbRDYAiqnqSi+bfwoMwSOJiMjT8sfN3a/E+XXpLQ5ft57MeFyerwWYrKpx7qOWqg7wsZ+M+/S2bRqf24vIpTj3y0j7Qv4Q6OT2EZ3yXFdVnwNewZltNrPy+onIEBGp7fk8i2N420s5xYHS6t4vwoujOH1PaR3dXs+ViNyK00/VVFXr4dRAsupfOePxPNXjdSp/3Bsn0m8zGpUsUUSvKm4HNTi/dL/1tbKI1BIRz1+MccAOSK9tLMZpSsis/+FfwOuquibtDVV9x+OLeA/OtNUPuV+yiEhZd9UlwL1uP0oJnCm8l/pxjN8AHdM6OkWkrIhU9bGf40DJLLZNi+c+ESkmzj0y7vay744404mn9elsA37F+cX8FXC/mxzTLjBojdM8hVvuWyLyjoi8ISJNcD6jbTg3zunixvqymzBuF5FCIvJPERkmIqPFuXdJbbn4aqyWONNKZ+Yszn2wu4rIwz7OVSngsKqedBPWjT7KDER2P2sTQnn2DncmxzYA3URkHM7VNmOyWP9PwEgRKY3T1rwZpxkqzTScZoKMV0ABoE4n7XBfO1DVdSLyJvAfEUnB+ZXaXVVXisgknPsBgHPfg5/F6Tj3Vd56Efl/OPfZLgCcA55W1WWZ7Oeg27m6FqcD/qJtcZq2VorIhzj9LTvw/kXWBYgVke0e712K04H9Zzeuee7+z+FcGZXWUfws8IGqLhdnTMBQYLGqvuM2Jy0G/ovzhT5CVf8nIk/j9BUcwWkiOwBMUdVRGeK6E6e/yNd5+11E2gMLgDeAi84VTk2pl4isxunDCEqzWWafdTDKNtln96MwJsKIyGScJKzABOA9nBvmTBSRlh7Pa+NcYvtn4DWcJHjGLeMJYJOqLs1Q9kqgiaqey70jMnmd1SiMiTwzgPHASZw7kbXlj1pLPWCpiAwEYoD/4dy3+hNgkojsBBbi1Ch6isgBVU2/zaWqNsi1ozD5htUojDHG+GSd2cYYY3yyRGGMMcYnSxTGGGN8skRhjDHGJ0sUxhhjfLJEYYwxxidLFMYYY3yyRGGMMcYnSxTGGGN8+v8NJi9TMTOwKQAAAABJRU5ErkJggg==\n",
>>>>>>> 785c424943fa901575ffe00fbf82422569e86ce6
      "text/plain": [
       "<Figure size 432x288 with 1 Axes>"
      ]
     },
     "metadata": {
      "needs_background": "light"
     },
     "output_type": "display_data"
    }
   ],
   "source": [
    "plot_scatter(x=predict_y,\n",
    "             y=test_y,\n",
    "             title=kernel + ' SVM predicted test set offsets',\n",
    "             x_label=kernel + ' SVM-corrected $\\Delta G_{offset}$ / kcal mol$^{-1}$',\n",
    "             y_label='Original $\\Delta G_{offset}$ / kcal mol$^{-1}$')"
   ]
  },
  {
   "cell_type": "markdown",
   "metadata": {},
   "source": [
    "### $\\Delta G_{hydr}$ correction"
   ]
  },
  {
   "cell_type": "code",
   "execution_count": 23,
   "metadata": {},
   "outputs": [],
   "source": [
    "test_corr = [offset + calc for offset, calc in zip(predict_y, test_calc)]"
   ]
  },
  {
   "cell_type": "code",
   "execution_count": 24,
   "metadata": {},
   "outputs": [
    {
     "data": {
<<<<<<< HEAD
      "image/png": "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\n",
=======
      "image/png": "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\n",
>>>>>>> 785c424943fa901575ffe00fbf82422569e86ce6
      "text/plain": [
       "<Figure size 432x288 with 1 Axes>"
      ]
     },
     "metadata": {
      "needs_background": "light"
     },
     "output_type": "display_data"
    }
   ],
   "source": [
    "plot_scatter(x=test_corr,\n",
    "             y=test_exp,\n",
    "             title=kernel + ' SVM corrected test set hydraton free energy',\n",
    "             x_label=kernel + ' SVM-corrected $\\Delta G_{hydr}$ / kcal mol$^{-1}$',\n",
    "             y_label='Experimental $\\Delta G_{hydr}$ / kcal mol$^{-1}$')"
   ]
  }
 ],
 "metadata": {
  "kernelspec": {
   "display_name": "Python 3",
   "language": "python",
   "name": "python3"
  },
  "language_info": {
   "codemirror_mode": {
    "name": "ipython",
    "version": 3
   },
   "file_extension": ".py",
   "mimetype": "text/x-python",
   "name": "python",
   "nbconvert_exporter": "python",
   "pygments_lexer": "ipython3",
   "version": "3.7.4"
  },
  "toc": {
   "base_numbering": 1,
   "nav_menu": {},
   "number_sections": true,
   "sideBar": true,
   "skip_h1_title": true,
   "title_cell": "Table of Contents",
   "title_sidebar": "Contents",
   "toc_cell": true,
   "toc_position": {
    "height": "calc(100% - 180px)",
    "left": "10px",
    "top": "150px",
    "width": "256px"
   },
   "toc_section_display": true,
   "toc_window_display": true
  }
 },
 "nbformat": 4,
 "nbformat_minor": 2
}
