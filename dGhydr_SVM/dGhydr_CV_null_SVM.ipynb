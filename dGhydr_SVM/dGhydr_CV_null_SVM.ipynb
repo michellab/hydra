{
 "cells": [
  {
   "cell_type": "markdown",
   "metadata": {},
   "source": [
    "# Correcting absolute hydration free energies using support vector machines - null test"
   ]
  },
  {
   "cell_type": "markdown",
   "metadata": {
    "toc": true
   },
   "source": [
    "<h1>Table of Contents<span class=\"tocSkip\"></span></h1>\n",
    "<div class=\"toc\"><ul class=\"toc-item\"><li><span><a href=\"#Imports\" data-toc-modified-id=\"Imports-1\"><span class=\"toc-item-num\">1&nbsp;&nbsp;</span>Imports</a></span></li><li><span><a href=\"#Global-variables\" data-toc-modified-id=\"Global-variables-2\"><span class=\"toc-item-num\">2&nbsp;&nbsp;</span>Global variables</a></span></li><li><span><a href=\"#Path-variables\" data-toc-modified-id=\"Path-variables-3\"><span class=\"toc-item-num\">3&nbsp;&nbsp;</span>Path variables</a></span></li><li><span><a href=\"#Logger\" data-toc-modified-id=\"Logger-4\"><span class=\"toc-item-num\">4&nbsp;&nbsp;</span>Logger</a></span></li><li><span><a href=\"#Data-preparation\" data-toc-modified-id=\"Data-preparation-5\"><span class=\"toc-item-num\">5&nbsp;&nbsp;</span>Data preparation</a></span><ul class=\"toc-item\"><li><span><a href=\"#Features\" data-toc-modified-id=\"Features-5.1\"><span class=\"toc-item-num\">5.1&nbsp;&nbsp;</span>Features</a></span></li><li><span><a href=\"#Labels\" data-toc-modified-id=\"Labels-5.2\"><span class=\"toc-item-num\">5.2&nbsp;&nbsp;</span>Labels</a></span></li><li><span><a href=\"#Compile-data-sets\" data-toc-modified-id=\"Compile-data-sets-5.3\"><span class=\"toc-item-num\">5.3&nbsp;&nbsp;</span>Compile data sets</a></span><ul class=\"toc-item\"><li><span><a href=\"#Training-set\" data-toc-modified-id=\"Training-set-5.3.1\"><span class=\"toc-item-num\">5.3.1&nbsp;&nbsp;</span>Training set</a></span></li><li><span><a href=\"#External-testing-set\" data-toc-modified-id=\"External-testing-set-5.3.2\"><span class=\"toc-item-num\">5.3.2&nbsp;&nbsp;</span>External testing set</a></span></li></ul></li><li><span><a href=\"#Cross-validation\" data-toc-modified-id=\"Cross-validation-5.4\"><span class=\"toc-item-num\">5.4&nbsp;&nbsp;</span>Cross validation</a></span></li></ul></li><li><span><a href=\"#Training\" data-toc-modified-id=\"Training-6\"><span class=\"toc-item-num\">6&nbsp;&nbsp;</span>Training</a></span><ul class=\"toc-item\"><li><span><a href=\"#Hyper-parameter-ranges\" data-toc-modified-id=\"Hyper-parameter-ranges-6.1\"><span class=\"toc-item-num\">6.1&nbsp;&nbsp;</span>Hyper-parameter ranges</a></span></li><li><span><a href=\"#SVR-model\" data-toc-modified-id=\"SVR-model-6.2\"><span class=\"toc-item-num\">6.2&nbsp;&nbsp;</span>SVR model</a></span></li><li><span><a href=\"#Training-function\" data-toc-modified-id=\"Training-function-6.3\"><span class=\"toc-item-num\">6.3&nbsp;&nbsp;</span>Training function</a></span></li><li><span><a href=\"#Perform-training-per-fold\" data-toc-modified-id=\"Perform-training-per-fold-6.4\"><span class=\"toc-item-num\">6.4&nbsp;&nbsp;</span>Perform training per fold</a></span></li><li><span><a href=\"#Convergence-plot\" data-toc-modified-id=\"Convergence-plot-6.5\"><span class=\"toc-item-num\">6.5&nbsp;&nbsp;</span>Convergence plot</a></span></li></ul></li><li><span><a href=\"#External-testing\" data-toc-modified-id=\"External-testing-7\"><span class=\"toc-item-num\">7&nbsp;&nbsp;</span>External testing</a></span><ul class=\"toc-item\"><li><span><a href=\"#Predict-$\\Delta-G_{hydr}$\" data-toc-modified-id=\"Predict-$\\Delta-G_{hydr}$-7.1\"><span class=\"toc-item-num\">7.1&nbsp;&nbsp;</span>Predict $\\Delta G_{hydr}$</a></span></li></ul></li></ul></div>"
   ]
  },
  {
   "cell_type": "markdown",
   "metadata": {},
   "source": [
    "## Imports"
   ]
  },
  {
   "cell_type": "code",
   "execution_count": 1,
   "metadata": {
    "scrolled": true
   },
   "outputs": [
    {
     "name": "stderr",
     "output_type": "stream",
     "text": [
      "/home/wwu/anaconda3/envs/freesolv/lib/python3.7/site-packages/sklearn/externals/joblib/__init__.py:15: DeprecationWarning: sklearn.externals.joblib is deprecated in 0.21 and will be removed in 0.23. Please import this functionality directly from joblib, which can be installed with: pip install joblib. If this warning is raised when loading pickled models, you may need to re-serialize those models with scikit-learn 0.21+.\n",
      "  warnings.warn(msg, category=DeprecationWarning)\n"
     ]
    }
   ],
   "source": [
    "# General:\n",
    "import pandas as pd\n",
    "import numpy as np\n",
    "from matplotlib import pyplot as plt\n",
    "import os\n",
    "import csv\n",
    "import time\n",
    "import scipy\n",
    "import shutil\n",
    "import logging\n",
    "import pickle\n",
    "import statistics\n",
    "from tqdm import tqdm_notebook as tqdm\n",
    "from uncertainties import unumpy\n",
    "\n",
    "# SVM:\n",
    "from sklearn.svm import SVR\n",
    "from sklearn.model_selection import KFold\n",
    "from sklearn.metrics import mean_absolute_error\n",
    "\n",
    "# SciKit-Optimise:\n",
    "from skopt import gp_minimize, dump\n",
    "from skopt.space import Categorical\n",
    "from skopt.utils import use_named_args\n",
    "from skopt.plots import plot_convergence"
   ]
  },
  {
   "cell_type": "markdown",
   "metadata": {},
   "source": [
    "## Global variables"
   ]
  },
  {
   "cell_type": "code",
   "execution_count": 2,
   "metadata": {},
   "outputs": [],
   "source": [
    "# Global variables:\n",
    "model_type = 'null_SVM'\n",
    "kernel = 'rbf'\n",
    "label_col = 'Experimental dGhydr (kcal/mol)'\n",
    "label_u_col = 'uncertainty (kcal/mol)'\n",
    "\n",
    "# set data processing configurations:\n",
    "n_calls = 60  # Number of Bayesian optimisation loops for hyperparameter optimisation, 40 is best for convergence, > 60 scales to very expensive\n",
    "best_mae = np.inf  # Point to consider top-performing model from (MAE/MAD); 1.0 = no improvement on test-set variance\n",
    "\n",
    "# KFold parameters:\n",
    "n_splits = 5  # Number of K-fold splits\n",
    "random_state = 2  # Ranom number seed"
   ]
  },
  {
   "cell_type": "markdown",
   "metadata": {},
   "source": [
    "## Path variables"
   ]
  },
  {
   "cell_type": "code",
   "execution_count": 3,
   "metadata": {},
   "outputs": [],
   "source": [
    "# Path variables:\n",
    "path = './'\n",
    "datasets_dr = '../datasets/'\n",
    "SDF_dr = datasets_dr + 'sdffiles/'\n",
    "output_dr = path + 'output_null/'\n",
    "if not os.path.exists(output_dr):\n",
    "    os.mkdir(output_dr)\n",
    "figures_dr = path + 'figures_null/'\n",
    "if not os.path.exists(figures_dr):\n",
    "    os.mkdir(figures_dr)\n",
    "freesolv_loc = datasets_dr + 'freesolv_database.txt'"
   ]
  },
  {
   "cell_type": "markdown",
   "metadata": {},
   "source": [
    "## Logger"
   ]
  },
  {
   "cell_type": "code",
   "execution_count": 4,
   "metadata": {},
   "outputs": [],
   "source": [
    "# clean slate output_dr\n",
    "if os.path.exists(output_dr):\n",
    "    shutil.rmtree(output_dr)\n",
    "if not os.path.exists(output_dr):\n",
    "    os.mkdir(output_dr)\n",
    "\n",
    "# initiate log file\n",
    "logging.basicConfig(filename= output_dr + 'dGhydr_' + model_type + '.log',\n",
    "                    filemode='a',\n",
    "                    format='%(asctime)s - %(message)s',\n",
    "                    level=logging.INFO)\n",
    "\n",
    "logging.info('Starting {}.ipynb.'.format(os.path.abspath('')))\n",
    "logging.info('\\n\\nParameters:\\n\\nn_calls = {}  # gp_minimize\\nn_splits = {}  # Kfolds\\n'.format(n_calls, n_splits))"
   ]
  },
  {
   "cell_type": "markdown",
   "metadata": {},
   "source": [
    "## Data preparation"
   ]
  },
  {
   "cell_type": "markdown",
   "metadata": {},
   "source": [
    "### Features"
   ]
  },
  {
   "cell_type": "code",
   "execution_count": 5,
   "metadata": {},
   "outputs": [],
   "source": [
    "# load features\n",
    "reduced_X = pd.read_csv(datasets_dr + 'features_X/reduced_features.csv', index_col='ID').sort_index()"
   ]
  },
  {
   "cell_type": "markdown",
   "metadata": {},
   "source": [
    "### Labels"
   ]
  },
  {
   "cell_type": "code",
   "execution_count": 47,
   "metadata": {
    "scrolled": false
   },
   "outputs": [],
   "source": [
    "# load experimetnal dGhydr column from freesolv\n",
    "exp_dGhydr = pd.read_csv(filepath_or_buffer=datasets_dr + 'freesolv_database.txt',\n",
    "                         sep='; ',\n",
    "                         engine='python',\n",
    "                         usecols=['compound id (and file prefix)', 'experimental value (kcal/mol)'],\n",
    "                         index_col='compound id (and file prefix)'\n",
    "                        ).sort_index()"
   ]
  },
  {
   "cell_type": "markdown",
   "metadata": {},
   "source": [
    "### Compile data sets\n",
    "\n",
    "1. Split features and labels into training and testing.\n",
    "1. Concatenate training features and labels, testing features and labels."
   ]
  },
  {
   "cell_type": "code",
   "execution_count": 7,
   "metadata": {},
   "outputs": [],
   "source": [
    "def split_train_test(dataframe):\n",
    "    \"\"\" \n",
    "    Returns two dataframes separated into: \n",
    "    1) train_df: all entires not submitted under SAMPL4_Guthrie.\n",
    "    2) test_df: all entries submitted under SAMPL4_Guthrie.\n",
    "    dataframe: must have FreeSolve 'compound id (and file prefix)' column set as the index column.\n",
    "    \"\"\"\n",
    "\n",
    "    # SAMPl4_Guthrie experimental reference in FreeSolv.\n",
    "    SAMPL4_Guthrie_ref = 'SAMPL4_Guthrie'\n",
    "    # Experimental reference column name.\n",
    "    exp_ref_col = 'experimental reference (original or paper this value was taken from)'\n",
    "    \n",
    "    # List comprehension for all non-SAMPL4_Guthrie entries.\n",
    "    train_ids = [freesolv_df.iloc[i][0]\n",
    "                 for i in range(len(freesolv_df))\n",
    "                 if freesolv_df.loc[i, exp_ref_col] != SAMPL4_Guthrie_ref]\n",
    "\n",
    "    # List comprehension for all SAMPL4_Guthrie entries.\n",
    "    test_ids = [freesolv_df.iloc[i][0]\n",
    "                for i in range(len(freesolv_df))\n",
    "                if freesolv_df.loc[i, exp_ref_col] == SAMPL4_Guthrie_ref]\n",
    "\n",
    "    train_df = dataframe.drop(test_ids)\n",
    "    test_df = dataframe.drop(train_ids)\n",
    "\n",
    "    return train_df, test_df"
   ]
  },
  {
   "cell_type": "code",
   "execution_count": 43,
   "metadata": {},
   "outputs": [],
   "source": [
    "# split into training and external testing sets\n",
    "train_X, test_X = split_train_test(reduced_X)\n",
    "train_y, test_y = split_train_test(label_df)"
   ]
  },
  {
   "cell_type": "markdown",
   "metadata": {},
   "source": [
    "#### Training set"
   ]
  },
  {
   "cell_type": "code",
   "execution_count": 45,
   "metadata": {},
   "outputs": [],
   "source": [
    "train_df = pd.concat([train_X, train_y], axis=1)"
   ]
  },
  {
   "cell_type": "markdown",
   "metadata": {},
   "source": [
    "#### External testing set"
   ]
  },
  {
   "cell_type": "code",
   "execution_count": 46,
   "metadata": {
    "scrolled": true
   },
   "outputs": [],
   "source": [
    "test_df = pd.concat([test_X, test_y], axis=1)"
   ]
  },
  {
   "cell_type": "markdown",
   "metadata": {},
   "source": [
    "### Cross validation"
   ]
  },
  {
   "cell_type": "code",
   "execution_count": 11,
   "metadata": {},
   "outputs": [],
   "source": [
    "def split_dataset(dataset, n_splits, random_state):\n",
    "    \"\"\"KFold implementation for pandas DataFrame.\n",
    "    (https://stackoverflow.com/questions/45115964/separate-pandas-dataframe-using-sklearns-kfold)\"\"\"\n",
    "    logging.info('Performing {}-fold cross-validation...'.format(n_splits))\n",
    "\n",
    "    kf = KFold(n_splits=n_splits, shuffle=True, random_state=random_state)\n",
    "\n",
    "    kfolds = []\n",
    "    global offset_col_name\n",
    "\n",
    "    for train, validate in kf.split(dataset):\n",
    "        training = dataset.iloc[train]\n",
    "        train_labels = training[label_col]\n",
    "        train_set = training.drop(label_col, axis=1)\n",
    "\n",
    "        validating = dataset.iloc[validate]\n",
    "        validate_labels = validating[label_col]\n",
    "        validate_set = validating.drop(label_col, axis=1)\n",
    "\n",
    "        kfolds.append(\n",
    "            [[train_set, validate_set],\n",
    "             [train_labels, validate_labels]]\n",
    "        )\n",
    "\n",
    "    with open(path + 'kfolds.json', \"wb\") as f:\n",
    "        pickle.dump(kfolds, f)\n",
    "\n",
    "    logging.info('Pickled kfolds nested list at {}kfolds.json.'.format(path))\n",
    "    return kfolds"
   ]
  },
  {
   "cell_type": "code",
   "execution_count": 12,
   "metadata": {},
   "outputs": [],
   "source": [
    "# call function\n",
    "kfolds = split_dataset(train_df, n_splits, random_state)"
   ]
  },
  {
   "cell_type": "markdown",
   "metadata": {},
   "source": [
    "## Training"
   ]
  },
  {
   "cell_type": "code",
   "execution_count": 13,
   "metadata": {},
   "outputs": [],
   "source": [
    "# init training statistics logger\n",
    "mae_logger = output_dr + model_type + '_statistics.csv'\n",
    "with open(mae_logger, 'w') as file:\n",
    "    writer = csv.writer(file)\n",
    "    writer.writerow(['Fold', 'MAE (kcal/mol)', 'Parameters'])"
   ]
  },
  {
   "cell_type": "markdown",
   "metadata": {},
   "source": [
    "### Hyper-parameter ranges"
   ]
  },
  {
   "cell_type": "code",
   "execution_count": 14,
   "metadata": {},
   "outputs": [],
   "source": [
    "# set hyper-parameter ranges, append to list\n",
    "dim_param_C = Categorical(categories=list(np.logspace(-3, 2, 6, dtype=\"float32\")), name=\"param_C\")\n",
    "dim_param_gamma = Categorical(categories=list(np.logspace(-3, 2, 6, dtype=\"float32\")), name=\"param_gamma\")\n",
    "dim_param_epsilon = Categorical(categories=list(np.logspace(-3, 2, 6, dtype=\"float32\")), name=\"param_epsilon\")\n",
    "\n",
    "# gp_minimize dimensions\n",
    "dimensions = [dim_param_C, dim_param_gamma, dim_param_epsilon]"
   ]
  },
  {
   "cell_type": "markdown",
   "metadata": {},
   "source": [
    "### SVR model"
   ]
  },
  {
   "cell_type": "code",
   "execution_count": 15,
   "metadata": {},
   "outputs": [],
   "source": [
    "def create_model(param_gamma, param_C, param_epsilon):\n",
    "    \"\"\"Returns a SVR class instance.\"\"\"\n",
    "    \n",
    "    return SVR(kernel=kernel,\n",
    "               gamma=param_gamma,\n",
    "               C=param_C,\n",
    "               epsilon=param_epsilon,\n",
    "               verbose=False)"
   ]
  },
  {
   "cell_type": "markdown",
   "metadata": {},
   "source": [
    "### Training function"
   ]
  },
  {
   "cell_type": "code",
   "execution_count": 16,
   "metadata": {},
   "outputs": [],
   "source": [
    "class tqdm_skopt(object):\n",
    "    \"\"\"tqdm implementation for skopt.gp_minimize\"\"\"\n",
    "    def __init__(self, **kwargs):\n",
    "        self._bar = tqdm(**kwargs)\n",
    "        \n",
    "    def __call__(self, res):\n",
    "        self._bar.update()"
   ]
  },
  {
   "cell_type": "code",
   "execution_count": 17,
   "metadata": {},
   "outputs": [],
   "source": [
    "def train_model(fold, fold_num):\n",
    "    \"\"\"\n",
    "    1. Unpack data.\n",
    "    2. Define fitness function for guassian process optmisation.\n",
    "    3. Decorate fitness with pre-defined hyper-parameter ranges.\n",
    "    4. Return and pickle final gp_minimize object.\n",
    "    \"\"\"\n",
    "    logging.info('Started training fold {}...'.format(str(fold_num)))\n",
    "\n",
    "    # retrieve data sets and convert to numpy array\n",
    "    train_X = fold[0][0].values\n",
    "    validate_X = fold[0][1].values\n",
    "    train_y = fold[1][0].values\n",
    "    validate_y = fold[1][1].values\n",
    "    \n",
    "    # define function for gaussian process optimisation\n",
    "    @use_named_args(dimensions=dimensions)\n",
    "    def fitness(param_C, param_gamma, param_epsilon):\n",
    "        \"\"\"Function for gaussian process optmisation.\"\"\"\n",
    "\n",
    "        # create SVR model\n",
    "        model = create_model(param_C, param_gamma, param_epsilon)\n",
    "\n",
    "        # train model on training data\n",
    "        model.fit(train_X, train_y)\n",
    "\n",
    "        # validate model\n",
    "        predicted_y = model.predict(validate_X)\n",
    "        mae = mean_absolute_error(validate_y, predicted_y)\n",
    "\n",
    "        # update statistics\n",
    "        with open(output_dr + model_type + '_statistics.csv', 'a') as file:\n",
    "            writer = csv.writer(file)\n",
    "            writer.writerow([fold_num, mae, [param_gamma, param_gamma, param_epsilon]])\n",
    "\n",
    "        # check if model improves\n",
    "        global best_mae\n",
    "        if mae < best_mae:\n",
    "            # update new model accuracy.\n",
    "            best_mae = mae\n",
    "            # overwrite model if mae improves\n",
    "            pkl_file = output_dr + 'fold_' + str(fold_num) + '_' + model_type + '_model.pickle'\n",
    "            with open(pkl_file, 'wb') as file: pickle.dump(model, file)\n",
    "            logging.info('Saved {}.'.format(pkl_file))\n",
    "\n",
    "        # reset best MAE\n",
    "        best_mae = np.inf\n",
    "        \n",
    "        return mae\n",
    "    \n",
    "    # starting parameters\n",
    "    default_parameters = [1.0, 1.0, 1.0]\n",
    "    # optimise hyper-parameters\n",
    "    search_result = gp_minimize(func=fitness,\n",
    "                                dimensions=dimensions,\n",
    "                                acq_func='EI',  # Expected Improvement.\n",
    "                                n_calls=n_calls,\n",
    "                                x0=default_parameters,\n",
    "                                verbose=False,\n",
    "                                callback=[tqdm_skopt(total=n_calls, desc='Fold {}'.format(fold_num))])\n",
    "\n",
    "    # save skopt object and analyse in a separate script as\n",
    "    logging.info('Saved {}fold_{}_gp_minimize_result.pickle.'.format(output_dr, fold_num))\n",
    "\n",
    "    logging.info('Finished training fold {}: {}.'.format(str(fold_num), search_result.x))\n",
    "    return search_result"
   ]
  },
  {
   "cell_type": "markdown",
   "metadata": {},
   "source": [
    "### Perform training per fold"
   ]
  },
  {
   "cell_type": "code",
   "execution_count": 18,
   "metadata": {
    "scrolled": true
   },
   "outputs": [
    {
     "name": "stderr",
     "output_type": "stream",
     "text": [
      "/home/wwu/anaconda3/envs/freesolv/lib/python3.7/site-packages/ipykernel_launcher.py:4: TqdmDeprecationWarning: This function will be removed in tqdm==5.0.0\n",
      "Please use `tqdm.notebook.tqdm` instead of `tqdm.tqdm_notebook`\n",
      "  after removing the cwd from sys.path.\n"
     ]
    },
    {
     "data": {
      "application/vnd.jupyter.widget-view+json": {
       "model_id": "502eb313403a4396b509e58730f989e5",
       "version_major": 2,
       "version_minor": 0
      },
      "text/plain": [
       "HBox(children=(FloatProgress(value=0.0, description='Fold 1', max=60.0, style=ProgressStyle(description_width=…"
      ]
     },
     "metadata": {},
     "output_type": "display_data"
    },
    {
     "name": "stderr",
     "output_type": "stream",
     "text": [
      "/home/wwu/anaconda3/envs/freesolv/lib/python3.7/site-packages/skopt/optimizer/optimizer.py:399: UserWarning: The objective has been evaluated at this point before.\n",
      "  warnings.warn(\"The objective has been evaluated \"\n",
      "/home/wwu/anaconda3/envs/freesolv/lib/python3.7/site-packages/skopt/optimizer/optimizer.py:399: UserWarning: The objective has been evaluated at this point before.\n",
      "  warnings.warn(\"The objective has been evaluated \"\n",
      "/home/wwu/anaconda3/envs/freesolv/lib/python3.7/site-packages/skopt/optimizer/optimizer.py:399: UserWarning: The objective has been evaluated at this point before.\n",
      "  warnings.warn(\"The objective has been evaluated \"\n",
      "/home/wwu/anaconda3/envs/freesolv/lib/python3.7/site-packages/ipykernel_launcher.py:4: TqdmDeprecationWarning: This function will be removed in tqdm==5.0.0\n",
      "Please use `tqdm.notebook.tqdm` instead of `tqdm.tqdm_notebook`\n",
      "  after removing the cwd from sys.path.\n"
     ]
    },
    {
     "data": {
      "application/vnd.jupyter.widget-view+json": {
       "model_id": "e94c3e4d0e2c44ba8835f57c5c3ef658",
       "version_major": 2,
       "version_minor": 0
      },
      "text/plain": [
       "HBox(children=(FloatProgress(value=0.0, description='Fold 2', max=60.0, style=ProgressStyle(description_width=…"
      ]
     },
     "metadata": {},
     "output_type": "display_data"
    },
    {
     "name": "stderr",
     "output_type": "stream",
     "text": [
      "/home/wwu/anaconda3/envs/freesolv/lib/python3.7/site-packages/skopt/optimizer/optimizer.py:399: UserWarning: The objective has been evaluated at this point before.\n",
      "  warnings.warn(\"The objective has been evaluated \"\n",
      "/home/wwu/anaconda3/envs/freesolv/lib/python3.7/site-packages/skopt/optimizer/optimizer.py:399: UserWarning: The objective has been evaluated at this point before.\n",
      "  warnings.warn(\"The objective has been evaluated \"\n",
      "/home/wwu/anaconda3/envs/freesolv/lib/python3.7/site-packages/skopt/optimizer/optimizer.py:399: UserWarning: The objective has been evaluated at this point before.\n",
      "  warnings.warn(\"The objective has been evaluated \"\n",
      "/home/wwu/anaconda3/envs/freesolv/lib/python3.7/site-packages/skopt/optimizer/optimizer.py:399: UserWarning: The objective has been evaluated at this point before.\n",
      "  warnings.warn(\"The objective has been evaluated \"\n",
      "/home/wwu/anaconda3/envs/freesolv/lib/python3.7/site-packages/skopt/optimizer/optimizer.py:399: UserWarning: The objective has been evaluated at this point before.\n",
      "  warnings.warn(\"The objective has been evaluated \"\n",
      "/home/wwu/anaconda3/envs/freesolv/lib/python3.7/site-packages/skopt/optimizer/optimizer.py:399: UserWarning: The objective has been evaluated at this point before.\n",
      "  warnings.warn(\"The objective has been evaluated \"\n",
      "/home/wwu/anaconda3/envs/freesolv/lib/python3.7/site-packages/skopt/optimizer/optimizer.py:399: UserWarning: The objective has been evaluated at this point before.\n",
      "  warnings.warn(\"The objective has been evaluated \"\n",
      "/home/wwu/anaconda3/envs/freesolv/lib/python3.7/site-packages/ipykernel_launcher.py:4: TqdmDeprecationWarning: This function will be removed in tqdm==5.0.0\n",
      "Please use `tqdm.notebook.tqdm` instead of `tqdm.tqdm_notebook`\n",
      "  after removing the cwd from sys.path.\n"
     ]
    },
    {
     "data": {
      "application/vnd.jupyter.widget-view+json": {
       "model_id": "ccae3de664ac4c27a5ac10e60ea0998d",
       "version_major": 2,
       "version_minor": 0
      },
      "text/plain": [
       "HBox(children=(FloatProgress(value=0.0, description='Fold 3', max=60.0, style=ProgressStyle(description_width=…"
      ]
     },
     "metadata": {},
     "output_type": "display_data"
    },
    {
     "name": "stderr",
     "output_type": "stream",
     "text": [
      "/home/wwu/anaconda3/envs/freesolv/lib/python3.7/site-packages/skopt/optimizer/optimizer.py:399: UserWarning: The objective has been evaluated at this point before.\n",
      "  warnings.warn(\"The objective has been evaluated \"\n",
      "/home/wwu/anaconda3/envs/freesolv/lib/python3.7/site-packages/skopt/optimizer/optimizer.py:399: UserWarning: The objective has been evaluated at this point before.\n",
      "  warnings.warn(\"The objective has been evaluated \"\n",
      "/home/wwu/anaconda3/envs/freesolv/lib/python3.7/site-packages/skopt/optimizer/optimizer.py:399: UserWarning: The objective has been evaluated at this point before.\n",
      "  warnings.warn(\"The objective has been evaluated \"\n",
      "/home/wwu/anaconda3/envs/freesolv/lib/python3.7/site-packages/skopt/optimizer/optimizer.py:399: UserWarning: The objective has been evaluated at this point before.\n",
      "  warnings.warn(\"The objective has been evaluated \"\n",
      "/home/wwu/anaconda3/envs/freesolv/lib/python3.7/site-packages/ipykernel_launcher.py:4: TqdmDeprecationWarning: This function will be removed in tqdm==5.0.0\n",
      "Please use `tqdm.notebook.tqdm` instead of `tqdm.tqdm_notebook`\n",
      "  after removing the cwd from sys.path.\n"
     ]
    },
    {
     "data": {
      "application/vnd.jupyter.widget-view+json": {
       "model_id": "ef5a36d7eb4442559aef98b56160e24b",
       "version_major": 2,
       "version_minor": 0
      },
      "text/plain": [
       "HBox(children=(FloatProgress(value=0.0, description='Fold 4', max=60.0, style=ProgressStyle(description_width=…"
      ]
     },
     "metadata": {},
     "output_type": "display_data"
    },
    {
     "name": "stderr",
     "output_type": "stream",
     "text": [
      "/home/wwu/anaconda3/envs/freesolv/lib/python3.7/site-packages/skopt/optimizer/optimizer.py:399: UserWarning: The objective has been evaluated at this point before.\n",
      "  warnings.warn(\"The objective has been evaluated \"\n",
      "/home/wwu/anaconda3/envs/freesolv/lib/python3.7/site-packages/skopt/optimizer/optimizer.py:399: UserWarning: The objective has been evaluated at this point before.\n",
      "  warnings.warn(\"The objective has been evaluated \"\n",
      "/home/wwu/anaconda3/envs/freesolv/lib/python3.7/site-packages/skopt/optimizer/optimizer.py:399: UserWarning: The objective has been evaluated at this point before.\n",
      "  warnings.warn(\"The objective has been evaluated \"\n",
      "/home/wwu/anaconda3/envs/freesolv/lib/python3.7/site-packages/ipykernel_launcher.py:4: TqdmDeprecationWarning: This function will be removed in tqdm==5.0.0\n",
      "Please use `tqdm.notebook.tqdm` instead of `tqdm.tqdm_notebook`\n",
      "  after removing the cwd from sys.path.\n"
     ]
    },
    {
     "data": {
      "application/vnd.jupyter.widget-view+json": {
       "model_id": "f6034f1410044d309c01721e3136b89c",
       "version_major": 2,
       "version_minor": 0
      },
      "text/plain": [
       "HBox(children=(FloatProgress(value=0.0, description='Fold 5', max=60.0, style=ProgressStyle(description_width=…"
      ]
     },
     "metadata": {},
     "output_type": "display_data"
    },
    {
     "name": "stderr",
     "output_type": "stream",
     "text": [
      "/home/wwu/anaconda3/envs/freesolv/lib/python3.7/site-packages/skopt/optimizer/optimizer.py:399: UserWarning: The objective has been evaluated at this point before.\n",
      "  warnings.warn(\"The objective has been evaluated \"\n",
      "/home/wwu/anaconda3/envs/freesolv/lib/python3.7/site-packages/skopt/optimizer/optimizer.py:399: UserWarning: The objective has been evaluated at this point before.\n",
      "  warnings.warn(\"The objective has been evaluated \"\n",
      "/home/wwu/anaconda3/envs/freesolv/lib/python3.7/site-packages/skopt/optimizer/optimizer.py:399: UserWarning: The objective has been evaluated at this point before.\n",
      "  warnings.warn(\"The objective has been evaluated \"\n",
      "/home/wwu/anaconda3/envs/freesolv/lib/python3.7/site-packages/skopt/optimizer/optimizer.py:399: UserWarning: The objective has been evaluated at this point before.\n",
      "  warnings.warn(\"The objective has been evaluated \"\n",
      "/home/wwu/anaconda3/envs/freesolv/lib/python3.7/site-packages/skopt/optimizer/optimizer.py:399: UserWarning: The objective has been evaluated at this point before.\n",
      "  warnings.warn(\"The objective has been evaluated \"\n",
      "/home/wwu/anaconda3/envs/freesolv/lib/python3.7/site-packages/skopt/optimizer/optimizer.py:399: UserWarning: The objective has been evaluated at this point before.\n",
      "  warnings.warn(\"The objective has been evaluated \"\n"
     ]
    }
   ],
   "source": [
    "# call train_model save gp_minimize objects to lsit\n",
    "gp_results = [train_model(fold, fold_num + 1) for fold_num, fold in enumerate(kfolds)]"
   ]
  },
  {
   "cell_type": "markdown",
   "metadata": {},
   "source": [
    "### Convergence plot"
   ]
  },
  {
   "cell_type": "code",
   "execution_count": 19,
   "metadata": {},
   "outputs": [
    {
     "data": {
      "image/png": "[encoded data removed]",
      "text/plain": [
       "<Figure size 432x288 with 1 Axes>"
      ]
     },
     "metadata": {
      "needs_background": "light"
     },
     "output_type": "display_data"
    }
   ],
   "source": [
    "for result in gp_results: plot_convergence(result)\n",
    "plt.savefig(figures_dr + 'convergence_plot.png')"
   ]
  },
  {
   "cell_type": "markdown",
   "metadata": {},
   "source": [
    "## External testing"
   ]
  },
  {
   "cell_type": "markdown",
   "metadata": {},
   "source": [
    "### Predict $\\Delta G_{hydr}$"
   ]
  },
  {
   "cell_type": "code",
   "execution_count": 20,
   "metadata": {},
   "outputs": [],
   "source": [
    "def model_predict(model_num, test_entry):\n",
    "    \"\"\"Load model from pickle and return model prediction on a given test_entry.\"\"\"\n",
    "\n",
    "    with open(output_dr + 'fold_' + str(model_num) + '_' + model_type + '_model.pickle', 'rb') as f:\n",
    "        model = pickle.load(f)\n",
    "\n",
    "    return model.predict(test_entry)"
   ]
  },
  {
   "cell_type": "code",
   "execution_count": 49,
   "metadata": {},
   "outputs": [],
   "source": [
    "# ML predicted labels nested list per fold\n",
    "predict_per_fold = [model_predict(fold_num, test_X) for fold_num in range(1, n_splits + 1)]\n",
    "# average ML predicted labels\n",
    "predict_y = np.average(predict_per_fold, axis=0)\n",
    "# convert np array to float\n",
    "predict_y = [float(x) for x in predict_y]"
   ]
  },
  {
   "cell_type": "code",
   "execution_count": 22,
   "metadata": {},
   "outputs": [],
   "source": [
    "def plot_scatter(x, y, title, x_label, y_label):\n",
    "    \"\"\"\n",
    "    Returns and saves linear regression scatter plot.\n",
    "    x: (list) calculated or predicted data.\n",
    "    y: (list) true or experimental data.\n",
    "    title: (str) plot title and filename delimitted by underscores. Avoid special characters.\n",
    "    x_label: (str) x-axis label.\n",
    "    y_label: (str) y-axis label.\n",
    "    \"\"\"\n",
    "    \n",
    "    # plot scatter\n",
    "    plt.figure()\n",
    "    plt.scatter(x, y, color='black', s=8)\n",
    "\n",
    "    # plot line of best fit\n",
    "    # https://stackoverflow.com/questions/22239691/code-for-best-fit-straight-line-of-a-scatter-plot-in-python\n",
    "    plt.plot(np.unique(x),\n",
    "             np.poly1d(np.polyfit(x, y, 1))(np.unique(x)),\n",
    "             color='black', linewidth=1)\n",
    "\n",
    "    # axis labels\n",
    "    plt.xlabel(x_label)\n",
    "    plt.ylabel(y_label)\n",
    "\n",
    "    # figure title\n",
    "    plt.title(title)\n",
    "\n",
    "    # absolute error\n",
    "    ae = [abs(i - j) for i, j in zip(x, y)]\n",
    "    # mean absolute error\n",
    "    mae = statistics.mean(ae)\n",
    "    \n",
    "    # R-squared\n",
    "    slope, intercept, r_value, p_value, std_err = scipy.stats.linregress(y, x)\n",
    "    r2 = r_value**2\n",
    "\n",
    "    # annotate with r-squared and MAE\n",
    "    string = 'MAE = {}\\nR$^2$ = {}\\nR = {}'.format(round(mae, 4), round(r2, 4), round(r_value, 4))\n",
    "    plt.annotate(string, xy=(0, 1),\n",
    "                 xytext=(12, -12), va='top',\n",
    "                 xycoords='axes fraction',\n",
    "                 textcoords='offset points')\n",
    "\n",
    "    filename = figures_dr + str(title).lower().replace(' ', '_') + '.png'\n",
    "    plt.savefig(filename)\n",
    "    logging.info('Saved {}.'.format(filename))"
   ]
  },
  {
   "cell_type": "code",
   "execution_count": 23,
   "metadata": {},
   "outputs": [
    {
     "data": {
      "image/png": "[encoded data removed]",
      "text/plain": [
       "<Figure size 432x288 with 1 Axes>"
      ]
     },
     "metadata": {
      "needs_background": "light"
     },
     "output_type": "display_data"
    }
   ],
   "source": [
    "plot_scatter(x=predict_y,\n",
    "             y=test_y[label_col].tolist(),\n",
    "             title='{}-predicted hydration free energies'.format(model_type),\n",
    "             x_label='SVM-predicted $\\Delta G_{hydr}$ / kcal mol$^{-1}$',\n",
    "             y_label='Experimental $\\Delta G_{hydr}$ / kcal mol$^{-1}$')"
   ]
  }
 ],
 "metadata": {
  "kernelspec": {
   "display_name": "Python 3",
   "language": "python",
   "name": "python3"
  },
  "language_info": {
   "codemirror_mode": {
    "name": "ipython",
    "version": 3
   },
   "file_extension": ".py",
   "mimetype": "text/x-python",
   "name": "python",
   "nbconvert_exporter": "python",
   "pygments_lexer": "ipython3",
   "version": "3.7.4"
  },
  "toc": {
   "base_numbering": 1,
   "nav_menu": {},
   "number_sections": true,
   "sideBar": true,
   "skip_h1_title": true,
   "title_cell": "Table of Contents",
   "title_sidebar": "Contents",
   "toc_cell": true,
   "toc_position": {
    "height": "calc(100% - 180px)",
    "left": "10px",
    "top": "150px",
    "width": "165px"
   },
   "toc_section_display": true,
   "toc_window_display": true
  }
 },
 "nbformat": 4,
 "nbformat_minor": 2
}
