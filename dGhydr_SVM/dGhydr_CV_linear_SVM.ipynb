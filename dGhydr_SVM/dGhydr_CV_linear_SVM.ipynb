{
 "cells": [
  {
   "cell_type": "markdown",
   "metadata": {},
   "source": [
    "# Correcting absolute hydration free energies using support vector machines"
   ]
  },
  {
   "cell_type": "markdown",
   "metadata": {
    "toc": true
   },
   "source": [
    "<h1>Table of Contents<span class=\"tocSkip\"></span></h1>\n",
    "<div class=\"toc\"><ul class=\"toc-item\"><li><span><a href=\"#Imports\" data-toc-modified-id=\"Imports-1\"><span class=\"toc-item-num\">1&nbsp;&nbsp;</span>Imports</a></span></li><li><span><a href=\"#Global-variables\" data-toc-modified-id=\"Global-variables-2\"><span class=\"toc-item-num\">2&nbsp;&nbsp;</span>Global variables</a></span></li><li><span><a href=\"#Path-variables\" data-toc-modified-id=\"Path-variables-3\"><span class=\"toc-item-num\">3&nbsp;&nbsp;</span>Path variables</a></span></li><li><span><a href=\"#Logger\" data-toc-modified-id=\"Logger-4\"><span class=\"toc-item-num\">4&nbsp;&nbsp;</span>Logger</a></span></li><li><span><a href=\"#Data-preparation\" data-toc-modified-id=\"Data-preparation-5\"><span class=\"toc-item-num\">5&nbsp;&nbsp;</span>Data preparation</a></span><ul class=\"toc-item\"><li><span><a href=\"#Load-data\" data-toc-modified-id=\"Load-data-5.1\"><span class=\"toc-item-num\">5.1&nbsp;&nbsp;</span>Load data</a></span></li><li><span><a href=\"#Cross-validation\" data-toc-modified-id=\"Cross-validation-5.2\"><span class=\"toc-item-num\">5.2&nbsp;&nbsp;</span>Cross validation</a></span></li></ul></li><li><span><a href=\"#Training\" data-toc-modified-id=\"Training-6\"><span class=\"toc-item-num\">6&nbsp;&nbsp;</span>Training</a></span><ul class=\"toc-item\"><li><span><a href=\"#Hyper-parameter-ranges\" data-toc-modified-id=\"Hyper-parameter-ranges-6.1\"><span class=\"toc-item-num\">6.1&nbsp;&nbsp;</span>Hyper-parameter ranges</a></span></li><li><span><a href=\"#SVR-model\" data-toc-modified-id=\"SVR-model-6.2\"><span class=\"toc-item-num\">6.2&nbsp;&nbsp;</span>SVR model</a></span></li><li><span><a href=\"#Training-function\" data-toc-modified-id=\"Training-function-6.3\"><span class=\"toc-item-num\">6.3&nbsp;&nbsp;</span>Training function</a></span></li><li><span><a href=\"#Perform-training-per-fold\" data-toc-modified-id=\"Perform-training-per-fold-6.4\"><span class=\"toc-item-num\">6.4&nbsp;&nbsp;</span>Perform training per fold</a></span></li></ul></li><li><span><a href=\"#Hyper-parameter-search-space\" data-toc-modified-id=\"Hyper-parameter-search-space-7\"><span class=\"toc-item-num\">7&nbsp;&nbsp;</span>Hyper-parameter search space</a></span><ul class=\"toc-item\"><li><span><a href=\"#Convergence-plot\" data-toc-modified-id=\"Convergence-plot-7.1\"><span class=\"toc-item-num\">7.1&nbsp;&nbsp;</span>Convergence plot</a></span></li></ul></li><li><span><a href=\"#External-testing\" data-toc-modified-id=\"External-testing-8\"><span class=\"toc-item-num\">8&nbsp;&nbsp;</span>External testing</a></span><ul class=\"toc-item\"><li><span><a href=\"#Load-testing-data\" data-toc-modified-id=\"Load-testing-data-8.1\"><span class=\"toc-item-num\">8.1&nbsp;&nbsp;</span>Load testing data</a></span><ul class=\"toc-item\"><li><span><a href=\"#FreeSolve-database\" data-toc-modified-id=\"FreeSolve-database-8.1.1\"><span class=\"toc-item-num\">8.1.1&nbsp;&nbsp;</span>FreeSolve database</a></span></li><li><span><a href=\"#External-test-set\" data-toc-modified-id=\"External-test-set-8.1.2\"><span class=\"toc-item-num\">8.1.2&nbsp;&nbsp;</span>External test set</a></span><ul class=\"toc-item\"><li><span><a href=\"#FreeSolve-format\" data-toc-modified-id=\"FreeSolve-format-8.1.2.1\"><span class=\"toc-item-num\">8.1.2.1&nbsp;&nbsp;</span>FreeSolve format</a></span></li><li><span><a href=\"#Features-and-labels-format\" data-toc-modified-id=\"Features-and-labels-format-8.1.2.2\"><span class=\"toc-item-num\">8.1.2.2&nbsp;&nbsp;</span>Features and labels format</a></span></li></ul></li></ul></li><li><span><a href=\"#Original-$\\Delta-G_{hydr}$\" data-toc-modified-id=\"Original-$\\Delta-G_{hydr}$-8.2\"><span class=\"toc-item-num\">8.2&nbsp;&nbsp;</span>Original $\\Delta G_{hydr}$</a></span></li><li><span><a href=\"#Predict-$\\Delta-G_{offset}$\" data-toc-modified-id=\"Predict-$\\Delta-G_{offset}$-8.3\"><span class=\"toc-item-num\">8.3&nbsp;&nbsp;</span>Predict $\\Delta G_{offset}$</a></span></li><li><span><a href=\"#$\\Delta-G_{hydr}$-correction\" data-toc-modified-id=\"$\\Delta-G_{hydr}$-correction-8.4\"><span class=\"toc-item-num\">8.4&nbsp;&nbsp;</span>$\\Delta G_{hydr}$ correction</a></span></li></ul></li><li><span><a href=\"#Kernel-differences\" data-toc-modified-id=\"Kernel-differences-9\"><span class=\"toc-item-num\">9&nbsp;&nbsp;</span>Kernel differences</a></span><ul class=\"toc-item\"><li><span><a href=\"#Linear-kernel\" data-toc-modified-id=\"Linear-kernel-9.1\"><span class=\"toc-item-num\">9.1&nbsp;&nbsp;</span>Linear kernel</a></span></li><li><span><a href=\"#RBF-kernel\" data-toc-modified-id=\"RBF-kernel-9.2\"><span class=\"toc-item-num\">9.2&nbsp;&nbsp;</span>RBF kernel</a></span></li></ul></li></ul></div>"
   ]
  },
  {
   "cell_type": "markdown",
   "metadata": {},
   "source": [
    "## Imports"
   ]
  },
  {
   "cell_type": "code",
   "execution_count": 1,
   "metadata": {},
   "outputs": [
    {
     "name": "stderr",
     "output_type": "stream",
     "text": [
      "/home/wwu/anaconda3/envs/freesolv/lib/python3.7/site-packages/sklearn/externals/joblib/__init__.py:15: DeprecationWarning: sklearn.externals.joblib is deprecated in 0.21 and will be removed in 0.23. Please import this functionality directly from joblib, which can be installed with: pip install joblib. If this warning is raised when loading pickled models, you may need to re-serialize those models with scikit-learn 0.21+.\n",
      "  warnings.warn(msg, category=DeprecationWarning)\n"
     ]
    }
   ],
   "source": [
    "# General:\n",
    "import pandas as pd\n",
    "import numpy as np\n",
    "from matplotlib import pyplot as plt\n",
    "import os\n",
    "import csv\n",
    "import time\n",
    "import scipy\n",
    "import shutil\n",
    "import logging\n",
    "import pickle\n",
    "import statistics\n",
    "from tqdm import tqdm_notebook as tqdm\n",
    "\n",
    "# SVM:\n",
    "from sklearn.svm import SVR\n",
    "from sklearn.model_selection import KFold\n",
    "from sklearn.metrics import mean_absolute_error\n",
    "\n",
    "# SciKit-Optimise:\n",
    "from skopt import gp_minimize, dump\n",
    "from skopt.space import Categorical\n",
    "from skopt.utils import use_named_args\n",
    "from skopt.plots import plot_convergence"
   ]
  },
  {
   "cell_type": "markdown",
   "metadata": {},
   "source": [
    "## Global variables"
   ]
  },
  {
   "cell_type": "code",
   "execution_count": 2,
   "metadata": {},
   "outputs": [],
   "source": [
    "# Global variables:\n",
    "model_type = 'SVM'\n",
    "kernel = 'linear'\n",
    "label_col = 'dGoffset (kcal/mol)'\n",
    "\n",
    "# set data processing configurations:\n",
    "n_calls = 60  # Number of Bayesian optimisation loops for hyperparameter optimisation, 40 is best for convergence, > 60 scales to very expensive\n",
    "best_mae = np.inf  # Point to consider top-performing model from (MAE/MAD); 1.0 = no improvement on test-set variance\n",
    "\n",
    "# KFold parameters:\n",
    "n_splits = 5  # Number of K-fold splits\n",
    "random_state = 2  # Random number seed"
   ]
  },
  {
   "cell_type": "markdown",
   "metadata": {},
   "source": [
    "## Path variables"
   ]
  },
  {
   "cell_type": "code",
   "execution_count": 3,
   "metadata": {},
   "outputs": [],
   "source": [
    "# Path variables:\n",
    "path = './'\n",
    "datasets_dr = '../datasets/'\n",
    "SDF_dr = datasets_dr + 'sdffiles/'\n",
    "output_dr = path + 'output' + '_' + kernel + '/'\n",
    "if not os.path.exists(output_dr):\n",
    "    os.mkdir(output_dr)\n",
    "figures_dr = path + 'figures' + '_' + kernel + '/'\n",
    "if not os.path.exists(figures_dr):\n",
    "    os.mkdir(figures_dr)\n",
    "freesolv_loc = datasets_dr + 'freesolv_database.txt'"
   ]
  },
  {
   "cell_type": "markdown",
   "metadata": {},
   "source": [
    "## Logger"
   ]
  },
  {
   "cell_type": "code",
   "execution_count": 4,
   "metadata": {},
   "outputs": [],
   "source": [
    "# clean slate output_dr\n",
    "if os.path.exists(output_dr):\n",
    "    shutil.rmtree(output_dr)\n",
    "if not os.path.exists(output_dr):\n",
    "    os.mkdir(output_dr)\n",
    "\n",
    "# initiate log file\n",
    "logging.basicConfig(filename= output_dr + 'dGhydr_' + model_type + '.log',\n",
    "                    filemode='a',\n",
    "                    format='%(asctime)s - %(message)s',\n",
    "                    level=logging.INFO)\n",
    "\n",
    "logging.info('Starting {}.ipynb.'.format(os.path.abspath('')))\n",
    "logging.info('\\n\\nParameters:\\n\\nn_calls = {}  # gp_minimize\\nn_splits = {}  # Kfolds\\n'.format(n_calls, n_splits))"
   ]
  },
  {
   "cell_type": "markdown",
   "metadata": {},
   "source": [
    "## Data preparation"
   ]
  },
  {
   "cell_type": "markdown",
   "metadata": {},
   "source": [
    "### Load data"
   ]
  },
  {
   "cell_type": "code",
   "execution_count": 5,
   "metadata": {},
   "outputs": [
    {
     "data": {
      "text/html": [
       "<div>\n",
       "<style scoped>\n",
       "    .dataframe tbody tr th:only-of-type {\n",
       "        vertical-align: middle;\n",
       "    }\n",
       "\n",
       "    .dataframe tbody tr th {\n",
       "        vertical-align: top;\n",
       "    }\n",
       "\n",
       "    .dataframe thead th {\n",
       "        text-align: right;\n",
       "    }\n",
       "</style>\n",
       "<table border=\"1\" class=\"dataframe\">\n",
       "  <thead>\n",
       "    <tr style=\"text-align: right;\">\n",
       "      <th></th>\n",
       "      <th>PC1</th>\n",
       "      <th>PC2</th>\n",
       "      <th>PC3</th>\n",
       "      <th>PC4</th>\n",
       "      <th>PC5</th>\n",
       "      <th>PC6</th>\n",
       "      <th>PC7</th>\n",
       "      <th>PC8</th>\n",
       "      <th>PC9</th>\n",
       "      <th>PC10</th>\n",
       "      <th>...</th>\n",
       "      <th>PC103</th>\n",
       "      <th>PC104</th>\n",
       "      <th>PC105</th>\n",
       "      <th>PC106</th>\n",
       "      <th>PC107</th>\n",
       "      <th>PC108</th>\n",
       "      <th>PC109</th>\n",
       "      <th>PC110</th>\n",
       "      <th>PC111</th>\n",
       "      <th>dGoffset (kcal/mol)</th>\n",
       "    </tr>\n",
       "  </thead>\n",
       "  <tbody>\n",
       "    <tr>\n",
       "      <td>mobley_1017962</td>\n",
       "      <td>1.781592</td>\n",
       "      <td>-9.059647</td>\n",
       "      <td>3.780119</td>\n",
       "      <td>-1.056808</td>\n",
       "      <td>-1.528974</td>\n",
       "      <td>1.154161</td>\n",
       "      <td>2.361153</td>\n",
       "      <td>-2.700138</td>\n",
       "      <td>-5.169281</td>\n",
       "      <td>-2.558583</td>\n",
       "      <td>...</td>\n",
       "      <td>0.176910</td>\n",
       "      <td>0.448660</td>\n",
       "      <td>-0.481919</td>\n",
       "      <td>-0.730970</td>\n",
       "      <td>1.433422</td>\n",
       "      <td>-0.871800</td>\n",
       "      <td>-0.046023</td>\n",
       "      <td>0.146078</td>\n",
       "      <td>-0.985729</td>\n",
       "      <td>0.81</td>\n",
       "    </tr>\n",
       "    <tr>\n",
       "      <td>mobley_1019269</td>\n",
       "      <td>-15.261008</td>\n",
       "      <td>-4.347183</td>\n",
       "      <td>1.379246</td>\n",
       "      <td>0.645708</td>\n",
       "      <td>1.531135</td>\n",
       "      <td>0.856268</td>\n",
       "      <td>2.825631</td>\n",
       "      <td>1.283684</td>\n",
       "      <td>-3.142267</td>\n",
       "      <td>-1.366230</td>\n",
       "      <td>...</td>\n",
       "      <td>0.650525</td>\n",
       "      <td>-0.065040</td>\n",
       "      <td>-0.539433</td>\n",
       "      <td>0.367840</td>\n",
       "      <td>0.331124</td>\n",
       "      <td>0.003756</td>\n",
       "      <td>-0.432505</td>\n",
       "      <td>-0.340372</td>\n",
       "      <td>0.021577</td>\n",
       "      <td>-1.49</td>\n",
       "    </tr>\n",
       "    <tr>\n",
       "      <td>mobley_1034539</td>\n",
       "      <td>36.296153</td>\n",
       "      <td>18.307947</td>\n",
       "      <td>-16.146556</td>\n",
       "      <td>9.478137</td>\n",
       "      <td>5.356792</td>\n",
       "      <td>-1.551679</td>\n",
       "      <td>8.356573</td>\n",
       "      <td>-6.716154</td>\n",
       "      <td>-1.947512</td>\n",
       "      <td>7.365367</td>\n",
       "      <td>...</td>\n",
       "      <td>0.168824</td>\n",
       "      <td>0.777216</td>\n",
       "      <td>1.135480</td>\n",
       "      <td>0.712777</td>\n",
       "      <td>-0.498693</td>\n",
       "      <td>0.691487</td>\n",
       "      <td>-1.452439</td>\n",
       "      <td>0.096043</td>\n",
       "      <td>-1.621214</td>\n",
       "      <td>-1.96</td>\n",
       "    </tr>\n",
       "    <tr>\n",
       "      <td>mobley_1036761</td>\n",
       "      <td>-7.287637</td>\n",
       "      <td>-6.559314</td>\n",
       "      <td>-4.371576</td>\n",
       "      <td>-0.002275</td>\n",
       "      <td>1.794860</td>\n",
       "      <td>5.108000</td>\n",
       "      <td>0.532538</td>\n",
       "      <td>-1.465378</td>\n",
       "      <td>-2.029966</td>\n",
       "      <td>-1.791384</td>\n",
       "      <td>...</td>\n",
       "      <td>0.644729</td>\n",
       "      <td>0.141384</td>\n",
       "      <td>2.021007</td>\n",
       "      <td>0.251282</td>\n",
       "      <td>-0.186177</td>\n",
       "      <td>0.216360</td>\n",
       "      <td>-2.022736</td>\n",
       "      <td>-0.802692</td>\n",
       "      <td>-0.227339</td>\n",
       "      <td>-0.64</td>\n",
       "    </tr>\n",
       "    <tr>\n",
       "      <td>mobley_1046331</td>\n",
       "      <td>0.013096</td>\n",
       "      <td>5.160060</td>\n",
       "      <td>-0.553108</td>\n",
       "      <td>-8.828100</td>\n",
       "      <td>-1.271934</td>\n",
       "      <td>-2.744112</td>\n",
       "      <td>1.456818</td>\n",
       "      <td>0.573025</td>\n",
       "      <td>-3.004421</td>\n",
       "      <td>-1.923495</td>\n",
       "      <td>...</td>\n",
       "      <td>-0.823191</td>\n",
       "      <td>0.277780</td>\n",
       "      <td>1.177761</td>\n",
       "      <td>-0.455553</td>\n",
       "      <td>0.149812</td>\n",
       "      <td>-0.992073</td>\n",
       "      <td>-0.448685</td>\n",
       "      <td>-0.195229</td>\n",
       "      <td>0.616093</td>\n",
       "      <td>1.62</td>\n",
       "    </tr>\n",
       "    <tr>\n",
       "      <td>...</td>\n",
       "      <td>...</td>\n",
       "      <td>...</td>\n",
       "      <td>...</td>\n",
       "      <td>...</td>\n",
       "      <td>...</td>\n",
       "      <td>...</td>\n",
       "      <td>...</td>\n",
       "      <td>...</td>\n",
       "      <td>...</td>\n",
       "      <td>...</td>\n",
       "      <td>...</td>\n",
       "      <td>...</td>\n",
       "      <td>...</td>\n",
       "      <td>...</td>\n",
       "      <td>...</td>\n",
       "      <td>...</td>\n",
       "      <td>...</td>\n",
       "      <td>...</td>\n",
       "      <td>...</td>\n",
       "      <td>...</td>\n",
       "      <td>...</td>\n",
       "    </tr>\n",
       "    <tr>\n",
       "      <td>mobley_9913368</td>\n",
       "      <td>-20.236474</td>\n",
       "      <td>9.027594</td>\n",
       "      <td>-0.488696</td>\n",
       "      <td>6.984286</td>\n",
       "      <td>2.903779</td>\n",
       "      <td>-4.453868</td>\n",
       "      <td>1.557532</td>\n",
       "      <td>1.482581</td>\n",
       "      <td>-0.569213</td>\n",
       "      <td>-0.728069</td>\n",
       "      <td>...</td>\n",
       "      <td>0.662516</td>\n",
       "      <td>0.124512</td>\n",
       "      <td>-1.252097</td>\n",
       "      <td>0.093136</td>\n",
       "      <td>0.964358</td>\n",
       "      <td>1.117784</td>\n",
       "      <td>-0.596488</td>\n",
       "      <td>0.125104</td>\n",
       "      <td>-0.104126</td>\n",
       "      <td>-1.80</td>\n",
       "    </tr>\n",
       "    <tr>\n",
       "      <td>mobley_9942801</td>\n",
       "      <td>0.465744</td>\n",
       "      <td>-3.377600</td>\n",
       "      <td>-9.321441</td>\n",
       "      <td>-5.431455</td>\n",
       "      <td>0.795493</td>\n",
       "      <td>0.275491</td>\n",
       "      <td>-3.901344</td>\n",
       "      <td>-1.813911</td>\n",
       "      <td>3.214033</td>\n",
       "      <td>0.992900</td>\n",
       "      <td>...</td>\n",
       "      <td>0.550031</td>\n",
       "      <td>-0.060056</td>\n",
       "      <td>0.567654</td>\n",
       "      <td>0.528096</td>\n",
       "      <td>0.281406</td>\n",
       "      <td>-0.258472</td>\n",
       "      <td>0.607825</td>\n",
       "      <td>0.480860</td>\n",
       "      <td>-0.378041</td>\n",
       "      <td>-0.38</td>\n",
       "    </tr>\n",
       "    <tr>\n",
       "      <td>mobley_994483</td>\n",
       "      <td>-23.790773</td>\n",
       "      <td>3.251655</td>\n",
       "      <td>-1.631419</td>\n",
       "      <td>11.152238</td>\n",
       "      <td>3.508680</td>\n",
       "      <td>-7.857823</td>\n",
       "      <td>-2.714649</td>\n",
       "      <td>3.183763</td>\n",
       "      <td>0.001303</td>\n",
       "      <td>-1.865963</td>\n",
       "      <td>...</td>\n",
       "      <td>0.202422</td>\n",
       "      <td>-0.385468</td>\n",
       "      <td>0.059621</td>\n",
       "      <td>-1.176402</td>\n",
       "      <td>0.542244</td>\n",
       "      <td>0.026653</td>\n",
       "      <td>-1.198516</td>\n",
       "      <td>-0.103893</td>\n",
       "      <td>0.185989</td>\n",
       "      <td>-1.23</td>\n",
       "    </tr>\n",
       "    <tr>\n",
       "      <td>mobley_9974966</td>\n",
       "      <td>-7.485137</td>\n",
       "      <td>-8.419295</td>\n",
       "      <td>-3.439812</td>\n",
       "      <td>6.400467</td>\n",
       "      <td>-3.151041</td>\n",
       "      <td>3.133507</td>\n",
       "      <td>-4.384348</td>\n",
       "      <td>-3.678455</td>\n",
       "      <td>6.494977</td>\n",
       "      <td>6.819835</td>\n",
       "      <td>...</td>\n",
       "      <td>-0.746396</td>\n",
       "      <td>-0.626866</td>\n",
       "      <td>-1.084912</td>\n",
       "      <td>0.240855</td>\n",
       "      <td>-0.400569</td>\n",
       "      <td>-1.748269</td>\n",
       "      <td>-0.498583</td>\n",
       "      <td>-0.721052</td>\n",
       "      <td>-0.141620</td>\n",
       "      <td>-1.35</td>\n",
       "    </tr>\n",
       "    <tr>\n",
       "      <td>mobley_9979854</td>\n",
       "      <td>-5.298027</td>\n",
       "      <td>11.052041</td>\n",
       "      <td>19.860505</td>\n",
       "      <td>-2.104938</td>\n",
       "      <td>-3.803667</td>\n",
       "      <td>6.641799</td>\n",
       "      <td>-1.995134</td>\n",
       "      <td>-8.120011</td>\n",
       "      <td>5.450319</td>\n",
       "      <td>-2.381429</td>\n",
       "      <td>...</td>\n",
       "      <td>-2.059559</td>\n",
       "      <td>-1.528944</td>\n",
       "      <td>-0.728551</td>\n",
       "      <td>0.369873</td>\n",
       "      <td>0.012996</td>\n",
       "      <td>-0.453640</td>\n",
       "      <td>-0.613581</td>\n",
       "      <td>-0.294865</td>\n",
       "      <td>1.107766</td>\n",
       "      <td>-0.71</td>\n",
       "    </tr>\n",
       "  </tbody>\n",
       "</table>\n",
       "<p>601 rows × 112 columns</p>\n",
       "</div>"
      ],
      "text/plain": [
       "                      PC1        PC2        PC3        PC4       PC5  \\\n",
       "mobley_1017962   1.781592  -9.059647   3.780119  -1.056808 -1.528974   \n",
       "mobley_1019269 -15.261008  -4.347183   1.379246   0.645708  1.531135   \n",
       "mobley_1034539  36.296153  18.307947 -16.146556   9.478137  5.356792   \n",
       "mobley_1036761  -7.287637  -6.559314  -4.371576  -0.002275  1.794860   \n",
       "mobley_1046331   0.013096   5.160060  -0.553108  -8.828100 -1.271934   \n",
       "...                   ...        ...        ...        ...       ...   \n",
       "mobley_9913368 -20.236474   9.027594  -0.488696   6.984286  2.903779   \n",
       "mobley_9942801   0.465744  -3.377600  -9.321441  -5.431455  0.795493   \n",
       "mobley_994483  -23.790773   3.251655  -1.631419  11.152238  3.508680   \n",
       "mobley_9974966  -7.485137  -8.419295  -3.439812   6.400467 -3.151041   \n",
       "mobley_9979854  -5.298027  11.052041  19.860505  -2.104938 -3.803667   \n",
       "\n",
       "                     PC6       PC7       PC8       PC9      PC10  ...  \\\n",
       "mobley_1017962  1.154161  2.361153 -2.700138 -5.169281 -2.558583  ...   \n",
       "mobley_1019269  0.856268  2.825631  1.283684 -3.142267 -1.366230  ...   \n",
       "mobley_1034539 -1.551679  8.356573 -6.716154 -1.947512  7.365367  ...   \n",
       "mobley_1036761  5.108000  0.532538 -1.465378 -2.029966 -1.791384  ...   \n",
       "mobley_1046331 -2.744112  1.456818  0.573025 -3.004421 -1.923495  ...   \n",
       "...                  ...       ...       ...       ...       ...  ...   \n",
       "mobley_9913368 -4.453868  1.557532  1.482581 -0.569213 -0.728069  ...   \n",
       "mobley_9942801  0.275491 -3.901344 -1.813911  3.214033  0.992900  ...   \n",
       "mobley_994483  -7.857823 -2.714649  3.183763  0.001303 -1.865963  ...   \n",
       "mobley_9974966  3.133507 -4.384348 -3.678455  6.494977  6.819835  ...   \n",
       "mobley_9979854  6.641799 -1.995134 -8.120011  5.450319 -2.381429  ...   \n",
       "\n",
       "                   PC103     PC104     PC105     PC106     PC107     PC108  \\\n",
       "mobley_1017962  0.176910  0.448660 -0.481919 -0.730970  1.433422 -0.871800   \n",
       "mobley_1019269  0.650525 -0.065040 -0.539433  0.367840  0.331124  0.003756   \n",
       "mobley_1034539  0.168824  0.777216  1.135480  0.712777 -0.498693  0.691487   \n",
       "mobley_1036761  0.644729  0.141384  2.021007  0.251282 -0.186177  0.216360   \n",
       "mobley_1046331 -0.823191  0.277780  1.177761 -0.455553  0.149812 -0.992073   \n",
       "...                  ...       ...       ...       ...       ...       ...   \n",
       "mobley_9913368  0.662516  0.124512 -1.252097  0.093136  0.964358  1.117784   \n",
       "mobley_9942801  0.550031 -0.060056  0.567654  0.528096  0.281406 -0.258472   \n",
       "mobley_994483   0.202422 -0.385468  0.059621 -1.176402  0.542244  0.026653   \n",
       "mobley_9974966 -0.746396 -0.626866 -1.084912  0.240855 -0.400569 -1.748269   \n",
       "mobley_9979854 -2.059559 -1.528944 -0.728551  0.369873  0.012996 -0.453640   \n",
       "\n",
       "                   PC109     PC110     PC111  dGoffset (kcal/mol)  \n",
       "mobley_1017962 -0.046023  0.146078 -0.985729                 0.81  \n",
       "mobley_1019269 -0.432505 -0.340372  0.021577                -1.49  \n",
       "mobley_1034539 -1.452439  0.096043 -1.621214                -1.96  \n",
       "mobley_1036761 -2.022736 -0.802692 -0.227339                -0.64  \n",
       "mobley_1046331 -0.448685 -0.195229  0.616093                 1.62  \n",
       "...                  ...       ...       ...                  ...  \n",
       "mobley_9913368 -0.596488  0.125104 -0.104126                -1.80  \n",
       "mobley_9942801  0.607825  0.480860 -0.378041                -0.38  \n",
       "mobley_994483  -1.198516 -0.103893  0.185989                -1.23  \n",
       "mobley_9974966 -0.498583 -0.721052 -0.141620                -1.35  \n",
       "mobley_9979854 -0.613581 -0.294865  1.107766                -0.71  \n",
       "\n",
       "[601 rows x 112 columns]"
      ]
     },
     "execution_count": 5,
     "metadata": {},
     "output_type": "execute_result"
    }
   ],
   "source": [
    "train_df = pd.read_hdf(datasets_dr + 'train_data.h5', key='absolute')\n",
    "train_df"
   ]
  },
  {
   "cell_type": "markdown",
   "metadata": {},
   "source": [
    "### Cross validation"
   ]
  },
  {
   "cell_type": "code",
   "execution_count": 6,
   "metadata": {},
   "outputs": [],
   "source": [
    "def split_dataset(dataset, n_splits, random_state):\n",
    "    \"\"\"KFold implementation for pandas DataFrame.\n",
    "    (https://stackoverflow.com/questions/45115964/separate-pandas-dataframe-using-sklearns-kfold)\"\"\"\n",
    "    logging.info('Performing {}-fold cross-validation...'.format(n_splits))\n",
    "\n",
    "    kf = KFold(n_splits=n_splits, shuffle=True, random_state=random_state)\n",
    "\n",
    "    kfolds = []\n",
    "    global offset_col_name\n",
    "\n",
    "    for train, validate in kf.split(dataset):\n",
    "        training = dataset.iloc[train]\n",
    "        train_labels = training[label_col]\n",
    "        train_set = training.drop(label_col, axis=1)\n",
    "\n",
    "        validating = dataset.iloc[validate]\n",
    "        validate_labels = validating[label_col]\n",
    "        validate_set = validating.drop(label_col, axis=1)\n",
    "\n",
    "        kfolds.append(\n",
    "            [[train_set, validate_set],\n",
    "             [train_labels, validate_labels]]\n",
    "        )\n",
    "\n",
    "    with open(path + 'kfolds.json', \"wb\") as f:\n",
    "        pickle.dump(kfolds, f)\n",
    "\n",
    "    logging.info('Pickled kfolds nested list at {}kfolds.json.'.format(path))\n",
    "    return kfolds"
   ]
  },
  {
   "cell_type": "code",
   "execution_count": 7,
   "metadata": {},
   "outputs": [],
   "source": [
    "# call function\n",
    "kfolds = split_dataset(train_df, n_splits, random_state)"
   ]
  },
  {
   "cell_type": "markdown",
   "metadata": {},
   "source": [
    "## Training"
   ]
  },
  {
   "cell_type": "code",
   "execution_count": 8,
   "metadata": {},
   "outputs": [],
   "source": [
    "# init training statistics logger\n",
    "mae_logger = output_dr + model_type + '_statistics.csv'\n",
    "with open(mae_logger, 'w') as file:\n",
    "    writer = csv.writer(file)\n",
    "    writer.writerow(['Fold', 'MAE (kcal/mol)', 'Parameters'])"
   ]
  },
  {
   "cell_type": "markdown",
   "metadata": {},
   "source": [
    "### Hyper-parameter ranges"
   ]
  },
  {
   "cell_type": "code",
   "execution_count": 9,
   "metadata": {},
   "outputs": [],
   "source": [
    "# set hyper-parameter ranges, append to list\n",
    "dim_param_C = Categorical(categories=list(np.logspace(-3, 2, 6, dtype=\"float32\")), name=\"param_C\")\n",
    "dim_param_gamma = Categorical(categories=list(np.logspace(-3, 2, 6, dtype=\"float32\")), name=\"param_gamma\")\n",
    "dim_param_epsilon = Categorical(categories=list(np.logspace(-3, 2, 6, dtype=\"float32\")), name=\"param_epsilon\")\n",
    "\n",
    "# gp_minimize dimensions\n",
    "dimensions = [dim_param_C, dim_param_gamma, dim_param_epsilon]"
   ]
  },
  {
   "cell_type": "markdown",
   "metadata": {},
   "source": [
    "### SVR model"
   ]
  },
  {
   "cell_type": "code",
   "execution_count": 10,
   "metadata": {},
   "outputs": [],
   "source": [
    "def create_model(param_gamma, param_C, param_epsilon):\n",
    "    \"\"\"Returns a SVR class instance.\"\"\"\n",
    "    \n",
    "    return SVR(kernel=kernel,\n",
    "               gamma=param_gamma,\n",
    "               C=param_C,\n",
    "               epsilon=param_epsilon,\n",
    "               verbose=False)"
   ]
  },
  {
   "cell_type": "markdown",
   "metadata": {},
   "source": [
    "### Training function"
   ]
  },
  {
   "cell_type": "code",
   "execution_count": 11,
   "metadata": {},
   "outputs": [],
   "source": [
    "class tqdm_skopt(object):\n",
    "    \"\"\"tqdm implementation for skopt.gp_minimize\"\"\"\n",
    "    def __init__(self, **kwargs):\n",
    "        self._bar = tqdm(**kwargs)\n",
    "        \n",
    "    def __call__(self, res):\n",
    "        self._bar.update()"
   ]
  },
  {
   "cell_type": "code",
   "execution_count": 12,
   "metadata": {},
   "outputs": [],
   "source": [
    "def train_model(fold, fold_num):\n",
    "    \"\"\"\n",
    "    1. Unpack data.\n",
    "    2. Define fitness function for guassian process optmisation.\n",
    "    3. Decorate fitness with pre-defined hyper-parameter ranges.\n",
    "    4. Return and pickle final gp_minimize object.\n",
    "    \"\"\"\n",
    "    logging.info('Started training fold {}...'.format(str(fold_num)))\n",
    "\n",
    "    # retrieve data sets and convert to numpy array\n",
    "    train_X = fold[0][0].values\n",
    "    validate_X = fold[0][1].values\n",
    "    train_y = fold[1][0].values\n",
    "    validate_y = fold[1][1].values\n",
    "    \n",
    "    # define function for gaussian process optimisation\n",
    "    @use_named_args(dimensions=dimensions)\n",
    "    def fitness(param_C, param_gamma, param_epsilon):\n",
    "        \"\"\"Function for gaussian process optmisation.\"\"\"\n",
    "\n",
    "        # create SVR model\n",
    "        model = create_model(param_C, param_gamma, param_epsilon)\n",
    "\n",
    "        # train model on training data\n",
    "        model.fit(train_X, train_y)\n",
    "\n",
    "        # validate model\n",
    "        predicted_y = model.predict(validate_X)\n",
    "        mae = mean_absolute_error(validate_y, predicted_y)\n",
    "\n",
    "        # update statistics\n",
    "        with open(output_dr + model_type + '_statistics.csv', 'a') as file:\n",
    "            writer = csv.writer(file)\n",
    "            writer.writerow([fold_num, mae, [param_gamma, param_gamma, param_epsilon]])\n",
    "\n",
    "        # check if model improves\n",
    "        global best_mae\n",
    "        if mae < best_mae:\n",
    "            # update new model accuracy.\n",
    "            best_mae = mae\n",
    "            # overwrite model if mae improves\n",
    "            pkl_file = output_dr + 'fold_' + str(fold_num) + '_' + model_type + '_model.pickle'\n",
    "            with open(pkl_file, 'wb') as file: pickle.dump(model, file)\n",
    "            logging.info('Saved {}.'.format(pkl_file))\n",
    "\n",
    "        # reset best MAE\n",
    "        best_mae = np.inf\n",
    "        \n",
    "        return mae\n",
    "    \n",
    "    # starting parameters\n",
    "    default_parameters = [1.0, 1.0, 1.0]\n",
    "    # optimise hyper-parameters\n",
    "    search_result = gp_minimize(func=fitness,\n",
    "                                dimensions=dimensions,\n",
    "                                acq_func='EI',  # Expected Improvement.\n",
    "                                n_calls=n_calls,\n",
    "                                x0=default_parameters,\n",
    "                                verbose=False,\n",
    "                                callback=[tqdm_skopt(total=n_calls, desc='Fold {}'.format(fold_num))])\n",
    "\n",
    "    # save skopt object and analyse in a separate script as\n",
    "    logging.info('Saved {}fold_{}_gp_minimize_result.pickle.'.format(output_dr, fold_num))\n",
    "\n",
    "    logging.info('Finished training fold {}: {}.'.format(str(fold_num), search_result.x))\n",
    "    return search_result"
   ]
  },
  {
   "cell_type": "markdown",
   "metadata": {},
   "source": [
    "### Perform training per fold"
   ]
  },
  {
   "cell_type": "code",
   "execution_count": 13,
   "metadata": {
    "scrolled": false
   },
   "outputs": [
    {
     "name": "stderr",
     "output_type": "stream",
     "text": [
      "/home/wwu/anaconda3/envs/freesolv/lib/python3.7/site-packages/ipykernel_launcher.py:4: TqdmDeprecationWarning: This function will be removed in tqdm==5.0.0\n",
      "Please use `tqdm.notebook.tqdm` instead of `tqdm.tqdm_notebook`\n",
      "  after removing the cwd from sys.path.\n"
     ]
    },
    {
     "data": {
      "application/vnd.jupyter.widget-view+json": {
       "model_id": "6a448e2018214367935285a17056ff13",
       "version_major": 2,
       "version_minor": 0
      },
      "text/plain": [
       "HBox(children=(FloatProgress(value=0.0, description='Fold 1', max=60.0, style=ProgressStyle(description_width=…"
      ]
     },
     "metadata": {},
     "output_type": "display_data"
    },
    {
     "name": "stderr",
     "output_type": "stream",
     "text": [
      "/home/wwu/anaconda3/envs/freesolv/lib/python3.7/site-packages/skopt/optimizer/optimizer.py:399: UserWarning: The objective has been evaluated at this point before.\n",
      "  warnings.warn(\"The objective has been evaluated \"\n",
      "/home/wwu/anaconda3/envs/freesolv/lib/python3.7/site-packages/skopt/optimizer/optimizer.py:399: UserWarning: The objective has been evaluated at this point before.\n",
      "  warnings.warn(\"The objective has been evaluated \"\n",
      "/home/wwu/anaconda3/envs/freesolv/lib/python3.7/site-packages/skopt/optimizer/optimizer.py:399: UserWarning: The objective has been evaluated at this point before.\n",
      "  warnings.warn(\"The objective has been evaluated \"\n",
      "/home/wwu/anaconda3/envs/freesolv/lib/python3.7/site-packages/skopt/optimizer/optimizer.py:399: UserWarning: The objective has been evaluated at this point before.\n",
      "  warnings.warn(\"The objective has been evaluated \"\n",
      "/home/wwu/anaconda3/envs/freesolv/lib/python3.7/site-packages/skopt/optimizer/optimizer.py:399: UserWarning: The objective has been evaluated at this point before.\n",
      "  warnings.warn(\"The objective has been evaluated \"\n",
      "/home/wwu/anaconda3/envs/freesolv/lib/python3.7/site-packages/skopt/optimizer/optimizer.py:399: UserWarning: The objective has been evaluated at this point before.\n",
      "  warnings.warn(\"The objective has been evaluated \"\n",
      "/home/wwu/anaconda3/envs/freesolv/lib/python3.7/site-packages/skopt/optimizer/optimizer.py:399: UserWarning: The objective has been evaluated at this point before.\n",
      "  warnings.warn(\"The objective has been evaluated \"\n",
      "/home/wwu/anaconda3/envs/freesolv/lib/python3.7/site-packages/skopt/optimizer/optimizer.py:399: UserWarning: The objective has been evaluated at this point before.\n",
      "  warnings.warn(\"The objective has been evaluated \"\n",
      "/home/wwu/anaconda3/envs/freesolv/lib/python3.7/site-packages/ipykernel_launcher.py:4: TqdmDeprecationWarning: This function will be removed in tqdm==5.0.0\n",
      "Please use `tqdm.notebook.tqdm` instead of `tqdm.tqdm_notebook`\n",
      "  after removing the cwd from sys.path.\n"
     ]
    },
    {
     "data": {
      "application/vnd.jupyter.widget-view+json": {
       "model_id": "8f2ba48041554b6dbfef08582746a258",
       "version_major": 2,
       "version_minor": 0
      },
      "text/plain": [
       "HBox(children=(FloatProgress(value=0.0, description='Fold 2', max=60.0, style=ProgressStyle(description_width=…"
      ]
     },
     "metadata": {},
     "output_type": "display_data"
    },
    {
     "name": "stderr",
     "output_type": "stream",
     "text": [
      "/home/wwu/anaconda3/envs/freesolv/lib/python3.7/site-packages/skopt/optimizer/optimizer.py:399: UserWarning: The objective has been evaluated at this point before.\n",
      "  warnings.warn(\"The objective has been evaluated \"\n",
      "/home/wwu/anaconda3/envs/freesolv/lib/python3.7/site-packages/skopt/optimizer/optimizer.py:399: UserWarning: The objective has been evaluated at this point before.\n",
      "  warnings.warn(\"The objective has been evaluated \"\n",
      "/home/wwu/anaconda3/envs/freesolv/lib/python3.7/site-packages/skopt/optimizer/optimizer.py:399: UserWarning: The objective has been evaluated at this point before.\n",
      "  warnings.warn(\"The objective has been evaluated \"\n",
      "/home/wwu/anaconda3/envs/freesolv/lib/python3.7/site-packages/skopt/optimizer/optimizer.py:399: UserWarning: The objective has been evaluated at this point before.\n",
      "  warnings.warn(\"The objective has been evaluated \"\n",
      "/home/wwu/anaconda3/envs/freesolv/lib/python3.7/site-packages/skopt/optimizer/optimizer.py:399: UserWarning: The objective has been evaluated at this point before.\n",
      "  warnings.warn(\"The objective has been evaluated \"\n",
      "/home/wwu/anaconda3/envs/freesolv/lib/python3.7/site-packages/skopt/optimizer/optimizer.py:399: UserWarning: The objective has been evaluated at this point before.\n",
      "  warnings.warn(\"The objective has been evaluated \"\n",
      "/home/wwu/anaconda3/envs/freesolv/lib/python3.7/site-packages/skopt/optimizer/optimizer.py:399: UserWarning: The objective has been evaluated at this point before.\n",
      "  warnings.warn(\"The objective has been evaluated \"\n",
      "/home/wwu/anaconda3/envs/freesolv/lib/python3.7/site-packages/skopt/optimizer/optimizer.py:399: UserWarning: The objective has been evaluated at this point before.\n",
      "  warnings.warn(\"The objective has been evaluated \"\n",
      "/home/wwu/anaconda3/envs/freesolv/lib/python3.7/site-packages/skopt/optimizer/optimizer.py:399: UserWarning: The objective has been evaluated at this point before.\n",
      "  warnings.warn(\"The objective has been evaluated \"\n",
      "/home/wwu/anaconda3/envs/freesolv/lib/python3.7/site-packages/skopt/optimizer/optimizer.py:399: UserWarning: The objective has been evaluated at this point before.\n",
      "  warnings.warn(\"The objective has been evaluated \"\n",
      "/home/wwu/anaconda3/envs/freesolv/lib/python3.7/site-packages/skopt/optimizer/optimizer.py:399: UserWarning: The objective has been evaluated at this point before.\n",
      "  warnings.warn(\"The objective has been evaluated \"\n",
      "/home/wwu/anaconda3/envs/freesolv/lib/python3.7/site-packages/skopt/optimizer/optimizer.py:399: UserWarning: The objective has been evaluated at this point before.\n",
      "  warnings.warn(\"The objective has been evaluated \"\n",
      "/home/wwu/anaconda3/envs/freesolv/lib/python3.7/site-packages/skopt/optimizer/optimizer.py:399: UserWarning: The objective has been evaluated at this point before.\n",
      "  warnings.warn(\"The objective has been evaluated \"\n",
      "/home/wwu/anaconda3/envs/freesolv/lib/python3.7/site-packages/skopt/optimizer/optimizer.py:399: UserWarning: The objective has been evaluated at this point before.\n",
      "  warnings.warn(\"The objective has been evaluated \"\n",
      "/home/wwu/anaconda3/envs/freesolv/lib/python3.7/site-packages/skopt/optimizer/optimizer.py:399: UserWarning: The objective has been evaluated at this point before.\n",
      "  warnings.warn(\"The objective has been evaluated \"\n",
      "/home/wwu/anaconda3/envs/freesolv/lib/python3.7/site-packages/skopt/optimizer/optimizer.py:399: UserWarning: The objective has been evaluated at this point before.\n",
      "  warnings.warn(\"The objective has been evaluated \"\n",
      "/home/wwu/anaconda3/envs/freesolv/lib/python3.7/site-packages/ipykernel_launcher.py:4: TqdmDeprecationWarning: This function will be removed in tqdm==5.0.0\n",
      "Please use `tqdm.notebook.tqdm` instead of `tqdm.tqdm_notebook`\n",
      "  after removing the cwd from sys.path.\n"
     ]
    },
    {
     "data": {
      "application/vnd.jupyter.widget-view+json": {
       "model_id": "c7b28b0eb19142cb960620648efece68",
       "version_major": 2,
       "version_minor": 0
      },
      "text/plain": [
       "HBox(children=(FloatProgress(value=0.0, description='Fold 3', max=60.0, style=ProgressStyle(description_width=…"
      ]
     },
     "metadata": {},
     "output_type": "display_data"
    },
    {
     "name": "stderr",
     "output_type": "stream",
     "text": [
      "/home/wwu/anaconda3/envs/freesolv/lib/python3.7/site-packages/skopt/optimizer/optimizer.py:399: UserWarning: The objective has been evaluated at this point before.\n",
      "  warnings.warn(\"The objective has been evaluated \"\n",
      "/home/wwu/anaconda3/envs/freesolv/lib/python3.7/site-packages/skopt/optimizer/optimizer.py:399: UserWarning: The objective has been evaluated at this point before.\n",
      "  warnings.warn(\"The objective has been evaluated \"\n",
      "/home/wwu/anaconda3/envs/freesolv/lib/python3.7/site-packages/skopt/optimizer/optimizer.py:399: UserWarning: The objective has been evaluated at this point before.\n",
      "  warnings.warn(\"The objective has been evaluated \"\n",
      "/home/wwu/anaconda3/envs/freesolv/lib/python3.7/site-packages/skopt/optimizer/optimizer.py:399: UserWarning: The objective has been evaluated at this point before.\n",
      "  warnings.warn(\"The objective has been evaluated \"\n",
      "/home/wwu/anaconda3/envs/freesolv/lib/python3.7/site-packages/skopt/optimizer/optimizer.py:399: UserWarning: The objective has been evaluated at this point before.\n",
      "  warnings.warn(\"The objective has been evaluated \"\n",
      "/home/wwu/anaconda3/envs/freesolv/lib/python3.7/site-packages/skopt/optimizer/optimizer.py:399: UserWarning: The objective has been evaluated at this point before.\n",
      "  warnings.warn(\"The objective has been evaluated \"\n",
      "/home/wwu/anaconda3/envs/freesolv/lib/python3.7/site-packages/skopt/optimizer/optimizer.py:399: UserWarning: The objective has been evaluated at this point before.\n",
      "  warnings.warn(\"The objective has been evaluated \"\n",
      "/home/wwu/anaconda3/envs/freesolv/lib/python3.7/site-packages/skopt/optimizer/optimizer.py:399: UserWarning: The objective has been evaluated at this point before.\n",
      "  warnings.warn(\"The objective has been evaluated \"\n",
      "/home/wwu/anaconda3/envs/freesolv/lib/python3.7/site-packages/skopt/optimizer/optimizer.py:399: UserWarning: The objective has been evaluated at this point before.\n",
      "  warnings.warn(\"The objective has been evaluated \"\n",
      "/home/wwu/anaconda3/envs/freesolv/lib/python3.7/site-packages/skopt/optimizer/optimizer.py:399: UserWarning: The objective has been evaluated at this point before.\n",
      "  warnings.warn(\"The objective has been evaluated \"\n",
      "/home/wwu/anaconda3/envs/freesolv/lib/python3.7/site-packages/skopt/optimizer/optimizer.py:399: UserWarning: The objective has been evaluated at this point before.\n",
      "  warnings.warn(\"The objective has been evaluated \"\n",
      "/home/wwu/anaconda3/envs/freesolv/lib/python3.7/site-packages/skopt/optimizer/optimizer.py:399: UserWarning: The objective has been evaluated at this point before.\n",
      "  warnings.warn(\"The objective has been evaluated \"\n",
      "/home/wwu/anaconda3/envs/freesolv/lib/python3.7/site-packages/skopt/optimizer/optimizer.py:399: UserWarning: The objective has been evaluated at this point before.\n",
      "  warnings.warn(\"The objective has been evaluated \"\n",
      "/home/wwu/anaconda3/envs/freesolv/lib/python3.7/site-packages/skopt/optimizer/optimizer.py:399: UserWarning: The objective has been evaluated at this point before.\n",
      "  warnings.warn(\"The objective has been evaluated \"\n",
      "/home/wwu/anaconda3/envs/freesolv/lib/python3.7/site-packages/skopt/optimizer/optimizer.py:399: UserWarning: The objective has been evaluated at this point before.\n",
      "  warnings.warn(\"The objective has been evaluated \"\n",
      "/home/wwu/anaconda3/envs/freesolv/lib/python3.7/site-packages/skopt/optimizer/optimizer.py:399: UserWarning: The objective has been evaluated at this point before.\n",
      "  warnings.warn(\"The objective has been evaluated \"\n",
      "/home/wwu/anaconda3/envs/freesolv/lib/python3.7/site-packages/ipykernel_launcher.py:4: TqdmDeprecationWarning: This function will be removed in tqdm==5.0.0\n",
      "Please use `tqdm.notebook.tqdm` instead of `tqdm.tqdm_notebook`\n",
      "  after removing the cwd from sys.path.\n"
     ]
    },
    {
     "data": {
      "application/vnd.jupyter.widget-view+json": {
       "model_id": "94287f50cfd3473a8221abb3dd480615",
       "version_major": 2,
       "version_minor": 0
      },
      "text/plain": [
       "HBox(children=(FloatProgress(value=0.0, description='Fold 4', max=60.0, style=ProgressStyle(description_width=…"
      ]
     },
     "metadata": {},
     "output_type": "display_data"
    },
    {
     "name": "stderr",
     "output_type": "stream",
     "text": [
      "/home/wwu/anaconda3/envs/freesolv/lib/python3.7/site-packages/skopt/optimizer/optimizer.py:399: UserWarning: The objective has been evaluated at this point before.\n",
      "  warnings.warn(\"The objective has been evaluated \"\n",
      "/home/wwu/anaconda3/envs/freesolv/lib/python3.7/site-packages/skopt/optimizer/optimizer.py:399: UserWarning: The objective has been evaluated at this point before.\n",
      "  warnings.warn(\"The objective has been evaluated \"\n",
      "/home/wwu/anaconda3/envs/freesolv/lib/python3.7/site-packages/skopt/optimizer/optimizer.py:399: UserWarning: The objective has been evaluated at this point before.\n",
      "  warnings.warn(\"The objective has been evaluated \"\n",
      "/home/wwu/anaconda3/envs/freesolv/lib/python3.7/site-packages/skopt/optimizer/optimizer.py:399: UserWarning: The objective has been evaluated at this point before.\n",
      "  warnings.warn(\"The objective has been evaluated \"\n",
      "/home/wwu/anaconda3/envs/freesolv/lib/python3.7/site-packages/skopt/optimizer/optimizer.py:399: UserWarning: The objective has been evaluated at this point before.\n",
      "  warnings.warn(\"The objective has been evaluated \"\n",
      "/home/wwu/anaconda3/envs/freesolv/lib/python3.7/site-packages/skopt/optimizer/optimizer.py:399: UserWarning: The objective has been evaluated at this point before.\n",
      "  warnings.warn(\"The objective has been evaluated \"\n",
      "/home/wwu/anaconda3/envs/freesolv/lib/python3.7/site-packages/skopt/optimizer/optimizer.py:399: UserWarning: The objective has been evaluated at this point before.\n",
      "  warnings.warn(\"The objective has been evaluated \"\n",
      "/home/wwu/anaconda3/envs/freesolv/lib/python3.7/site-packages/skopt/optimizer/optimizer.py:399: UserWarning: The objective has been evaluated at this point before.\n",
      "  warnings.warn(\"The objective has been evaluated \"\n",
      "/home/wwu/anaconda3/envs/freesolv/lib/python3.7/site-packages/skopt/optimizer/optimizer.py:399: UserWarning: The objective has been evaluated at this point before.\n",
      "  warnings.warn(\"The objective has been evaluated \"\n",
      "/home/wwu/anaconda3/envs/freesolv/lib/python3.7/site-packages/skopt/optimizer/optimizer.py:399: UserWarning: The objective has been evaluated at this point before.\n",
      "  warnings.warn(\"The objective has been evaluated \"\n",
      "/home/wwu/anaconda3/envs/freesolv/lib/python3.7/site-packages/skopt/optimizer/optimizer.py:399: UserWarning: The objective has been evaluated at this point before.\n",
      "  warnings.warn(\"The objective has been evaluated \"\n",
      "/home/wwu/anaconda3/envs/freesolv/lib/python3.7/site-packages/skopt/optimizer/optimizer.py:399: UserWarning: The objective has been evaluated at this point before.\n",
      "  warnings.warn(\"The objective has been evaluated \"\n",
      "/home/wwu/anaconda3/envs/freesolv/lib/python3.7/site-packages/skopt/optimizer/optimizer.py:399: UserWarning: The objective has been evaluated at this point before.\n",
      "  warnings.warn(\"The objective has been evaluated \"\n",
      "/home/wwu/anaconda3/envs/freesolv/lib/python3.7/site-packages/skopt/optimizer/optimizer.py:399: UserWarning: The objective has been evaluated at this point before.\n",
      "  warnings.warn(\"The objective has been evaluated \"\n",
      "/home/wwu/anaconda3/envs/freesolv/lib/python3.7/site-packages/skopt/optimizer/optimizer.py:399: UserWarning: The objective has been evaluated at this point before.\n",
      "  warnings.warn(\"The objective has been evaluated \"\n",
      "/home/wwu/anaconda3/envs/freesolv/lib/python3.7/site-packages/skopt/optimizer/optimizer.py:399: UserWarning: The objective has been evaluated at this point before.\n",
      "  warnings.warn(\"The objective has been evaluated \"\n",
      "/home/wwu/anaconda3/envs/freesolv/lib/python3.7/site-packages/skopt/optimizer/optimizer.py:399: UserWarning: The objective has been evaluated at this point before.\n",
      "  warnings.warn(\"The objective has been evaluated \"\n",
      "/home/wwu/anaconda3/envs/freesolv/lib/python3.7/site-packages/skopt/optimizer/optimizer.py:399: UserWarning: The objective has been evaluated at this point before.\n",
      "  warnings.warn(\"The objective has been evaluated \"\n",
      "/home/wwu/anaconda3/envs/freesolv/lib/python3.7/site-packages/skopt/optimizer/optimizer.py:399: UserWarning: The objective has been evaluated at this point before.\n",
      "  warnings.warn(\"The objective has been evaluated \"\n",
      "/home/wwu/anaconda3/envs/freesolv/lib/python3.7/site-packages/skopt/optimizer/optimizer.py:399: UserWarning: The objective has been evaluated at this point before.\n",
      "  warnings.warn(\"The objective has been evaluated \"\n",
      "/home/wwu/anaconda3/envs/freesolv/lib/python3.7/site-packages/ipykernel_launcher.py:4: TqdmDeprecationWarning: This function will be removed in tqdm==5.0.0\n",
      "Please use `tqdm.notebook.tqdm` instead of `tqdm.tqdm_notebook`\n",
      "  after removing the cwd from sys.path.\n"
     ]
    },
    {
     "data": {
      "application/vnd.jupyter.widget-view+json": {
       "model_id": "7eae15dc4a454832a99d758a1e09b3ec",
       "version_major": 2,
       "version_minor": 0
      },
      "text/plain": [
       "HBox(children=(FloatProgress(value=0.0, description='Fold 5', max=60.0, style=ProgressStyle(description_width=…"
      ]
     },
     "metadata": {},
     "output_type": "display_data"
    },
    {
     "name": "stderr",
     "output_type": "stream",
     "text": [
      "/home/wwu/anaconda3/envs/freesolv/lib/python3.7/site-packages/skopt/optimizer/optimizer.py:399: UserWarning: The objective has been evaluated at this point before.\n",
      "  warnings.warn(\"The objective has been evaluated \"\n",
      "/home/wwu/anaconda3/envs/freesolv/lib/python3.7/site-packages/skopt/optimizer/optimizer.py:399: UserWarning: The objective has been evaluated at this point before.\n",
      "  warnings.warn(\"The objective has been evaluated \"\n",
      "/home/wwu/anaconda3/envs/freesolv/lib/python3.7/site-packages/skopt/optimizer/optimizer.py:399: UserWarning: The objective has been evaluated at this point before.\n",
      "  warnings.warn(\"The objective has been evaluated \"\n",
      "/home/wwu/anaconda3/envs/freesolv/lib/python3.7/site-packages/skopt/optimizer/optimizer.py:399: UserWarning: The objective has been evaluated at this point before.\n",
      "  warnings.warn(\"The objective has been evaluated \"\n",
      "/home/wwu/anaconda3/envs/freesolv/lib/python3.7/site-packages/skopt/optimizer/optimizer.py:399: UserWarning: The objective has been evaluated at this point before.\n",
      "  warnings.warn(\"The objective has been evaluated \"\n",
      "/home/wwu/anaconda3/envs/freesolv/lib/python3.7/site-packages/skopt/optimizer/optimizer.py:399: UserWarning: The objective has been evaluated at this point before.\n",
      "  warnings.warn(\"The objective has been evaluated \"\n",
      "/home/wwu/anaconda3/envs/freesolv/lib/python3.7/site-packages/skopt/optimizer/optimizer.py:399: UserWarning: The objective has been evaluated at this point before.\n",
      "  warnings.warn(\"The objective has been evaluated \"\n",
      "/home/wwu/anaconda3/envs/freesolv/lib/python3.7/site-packages/skopt/optimizer/optimizer.py:399: UserWarning: The objective has been evaluated at this point before.\n",
      "  warnings.warn(\"The objective has been evaluated \"\n",
      "/home/wwu/anaconda3/envs/freesolv/lib/python3.7/site-packages/skopt/optimizer/optimizer.py:399: UserWarning: The objective has been evaluated at this point before.\n",
      "  warnings.warn(\"The objective has been evaluated \"\n",
      "/home/wwu/anaconda3/envs/freesolv/lib/python3.7/site-packages/skopt/optimizer/optimizer.py:399: UserWarning: The objective has been evaluated at this point before.\n",
      "  warnings.warn(\"The objective has been evaluated \"\n",
      "/home/wwu/anaconda3/envs/freesolv/lib/python3.7/site-packages/skopt/optimizer/optimizer.py:399: UserWarning: The objective has been evaluated at this point before.\n",
      "  warnings.warn(\"The objective has been evaluated \"\n",
      "/home/wwu/anaconda3/envs/freesolv/lib/python3.7/site-packages/skopt/optimizer/optimizer.py:399: UserWarning: The objective has been evaluated at this point before.\n",
      "  warnings.warn(\"The objective has been evaluated \"\n",
      "/home/wwu/anaconda3/envs/freesolv/lib/python3.7/site-packages/skopt/optimizer/optimizer.py:399: UserWarning: The objective has been evaluated at this point before.\n",
      "  warnings.warn(\"The objective has been evaluated \"\n",
      "/home/wwu/anaconda3/envs/freesolv/lib/python3.7/site-packages/skopt/optimizer/optimizer.py:399: UserWarning: The objective has been evaluated at this point before.\n",
      "  warnings.warn(\"The objective has been evaluated \"\n",
      "/home/wwu/anaconda3/envs/freesolv/lib/python3.7/site-packages/skopt/optimizer/optimizer.py:399: UserWarning: The objective has been evaluated at this point before.\n",
      "  warnings.warn(\"The objective has been evaluated \"\n",
      "/home/wwu/anaconda3/envs/freesolv/lib/python3.7/site-packages/skopt/optimizer/optimizer.py:399: UserWarning: The objective has been evaluated at this point before.\n",
      "  warnings.warn(\"The objective has been evaluated \"\n",
      "/home/wwu/anaconda3/envs/freesolv/lib/python3.7/site-packages/skopt/optimizer/optimizer.py:399: UserWarning: The objective has been evaluated at this point before.\n",
      "  warnings.warn(\"The objective has been evaluated \"\n"
     ]
    }
   ],
   "source": [
    "# call train_model save gp_minimize objects to lsit\n",
    "gp_results = [train_model(fold, fold_num + 1) for fold_num, fold in enumerate(kfolds)]"
   ]
  },
  {
   "cell_type": "markdown",
   "metadata": {},
   "source": [
    "## Hyper-parameter search space"
   ]
  },
  {
   "cell_type": "markdown",
   "metadata": {},
   "source": [
    "### Convergence plot"
   ]
  },
  {
   "cell_type": "code",
   "execution_count": 25,
   "metadata": {},
   "outputs": [
    {
     "data": {
      "image/png": "[encoded data removed]",
      "text/plain": [
       "<Figure size 432x288 with 1 Axes>"
      ]
     },
     "metadata": {
      "needs_background": "light"
     },
     "output_type": "display_data"
    }
   ],
   "source": [
    "for result in gp_results: plot_convergence(result)\n",
    "plt.savefig(figures_dr + 'convergence_plot.png')"
   ]
  },
  {
   "cell_type": "markdown",
   "metadata": {},
   "source": [
    "## External testing"
   ]
  },
  {
   "cell_type": "code",
   "execution_count": 15,
   "metadata": {},
   "outputs": [],
   "source": [
    "def plot_scatter(x, y, title, x_label, y_label):\n",
    "    \"\"\"\n",
    "    Returns and saves linear regression scatter plot.\n",
    "    x: (list) calculated or predicted data.\n",
    "    y: (list) true or experimental data.\n",
    "    title: (str) plot title and filename delimitted by underscores. Avoid special characters.\n",
    "    x_label: (str) x-axis label.\n",
    "    y_label: (str) y-axis label.\n",
    "    \"\"\"\n",
    "    \n",
    "    # plot scatter\n",
    "    plt.figure()\n",
    "    plt.scatter(x, y, color='black', s=8)\n",
    "\n",
    "    # plot line of best fit\n",
    "    # https://stackoverflow.com/questions/22239691/code-for-best-fit-straight-line-of-a-scatter-plot-in-python\n",
    "    plt.plot(np.unique(x),\n",
    "             np.poly1d(np.polyfit(x, y, 1))(np.unique(x)),\n",
    "             color='black', linewidth=1)\n",
    "\n",
    "    # axis labels\n",
    "    plt.xlabel(x_label)\n",
    "    plt.ylabel(y_label)\n",
    "\n",
    "    # figure title\n",
    "    plt.title(title)\n",
    "\n",
    "    # absolute error\n",
    "    ae = [abs(i - j) for i, j in zip(x, y)]\n",
    "    # mean absolute error\n",
    "    mae = statistics.mean(ae)\n",
    "    \n",
    "    # R-squared\n",
    "    slope, intercept, r_value, p_value, std_err = scipy.stats.linregress(y, x)\n",
    "    r2 = r_value**2\n",
    "\n",
    "    # annotate with r-squared and MAE\n",
    "    string = 'R-squared = {}\\nMAE = {}'.format(round(r2, 4), round(mae, 4))\n",
    "    plt.annotate(string, xy=(0, 1),\n",
    "                 xytext=(12, -12), va='top',\n",
    "                 xycoords='axes fraction',\n",
    "                 textcoords='offset points')\n",
    "\n",
    "    filename = figures_dr + str(title).lower().replace(' ', '_') + '.png'\n",
    "    plt.savefig(filename)\n",
    "    logging.info('Saved {}.'.format(filename))"
   ]
  },
  {
   "cell_type": "markdown",
   "metadata": {},
   "source": [
    "### Load testing data"
   ]
  },
  {
   "cell_type": "markdown",
   "metadata": {},
   "source": [
    "#### FreeSolve database"
   ]
  },
  {
   "cell_type": "code",
   "execution_count": 16,
   "metadata": {},
   "outputs": [],
   "source": [
    "# load freesolv\n",
    "freesolv_df = pd.read_csv(freesolv_loc, sep='; ', engine='python', index_col='compound id (and file prefix)')\n",
    "# index\n",
    "fs_id = freesolv_df.index\n",
    "# experimentally determined dGhydr\n",
    "fs_exp = freesolv_df.iloc[:, 2].tolist()\n",
    "# computationally calculated dGhydr\n",
    "fs_calc = freesolv_df.iloc[:, 4].tolist()"
   ]
  },
  {
   "cell_type": "markdown",
   "metadata": {},
   "source": [
    "#### External test set"
   ]
  },
  {
   "cell_type": "markdown",
   "metadata": {},
   "source": [
    "##### FreeSolve format"
   ]
  },
  {
   "cell_type": "code",
   "execution_count": 17,
   "metadata": {},
   "outputs": [],
   "source": [
    "# SAMPL4_Gurthrie df\n",
    "test_fs_df = freesolv_df.loc[freesolv_df.iloc[:, 6] == 'SAMPL4_Guthrie'].sort_index()\n",
    "# SAMPL4_Gurthrie experimentally determined dGhydr\n",
    "test_exp = test_fs_df.iloc[:, 2].tolist()\n",
    "# SAMPL4_Gurthrie computationally calculated dGhydr\n",
    "test_calc = test_fs_df.iloc[:, 4].tolist()"
   ]
  },
  {
   "cell_type": "markdown",
   "metadata": {},
   "source": [
    "##### Features and labels format"
   ]
  },
  {
   "cell_type": "code",
   "execution_count": 18,
   "metadata": {},
   "outputs": [],
   "source": [
    "# load external testing data\n",
    "test_df = pd.read_hdf(datasets_dr + 'test_data.h5', key='absolute').sort_index()\n",
    "# unpack testing set\n",
    "test_id = test_df.index.tolist()\n",
    "# features\n",
    "test_X = test_df.drop(columns=label_col).values\n",
    "# true computationally calculated labels\n",
    "test_y = test_df[label_col].values"
   ]
  },
  {
   "cell_type": "markdown",
   "metadata": {},
   "source": [
    "### Original $\\Delta G_{hydr}$"
   ]
  },
  {
   "cell_type": "code",
   "execution_count": 19,
   "metadata": {},
   "outputs": [
    {
     "data": {
      "image/png": "[encoded data removed]",
      "text/plain": [
       "<Figure size 432x288 with 1 Axes>"
      ]
     },
     "metadata": {
      "needs_background": "light"
     },
     "output_type": "display_data"
    }
   ],
   "source": [
    "plot_scatter(x=test_calc,\n",
    "             y=test_exp,\n",
    "             title='Original test set hydraton free energy',\n",
    "             x_label='Predicted $\\Delta G_{hydr}$ / kcal mol$^{-1}$',\n",
    "             y_label='Experimental $\\Delta G_{hydr}$ / kcal mol$^{-1}$')"
   ]
  },
  {
   "cell_type": "markdown",
   "metadata": {},
   "source": [
    "### Predict $\\Delta G_{offset}$"
   ]
  },
  {
   "cell_type": "code",
   "execution_count": 20,
   "metadata": {},
   "outputs": [],
   "source": [
    "def model_predict(model_num, test_entry):\n",
    "    \"\"\"Load model from pickle and return model prediction on a given test_entry.\"\"\"\n",
    "\n",
    "    with open(output_dr + 'fold_' + str(model_num) + '_' + model_type + '_model.pickle', 'rb') as f:\n",
    "        model = pickle.load(f)\n",
    "\n",
    "    return model.predict(test_entry)"
   ]
  },
  {
   "cell_type": "code",
   "execution_count": 21,
   "metadata": {},
   "outputs": [],
   "source": [
    "# ML predicted labels nested list per fold\n",
    "predict_per_fold = [model_predict(fold_num, test_X) for fold_num in range(1, n_splits + 1)]\n",
    "# average ML predicted labels\n",
    "predict_y = np.average(predict_per_fold, axis=0)\n",
    "# convert np array to float\n",
    "predict_y = [float(x) for x in predict_y]"
   ]
  },
  {
   "cell_type": "code",
   "execution_count": 22,
   "metadata": {},
   "outputs": [
    {
     "data": {
      "image/png": "[encoded data removed]",
      "text/plain": [
       "<Figure size 432x288 with 1 Axes>"
      ]
     },
     "metadata": {
      "needs_background": "light"
     },
     "output_type": "display_data"
    }
   ],
   "source": [
    "plot_scatter(x=predict_y,\n",
    "             y=test_y,\n",
    "             title=kernel + ' SVM predicted test set offsets',\n",
    "             x_label=kernel + ' SVM-corrected $\\Delta G_{offset}$ / kcal mol$^{-1}$',\n",
    "             y_label='Original $\\Delta G_{offset}$ / kcal mol$^{-1}$')"
   ]
  },
  {
   "cell_type": "markdown",
   "metadata": {},
   "source": [
    "### $\\Delta G_{hydr}$ correction"
   ]
  },
  {
   "cell_type": "code",
   "execution_count": 23,
   "metadata": {},
   "outputs": [],
   "source": [
    "test_corr = [offset + calc for offset, calc in zip(predict_y, test_calc)]"
   ]
  },
  {
   "cell_type": "code",
   "execution_count": 24,
   "metadata": {
    "scrolled": true
   },
   "outputs": [
    {
     "data": {
      "image/png": "[encoded data removed]",
      "text/plain": [
       "<Figure size 432x288 with 1 Axes>"
      ]
     },
     "metadata": {
      "needs_background": "light"
     },
     "output_type": "display_data"
    }
   ],
   "source": [
    "plot_scatter(x=test_corr,\n",
    "             y=test_exp,\n",
    "             title=kernel + ' SVM corrected test set hydraton free energy',\n",
    "             x_label=kernel + ' SVM-corrected $\\Delta G_{hydr}$ / kcal mol$^{-1}$',\n",
    "             y_label='Experimental $\\Delta G_{hydr}$ / kcal mol$^{-1}$')"
   ]
  },
  {
   "cell_type": "markdown",
   "metadata": {},
   "source": [
    "## Kernel differences"
   ]
  },
  {
   "cell_type": "markdown",
   "metadata": {},
   "source": [
    "### Linear kernel\n",
    "\n",
    "Run time = 200 min\n",
    "\n",
    "R$^{2}$ = 0.9108\n",
    "\n",
    "MAE = 0.8325 kcal mol$^{-1}$\n",
    "\n",
    "### RBF kernel\n",
    "\n",
    "Run time = 2 min\n",
    "\n",
    "R$^{2}$ = 0.8777\n",
    "\n",
    "MAE = 1.0379 kcal mol$^{-1}$"
   ]
  }
 ],
 "metadata": {
  "kernelspec": {
   "display_name": "Python 3",
   "language": "python",
   "name": "python3"
  },
  "language_info": {
   "codemirror_mode": {
    "name": "ipython",
    "version": 3
   },
   "file_extension": ".py",
   "mimetype": "text/x-python",
   "name": "python",
   "nbconvert_exporter": "python",
   "pygments_lexer": "ipython3",
   "version": "3.7.4"
  },
  "toc": {
   "base_numbering": 1,
   "nav_menu": {},
   "number_sections": true,
   "sideBar": true,
   "skip_h1_title": true,
   "title_cell": "Table of Contents",
   "title_sidebar": "Contents",
   "toc_cell": true,
   "toc_position": {
    "height": "calc(100% - 180px)",
    "left": "10px",
    "top": "150px",
    "width": "256px"
   },
   "toc_section_display": true,
   "toc_window_display": true
  }
 },
 "nbformat": 4,
 "nbformat_minor": 2
}
