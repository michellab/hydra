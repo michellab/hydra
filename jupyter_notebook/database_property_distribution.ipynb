{
 "cells": [
  {
   "cell_type": "markdown",
   "metadata": {},
   "source": [
    "# Property Distribution of the Mobley Database\n",
    "\n",
    "_(30.09.19)_\n",
    "\n",
    "## Aim:\n",
    "\n",
    "- Introduction to Matplotlib and Pandas.\n",
    "- Refresher for RDKit\n",
    "- Represent property distribution of the Mobley database using histograms.\n",
    "- Visualise ligands for property extremes."
   ]
  },
  {
   "cell_type": "markdown",
   "metadata": {},
   "source": [
    "### Extracting database\n",
    "Structure data format (SDF) files were exported from GitHub (https://github.com/MobleyLab/FreeSolv) and the tar.gz extracted."
   ]
  },
  {
   "cell_type": "code",
   "execution_count": null,
   "metadata": {},
   "outputs": [],
   "source": [
    "!tar -xf sdffiles.tar.gz"
   ]
  },
  {
   "cell_type": "markdown",
   "metadata": {},
   "source": [
    "### Calculating descriptors\n",
    "Dictionary with keys for entry ID and molecular descriptos was created with empty lists as values.\n",
    "\n",
    "Mobley IDs and the following molecular descriptors were calcualted and appneded to the dictionary.\n",
    "1. Molecular weight (MW)\n",
    "1. Crippen atomic permeability partition coefficient (AlogP)\n",
    "1. Number of hydrogen bond acceptors (HBA)\n",
    "1. Number of hydrogen bond donors (HBD)\n",
    "1. __Active Groups__"
   ]
  },
  {
   "cell_type": "code",
   "execution_count": null,
   "metadata": {},
   "outputs": [],
   "source": [
    "from glob import glob\n",
    "from rdkit.Chem import SDMolSupplier, Descriptors, Crippen, Lipinski, Fragments\n",
    "\n",
    "# Empty dictionary for ligand IDs and corresponding descriptros.\n",
    "data = {'Entry ID': [], 'MW (Da)': [], 'AlogP': [], \n",
    "        'HBA': [], 'HBD': [], '#NH_OH': [], '#Active groups': []}\n",
    "\n",
    "\n",
    "def num_active_groups(mol):\n",
    "    '''Counts the number of active groups in a molecule according to \n",
    "    biologically active functional groups.'''\n",
    "    \n",
    "    counter = 0\n",
    "    \n",
    "    counter += int(Fragments.fr_COO(mol))\n",
    "    # Carbonyl excluding carboxylic acids\n",
    "    counter += int(Fragments.fr_C_O_noCOO(mol))\n",
    "    # Primary amines\n",
    "    counter += int(Fragments.fr_NH2(mol))\n",
    "    # Secondary amines\n",
    "    counter += int(Fragments.fr_NH1(mol))\n",
    "    # Thiols\n",
    "    counter += int(Fragments.fr_SH(mol))\n",
    "    # Sulfonamides\n",
    "    counter += int(Fragments.fr_sulfonamd(mol))\n",
    "    # Aromatic rings\n",
    "    counter += int(Lipinski.NumAromaticRings(mol))\n",
    "    # Aliphatic hydroxy groups\n",
    "    counter += int(Fragments.fr_Al_OH(mol))\n",
    "    # Aromatic hydroxy groups\n",
    "    counter += int(Fragments.fr_Ar_OH(mol))\n",
    "        \n",
    "    return counter\n",
    "\n",
    "# Location of SDF files.\n",
    "sdf_dr = '../sdffiles/'\n",
    "\n",
    "for sdf in glob(sdf_dr + '*.sdf'):\n",
    "    \n",
    "    # add ligand Mobley IDs\n",
    "    ID = sdf.strip('sdffiles/.')\n",
    "    data['Entry ID'].append(ID)\n",
    "    \n",
    "    # add calculated descriptors\n",
    "    suppl = SDMolSupplier(sdf)\n",
    "    for mol in suppl:\n",
    "        data['MW (Da)'].append(Descriptors.MolWt(mol))\n",
    "        data['AlogP'].append(Crippen.MolLogP(mol))\n",
    "        data['HBA'].append(Lipinski.NumHAcceptors(mol))\n",
    "        data['HBD'].append(Lipinski.NumHDonors(mol))\n",
    "        data['#NH_OH'].append(Lipinski.NHOHCount(mol))\n",
    "        data['#Active groups'].append(num_active_groups(mol))"
   ]
  },
  {
   "cell_type": "markdown",
   "metadata": {},
   "source": [
    "Use Pandas to store calculated descriptors and for simple Matplotlib implimentation."
   ]
  },
  {
   "cell_type": "code",
   "execution_count": null,
   "metadata": {
    "scrolled": true
   },
   "outputs": [],
   "source": [
    "import pandas as pd\n",
    "\n",
    "df = pd.DataFrame(data)\n",
    "print(df)"
   ]
  },
  {
   "cell_type": "markdown",
   "metadata": {},
   "source": [
    "#### Drug-like chemical space"
   ]
  },
  {
   "cell_type": "code",
   "execution_count": null,
   "metadata": {},
   "outputs": [],
   "source": [
    "from matplotlib import pyplot as plt\n",
    "\n",
    "df.plot(kind='scatter', x='MW (Da)', \n",
    "        y='AlogP', color='black', edgecolor='black', s=1)"
   ]
  },
  {
   "cell_type": "markdown",
   "metadata": {},
   "source": [
    "#### Descriptor histograms\n",
    "A function was written to plot a histogram for any specified DataFrame column."
   ]
  },
  {
   "cell_type": "code",
   "execution_count": null,
   "metadata": {},
   "outputs": [],
   "source": [
    "def plot_hist(property, bin_range):\n",
    "    '''Enter column name from df as property \n",
    "    and specify range() as bin range.'''\n",
    "    \n",
    "    df[property].plot(kind='hist', bins=bin_range, color='white', \n",
    "                       edgecolor='black', xticks=bin_range)\n",
    "    plt.xlabel(property)\n",
    "    plt.show()"
   ]
  },
  {
   "cell_type": "markdown",
   "metadata": {},
   "source": [
    "A function to display the 2D structur of the ith structure within a DataFrame sorted in ascending order according to a specified descriptor."
   ]
  },
  {
   "cell_type": "code",
   "execution_count": null,
   "metadata": {},
   "outputs": [],
   "source": [
    "from rdkit.Chem import Draw\n",
    "from rdkit.Chem import AllChem\n",
    "\n",
    "def draw_ith_structure(dataframe, descriptor, ith_position):\n",
    "    '''Enter the dataframe, descriptor and ith_position you wish \n",
    "    to see ith structure for.'''\n",
    "    \n",
    "    # Sort DataFrame in ascending order by descriptor column.\n",
    "    sorted_df = dataframe.sort_values(descriptor)\n",
    "    sorted_df = sorted_df.reset_index(drop=True)\n",
    "    \n",
    "    # Define the Mobley ID of the ith structure in the newly ordered DataFrame\n",
    "    entry_ID_index = df.columns.get_loc('Entry ID')\n",
    "    descriptor_index = df.columns.get_loc(descriptor)\n",
    "    ID = sorted_df.iloc[ith_position, entry_ID_index]\n",
    "    \n",
    "    # Supply SDF file and draw 2D structure.\n",
    "    suppl = SDMolSupplier(sdf_dr + ID + '.sdf')\n",
    "    for mol in suppl:\n",
    "        AllChem.Compute2DCoords(mol)\n",
    "    \n",
    "    # Provide value for ith sturcutre and descriptor.\n",
    "    value = sorted_df.iloc[ith_position, descriptor_index]\n",
    "    value = round(value, 2)\n",
    "    print(descriptor + ' = ' + str(value))\n",
    "    print('Structure:')\n",
    "    \n",
    "    return Draw.MolToImage(mol)"
   ]
  },
  {
   "cell_type": "markdown",
   "metadata": {},
   "source": [
    "#### 1. Molecular weight"
   ]
  },
  {
   "cell_type": "code",
   "execution_count": null,
   "metadata": {},
   "outputs": [],
   "source": [
    "plot_hist('MW (Da)', range(0, 500, 50))"
   ]
  },
  {
   "cell_type": "code",
   "execution_count": null,
   "metadata": {},
   "outputs": [],
   "source": [
    "print('Lowest MW')\n",
    "draw_ith_structure(df, 'MW (Da)', 0)"
   ]
  },
  {
   "cell_type": "code",
   "execution_count": null,
   "metadata": {},
   "outputs": [],
   "source": [
    "print('Highest MW')\n",
    "draw_ith_structure(df, 'MW (Da)', -1)"
   ]
  },
  {
   "cell_type": "markdown",
   "metadata": {},
   "source": [
    "#### 2. AlogP"
   ]
  },
  {
   "cell_type": "code",
   "execution_count": null,
   "metadata": {},
   "outputs": [],
   "source": [
    "plot_hist('AlogP', range(-4, 10, 1))"
   ]
  },
  {
   "cell_type": "code",
   "execution_count": null,
   "metadata": {},
   "outputs": [],
   "source": [
    "print('Lowest AlogP')\n",
    "draw_ith_structure(df, 'AlogP', 0)"
   ]
  },
  {
   "cell_type": "code",
   "execution_count": null,
   "metadata": {},
   "outputs": [],
   "source": [
    "print('Highest AlogP')\n",
    "draw_ith_structure(df, 'AlogP', -1)"
   ]
  },
  {
   "cell_type": "markdown",
   "metadata": {},
   "source": [
    "#### 3. H-bond acceptors"
   ]
  },
  {
   "cell_type": "code",
   "execution_count": null,
   "metadata": {},
   "outputs": [],
   "source": [
    "plot_hist('HBA', range(0, 10, 1))"
   ]
  },
  {
   "cell_type": "code",
   "execution_count": null,
   "metadata": {},
   "outputs": [],
   "source": [
    "print('Lowest HBA')\n",
    "draw_ith_structure(df, 'HBA', 0)"
   ]
  },
  {
   "cell_type": "code",
   "execution_count": null,
   "metadata": {},
   "outputs": [],
   "source": [
    "print('Highest HBA')\n",
    "draw_ith_structure(df, 'HBA', -1)"
   ]
  },
  {
   "cell_type": "code",
   "execution_count": null,
   "metadata": {},
   "outputs": [],
   "source": [
    "#### 4. H-bond donors"
   ]
  },
  {
   "cell_type": "code",
   "execution_count": null,
   "metadata": {},
   "outputs": [],
   "source": [
    "plot_hist('HBD', range(0, 7, 1))"
   ]
  },
  {
   "cell_type": "code",
   "execution_count": null,
   "metadata": {},
   "outputs": [],
   "source": [
    "print('Lowest HBD')\n",
    "draw_ith_structure(df, 'HBD', 2)"
   ]
  },
  {
   "cell_type": "code",
   "execution_count": null,
   "metadata": {},
   "outputs": [],
   "source": [
    "print('Highest HBD')\n",
    "draw_ith_structure(df, 'HBD', -1)"
   ]
  },
  {
   "cell_type": "markdown",
   "metadata": {},
   "source": [
    "#### 5. Number of NH and OH"
   ]
  },
  {
   "cell_type": "code",
   "execution_count": null,
   "metadata": {},
   "outputs": [],
   "source": [
    "plot_hist('#NH_OH', range(0, 7, 1))"
   ]
  },
  {
   "cell_type": "code",
   "execution_count": null,
   "metadata": {},
   "outputs": [],
   "source": [
    "print('Lowest #NH_OH')\n",
    "draw_ith_structure(df, '#NH_OH', 2)"
   ]
  },
  {
   "cell_type": "code",
   "execution_count": null,
   "metadata": {},
   "outputs": [],
   "source": [
    "print('Highest #NH_OH')\n",
    "draw_ith_structure(df, '#NH_OH', -1)"
   ]
  },
  {
   "cell_type": "markdown",
   "metadata": {},
   "source": [
    "#### 5. Number of biologically active functional groups"
   ]
  },
  {
   "cell_type": "code",
   "execution_count": null,
   "metadata": {},
   "outputs": [],
   "source": [
    "plot_hist('#Active groups', range(0, 7, 1))"
   ]
  },
  {
   "cell_type": "code",
   "execution_count": null,
   "metadata": {},
   "outputs": [],
   "source": [
    "print('Lowest #Active groups')\n",
    "draw_ith_structure(df, '#Active groups', 3)"
   ]
  },
  {
   "cell_type": "code",
   "execution_count": null,
   "metadata": {},
   "outputs": [],
   "source": [
    "print('Highest #Active groups')\n",
    "draw_ith_structure(df, '#Active groups', -1)"
   ]
  },
  {
   "cell_type": "markdown",
   "metadata": {},
   "source": [
    "__Group 1__\n",
    "- Linear alkanes\n",
    "- Branched alkanes\n",
    "- Linear alkenes\n",
    "- Branched alkenes\n",
    "- \"with various polar functional groups\"\n",
    "\n",
    "__Group 2__ \n",
    "- Methoxyphenol\n",
    "- Guaiacol\n",
    "- Chlorinated derivatives\n",
    "- \"other rather similar compounds\"\n",
    "\n",
    "__Group 3__\n",
    "- 137 cyclohexane derivatives\n",
    "- \"often also with an attached oxygen or hydroxyl\"\n",
    "\n",
    "__Group 4__\n",
    "- Anthracene derivatives\n",
    "- \"many of which have attached polar functional groups\"\n",
    "\n",
    "__Group 5__\n",
    "- Polyfunctional\n",
    "- \"other compounds\"\n",
    "- Largest compounds\n",
    "- Most flexible compounds\n",
    "\n",
    "\"\n",
    "In some past SAMPLs, specific functional groups or\n",
    "classes of molecules have proven particularly challenging.\n",
    "In an anticipation that this might also be true here, we\n",
    "conceptually divided the set into five groups. Group 1\n",
    "consists of linear or branched alkanes or alkenes with\n",
    "various polar functional groups. Group 2 consists of\n",
    "methoxyphenol and guaiacol, chlorinated derivatives, and\n",
    "other rather similar compounds. Group 3 consists of\n",
    "137\n",
    "cyclohexane derivatives, often also with an attached oxy-\n",
    "gen or hydroxyl. Group 4 consists of anthracene deriva-\n",
    "tives, many of which have attached polar functional\n",
    "groups. And group 5 is polyfunctional or other compounds,\n",
    "and contains the largest and most flexible compounds in the\n",
    "set.\n",
    "\"\n",
    "\n",
    "D. L. Mobley, K. L. Wymer, N. M. Lim, J. Peter Guthrie, J. Comput. Aided Mol. Des., 2014, 28, 135–150."
   ]
  }
 ],
 "metadata": {
  "kernelspec": {
   "display_name": "Python 3",
   "language": "python",
   "name": "python3"
  },
  "language_info": {
   "codemirror_mode": {
    "name": "ipython",
    "version": 3
   },
   "file_extension": ".py",
   "mimetype": "text/x-python",
   "name": "python",
   "nbconvert_exporter": "python",
   "pygments_lexer": "ipython3",
   "version": "3.7.4"
  }
 },
 "nbformat": 4,
 "nbformat_minor": 2
}
