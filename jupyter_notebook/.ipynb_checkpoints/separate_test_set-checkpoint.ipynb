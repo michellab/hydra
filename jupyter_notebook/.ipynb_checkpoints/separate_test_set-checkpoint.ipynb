{
 "cells": [
  {
   "cell_type": "markdown",
   "metadata": {},
   "source": [
    "# Seperate test set\n",
    "Put aside 41 SAMPL4_Guthrie sdf files into its own directory"
   ]
  },
  {
   "cell_type": "code",
   "execution_count": 1,
   "metadata": {},
   "outputs": [
    {
     "name": "stdout",
     "output_type": "stream",
     "text": [
      "Number of SAMPL4_Guthrie entires in FreeSolv: 41\n"
     ]
    }
   ],
   "source": [
    "import pandas as pd\n",
    "import os\n",
    "import shutil\n",
    "\n",
    "data_loc = './database.txt'\n",
    "sdf_dr = './sdffiles/'\n",
    "test_dr = './test_dr/'\n",
    "train_dr = './train_dr/'\n",
    "\n",
    "# Load FreeSolv database\n",
    "df = pd.read_csv(data_loc, sep='; ', engine='python')\n",
    "\n",
    "# SAMPl4_Guthrie experimental reference in FreeSolv.\n",
    "ref = 'SAMPL4_Guthrie'\n",
    "\n",
    "# Experimental reference column name.\n",
    "exp_ref_col = 'experimental reference (original or paper this value was taken from)'\n",
    "\n",
    "# List comprehension for all SAMPL4_Guthrie entires.\n",
    "SAMPL4_Guthrie = [df.iloc[i] for i in range(len(df))  if df.loc[i, exp_ref_col] == ref]\n",
    "\n",
    "ID_index = 0\n",
    "SAMPL4_Guthrie_sdf = [entry[ID_index] + '.sdf' for entry in SAMPL4_Guthrie]\n",
    "\n",
    "# Check the number of ligands found is correct.\n",
    "print('Number of SAMPL4_Guthrie entires in FreeSolv: {}'.format(len(SAMPL4_Guthrie_sdf)))\n",
    "\n",
    "# Create test set directory\n",
    "os.mkdir(test_dr)\n",
    "\n",
    "for sdf in SAMPL4_Guthrie_sdf:\n",
    "    os.rename(sdf_dr + sdf, test_dr + sdf)\n",
    "\n",
    "# Rename sdf_dr as new train_dr\n",
    "os.rename(sdf_dr, train_dr)"
   ]
  },
  {
   "cell_type": "code",
   "execution_count": 2,
   "metadata": {},
   "outputs": [
    {
     "name": "stdout",
     "output_type": "stream",
     "text": [
      "Number of files in test_dr:\n",
      "41\n",
      "Number of files in train_dr:\n",
      "601\n"
     ]
    }
   ],
   "source": [
    "print('Number of files in test_dr:')\n",
    "!ls -1q ./test_dr/*.sdf | wc -l\n",
    "\n",
    "print('Number of files in train_dr:')\n",
    "!ls -1q ./train_dr/*.sdf | wc -l"
   ]
  },
  {
   "cell_type": "markdown",
   "metadata": {},
   "source": [
    "Problem: train_dr is supposed to only have 601 sdf files."
   ]
  }
 ],
 "metadata": {
  "kernelspec": {
   "display_name": "Python 3",
   "language": "python",
   "name": "python3"
  },
  "language_info": {
   "codemirror_mode": {
    "name": "ipython",
    "version": 3
   },
   "file_extension": ".py",
   "mimetype": "text/x-python",
   "name": "python",
   "nbconvert_exporter": "python",
   "pygments_lexer": "ipython3",
   "version": "3.7.4"
  }
 },
 "nbformat": 4,
 "nbformat_minor": 2
}
