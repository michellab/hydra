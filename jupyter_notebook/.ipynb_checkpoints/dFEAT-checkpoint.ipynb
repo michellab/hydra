{
 "cells": [
  {
   "cell_type": "markdown",
   "metadata": {},
   "source": [
    "# dFEAT\n",
    "Calculate features for all training ligands."
   ]
  },
  {
   "cell_type": "code",
   "execution_count": null,
   "metadata": {},
   "outputs": [],
   "source": [
    "# imports"
   ]
  },
  {
   "cell_type": "code",
   "execution_count": null,
   "metadata": {},
   "outputs": [],
   "source": [
    "# open user-specified descriptors and create list:\n",
    "# consult http://mordred-descriptor.github.io/documentation/master/descriptors.html\n",
    "descriptors_raw = open(\"./descriptors/used_descriptors.txt\", \"r\")\n",
    "descriptors_raw_list = [line.split(\"\\n\") for line in descriptors_raw.readlines()]\n",
    "descriptors_list = [desc[0] for desc in descriptors_raw_list]\n",
    "print(\"Amount of descriptors: \" + str(len(descriptors_list)))"
   ]
  }
 ],
 "metadata": {
  "kernelspec": {
   "display_name": "Python 3",
   "language": "python",
   "name": "python3"
  },
  "language_info": {
   "codemirror_mode": {
    "name": "ipython",
    "version": 3
   },
   "file_extension": ".py",
   "mimetype": "text/x-python",
   "name": "python",
   "nbconvert_exporter": "python",
   "pygments_lexer": "ipython3",
   "version": "3.7.4"
  }
 },
 "nbformat": 4,
 "nbformat_minor": 2
}
