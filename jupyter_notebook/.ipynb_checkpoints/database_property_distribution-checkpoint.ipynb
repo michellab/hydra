{
 "cells": [
  {
   "cell_type": "markdown",
   "metadata": {},
   "source": [
    "# Property Distribution of the Mobley Database\n",
    "\n",
    "_(30.09.19)_\n",
    "\n",
    "## Aim:\n",
    "\n",
    "- Introduction to Matplotlib and Pandas.\n",
    "- Refresher for RDKit\n",
    "- Represent property distribution of the Mobley database using histograms.\n",
    "- Visualise ligands for property extremes."
   ]
  },
  {
   "cell_type": "markdown",
   "metadata": {},
   "source": [
    "### Extracting database\n",
    "Structure data format (SDF) files were exported from GitHub (https://github.com/MobleyLab/FreeSolv) and the tar.gz extracted."
   ]
  },
  {
   "cell_type": "code",
   "execution_count": 1,
   "metadata": {},
   "outputs": [
    {
     "name": "stdout",
     "output_type": "stream",
     "text": [
      "tar: sdffiles.tar.gz: Cannot open: No such file or directory\r\n",
      "tar: Error is not recoverable: exiting now\r\n"
     ]
    }
   ],
   "source": [
    "!tar -xf sdffiles.tar.gz"
   ]
  },
  {
   "cell_type": "markdown",
   "metadata": {},
   "source": [
    "### Calculating descriptors\n",
    "Dictionary with keys for entry ID and molecular descriptos was created with empty lists as values.\n",
    "\n",
    "Mobley IDs and the following molecular descriptors were calcualted and appneded to the dictionary.\n",
    "1. Molecular weight (MW)\n",
    "1. Crippen atomic permeability partition coefficient (AlogP)\n",
    "1. Number of hydrogen bond acceptors (HBA)\n",
    "1. Number of hydrogen bond donors (HBD)\n",
    "1. __Active Groups__"
   ]
  },
  {
   "cell_type": "code",
   "execution_count": 2,
   "metadata": {},
   "outputs": [],
   "source": [
    "from glob import glob\n",
    "from rdkit.Chem import SDMolSupplier, Descriptors, Crippen, Lipinski, Fragments\n",
    "\n",
    "# Empty dictionary for ligand IDs and corresponding descriptros.\n",
    "data = {'Entry ID': [], 'MW (Da)': [], 'AlogP': [], \n",
    "        'HBA': [], 'HBD': [], '#NH_OH': [], '#Active groups': []}\n",
    "\n",
    "# Location of SDF files.\n",
    "sdf_dr = '../sdffiles/'\n",
    "\n",
    "\n",
    "def num_active_groups(mol):\n",
    "    '''Counts the number of active groups in a molecule according to \n",
    "    biologically active functional groups.'''\n",
    "    \n",
    "    counter = 0\n",
    "    \n",
    "    counter += int(Fragments.fr_COO(mol))\n",
    "    # Carbonyl excluding carboxylic acids\n",
    "    counter += int(Fragments.fr_C_O_noCOO(mol))\n",
    "    # Primary amines\n",
    "    counter += int(Fragments.fr_NH2(mol))\n",
    "    # Secondary amines\n",
    "    counter += int(Fragments.fr_NH1(mol))\n",
    "    # Thiols\n",
    "    counter += int(Fragments.fr_SH(mol))\n",
    "    # Sulfonamides\n",
    "    counter += int(Fragments.fr_sulfonamd(mol))\n",
    "    # Aromatic rings\n",
    "    counter += int(Lipinski.NumAromaticRings(mol))\n",
    "    # Aliphatic hydroxy groups\n",
    "    counter += int(Fragments.fr_Al_OH(mol))\n",
    "    # Aromatic hydroxy groups\n",
    "    counter += int(Fragments.fr_Ar_OH(mol))\n",
    "        \n",
    "    return counter\n",
    "\n",
    "for sdf in glob(sdf_dr + '*.sdf'):\n",
    "    \n",
    "    # add ligand Mobley IDs\n",
    "    ID = sdf.strip('sdffiles/.')\n",
    "    data['Entry ID'].append(ID)\n",
    "    \n",
    "    # add calculated descriptors\n",
    "    suppl = SDMolSupplier(sdf)\n",
    "    for mol in suppl:\n",
    "        data['MW (Da)'].append(Descriptors.MolWt(mol))\n",
    "        data['AlogP'].append(Crippen.MolLogP(mol))\n",
    "        data['HBA'].append(Lipinski.NumHAcceptors(mol))\n",
    "        data['HBD'].append(Lipinski.NumHDonors(mol))\n",
    "        data['#NH_OH'].append(Lipinski.NHOHCount(mol))\n",
    "        data['#Active groups'].append(num_active_groups(mol))"
   ]
  },
  {
   "cell_type": "markdown",
   "metadata": {},
   "source": [
    "Use Pandas to store calculated descriptors and for simple Matplotlib implimentation."
   ]
  },
  {
   "cell_type": "code",
   "execution_count": 3,
   "metadata": {},
   "outputs": [
    {
     "name": "stdout",
     "output_type": "stream",
     "text": [
      "           Entry ID  MW (Da)   AlogP  HBA  HBD  #NH_OH  #Active groups\n",
      "0    mobley_5852491   84.162  2.1965    0    0       0               0\n",
      "1    mobley_9838013   88.150  1.1673    1    1       1               1\n",
      "2    mobley_2410897   45.085 -0.0350    1    1       2               1\n",
      "3    mobley_1893815  167.850  2.5954    0    0       0               0\n",
      "4    mobley_2008055   30.070  1.0262    0    0       0               0\n",
      "..              ...      ...     ...  ...  ...     ...             ...\n",
      "637  mobley_4149784  253.084  4.8914    2    0       0               2\n",
      "638  mobley_6497672   70.091  0.7614    1    0       0               1\n",
      "639  mobley_9534740  180.156 -3.2214    6    5       5               5\n",
      "640  mobley_3980099  181.449  3.6468    0    0       0               1\n",
      "641  mobley_2727678  237.984 -0.3322    2    2       2               3\n",
      "\n",
      "[642 rows x 7 columns]\n"
     ]
    }
   ],
   "source": [
    "import pandas as pd\n",
    "\n",
    "df = pd.DataFrame(data)\n",
    "print(df)"
   ]
  },
  {
   "cell_type": "markdown",
   "metadata": {},
   "source": [
    "#### Drug-like chemical space"
   ]
  },
  {
   "cell_type": "code",
   "execution_count": 4,
   "metadata": {},
   "outputs": [
    {
     "data": {
      "text/plain": [
       "<matplotlib.axes._subplots.AxesSubplot at 0x7f276e697c10>"
      ]
     },
     "execution_count": 4,
     "metadata": {},
     "output_type": "execute_result"
    }
   ],
   "source": [
    "from matplotlib import pyplot as plt\n",
    "\n",
    "df.plot(kind='scatter', x='MW (Da)', \n",
    "        y='AlogP', color='black', edgecolor='black', s=1)"
   ]
  },
  {
   "cell_type": "markdown",
   "metadata": {},
   "source": [
    "#### Descriptor histograms\n",
    "A function was written to plot a histogram for any specified DataFrame column."
   ]
  },
  {
   "cell_type": "code",
   "execution_count": 5,
   "metadata": {},
   "outputs": [],
   "source": [
    "def plot_hist(property, bin_range):\n",
    "    '''Enter column name from df as property \n",
    "    and specify range() as bin range.'''\n",
    "    \n",
    "    df[property].plot(kind='hist', bins=bin_range, color='white', \n",
    "                       edgecolor='black', xticks=bin_range)\n",
    "    plt.xlabel(property)\n",
    "    plt.show()"
   ]
  },
  {
   "cell_type": "markdown",
   "metadata": {},
   "source": [
    "A function to display the 2D structur of the ith structure within a DataFrame sorted in ascending order according to a specified descriptor."
   ]
  },
  {
   "cell_type": "code",
   "execution_count": 6,
   "metadata": {},
   "outputs": [],
   "source": [
    "from rdkit.Chem import Draw\n",
    "from rdkit.Chem import AllChem\n",
    "\n",
    "def draw_ith_structure(dataframe, descriptor, ith_position):\n",
    "    '''Enter the dataframe, descriptor and ith_position you wish \n",
    "    to see ith structure for.'''\n",
    "    \n",
    "    # Sort DataFrame in ascending order by descriptor column.\n",
    "    sorted_df = dataframe.sort_values(descriptor)\n",
    "    sorted_df = sorted_df.reset_index(drop=True)\n",
    "    \n",
    "    # Define the Mobley ID of the ith structure in the newly ordered DataFrame\n",
    "    entry_ID_index = df.columns.get_loc('Entry ID')\n",
    "    descriptor_index = df.columns.get_loc(descriptor)\n",
    "    ID = sorted_df.iloc[ith_position, entry_ID_index]\n",
    "    \n",
    "    # Supply SDF file and draw 2D structure.\n",
    "    suppl = SDMolSupplier(sdf_dr + ID + '.sdf')\n",
    "    for mol in suppl:\n",
    "        AllChem.Compute2DCoords(mol)\n",
    "    \n",
    "    # Provide value for ith sturcutre and descriptor.\n",
    "    value = sorted_df.iloc[ith_position, descriptor_index]\n",
    "    value = round(value, 2)\n",
    "    print(descriptor + ' = ' + str(value))\n",
    "    print('Structure:')\n",
    "    \n",
    "    return Draw.MolToImage(mol)"
   ]
  },
  {
   "cell_type": "markdown",
   "metadata": {},
   "source": [
    "#### 1. Molecular weight"
   ]
  },
  {
   "cell_type": "code",
   "execution_count": 7,
   "metadata": {},
   "outputs": [
    {
     "data": {
      "image/png": "[encoded data removed]",
      "text/plain": [
       "<Figure size 432x288 with 1 Axes>"
      ]
     },
     "metadata": {
      "needs_background": "light"
     },
     "output_type": "display_data"
    }
   ],
   "source": [
    "plot_hist('MW (Da)', range(0, 500, 50))"
   ]
  },
  {
   "cell_type": "code",
   "execution_count": 8,
   "metadata": {},
   "outputs": [
    {
     "name": "stdout",
     "output_type": "stream",
     "text": [
      "Lowest MW\n",
      "MW (Da) = 16.04\n",
      "Structure:\n"
     ]
    },
    {
     "data": {
      "image/png": "[encoded data removed]",
      "text/plain": [
       "<PIL.Image.Image image mode=RGB size=300x300 at 0x7F276DE03350>"
      ]
     },
     "execution_count": 8,
     "metadata": {},
     "output_type": "execute_result"
    }
   ],
   "source": [
    "print('Lowest MW')\n",
    "draw_ith_structure(df, 'MW (Da)', 0)"
   ]
  },
  {
   "cell_type": "code",
   "execution_count": 9,
   "metadata": {},
   "outputs": [
    {
     "name": "stdout",
     "output_type": "stream",
     "text": [
      "Highest MW\n",
      "MW (Da) = 498.66\n",
      "Structure:\n"
     ]
    },
    {
     "data": {
      "image/png": "[encoded data removed]",
      "text/plain": [
       "<PIL.Image.Image image mode=RGB size=300x300 at 0x7F276DDFEC50>"
      ]
     },
     "execution_count": 9,
     "metadata": {},
     "output_type": "execute_result"
    }
   ],
   "source": [
    "print('Highest MW')\n",
    "draw_ith_structure(df, 'MW (Da)', -1)"
   ]
  },
  {
   "cell_type": "markdown",
   "metadata": {},
   "source": [
    "#### 2. AlogP"
   ]
  },
  {
   "cell_type": "code",
   "execution_count": 10,
   "metadata": {},
   "outputs": [
    {
     "data": {
      "image/png": "[encoded data removed]",
      "text/plain": [
       "<Figure size 432x288 with 1 Axes>"
      ]
     },
     "metadata": {
      "needs_background": "light"
     },
     "output_type": "display_data"
    }
   ],
   "source": [
    "plot_hist('AlogP', range(-4, 10, 1))"
   ]
  },
  {
   "cell_type": "code",
   "execution_count": 11,
   "metadata": {},
   "outputs": [
    {
     "name": "stdout",
     "output_type": "stream",
     "text": [
      "Lowest AlogP\n",
      "AlogP = -3.59\n",
      "Structure:\n"
     ]
    },
    {
     "data": {
      "image/png": "[encoded data removed]",
      "text/plain": [
       "<PIL.Image.Image image mode=RGB size=300x300 at 0x7F276D679450>"
      ]
     },
     "execution_count": 11,
     "metadata": {},
     "output_type": "execute_result"
    }
   ],
   "source": [
    "print('Lowest AlogP')\n",
    "draw_ith_structure(df, 'AlogP', 0)"
   ]
  },
  {
   "cell_type": "code",
   "execution_count": 12,
   "metadata": {},
   "outputs": [
    {
     "name": "stdout",
     "output_type": "stream",
     "text": [
      "Highest AlogP\n",
      "AlogP = 9.89\n",
      "Structure:\n"
     ]
    },
    {
     "data": {
      "image/png": "[encoded data removed]",
      "text/plain": [
       "<PIL.Image.Image image mode=RGB size=300x300 at 0x7F276D5EC690>"
      ]
     },
     "execution_count": 12,
     "metadata": {},
     "output_type": "execute_result"
    }
   ],
   "source": [
    "print('Highest AlogP')\n",
    "draw_ith_structure(df, 'AlogP', -1)"
   ]
  },
  {
   "cell_type": "markdown",
   "metadata": {},
   "source": [
    "#### 3. H-bond acceptors"
   ]
  },
  {
   "cell_type": "code",
   "execution_count": 13,
   "metadata": {},
   "outputs": [
    {
     "data": {
      "image/png": "[encoded data removed]",
      "text/plain": [
       "<Figure size 432x288 with 1 Axes>"
      ]
     },
     "metadata": {
      "needs_background": "light"
     },
     "output_type": "display_data"
    }
   ],
   "source": [
    "plot_hist('HBA', range(0, 10, 1))"
   ]
  },
  {
   "cell_type": "code",
   "execution_count": 14,
   "metadata": {},
   "outputs": [
    {
     "name": "stdout",
     "output_type": "stream",
     "text": [
      "Lowest HBA\n",
      "HBA = 0\n",
      "Structure:\n"
     ]
    },
    {
     "data": {
      "image/png": "[encoded data removed]",
      "text/plain": [
       "<PIL.Image.Image image mode=RGB size=300x300 at 0x7F276D56B5D0>"
      ]
     },
     "execution_count": 14,
     "metadata": {},
     "output_type": "execute_result"
    }
   ],
   "source": [
    "print('Lowest HBA')\n",
    "draw_ith_structure(df, 'HBA', 0)"
   ]
  },
  {
   "cell_type": "code",
   "execution_count": 15,
   "metadata": {},
   "outputs": [
    {
     "name": "stdout",
     "output_type": "stream",
     "text": [
      "Highest HBA\n",
      "HBA = 9\n",
      "Structure:\n"
     ]
    },
    {
     "data": {
      "image/png": "[encoded data removed]",
      "text/plain": [
       "<PIL.Image.Image image mode=RGB size=300x300 at 0x7F276D5AAC50>"
      ]
     },
     "execution_count": 15,
     "metadata": {},
     "output_type": "execute_result"
    }
   ],
   "source": [
    "print('Highest HBA')\n",
    "draw_ith_structure(df, 'HBA', -1)"
   ]
  },
  {
   "cell_type": "code",
   "execution_count": 16,
   "metadata": {},
   "outputs": [],
   "source": [
    "#### 4. H-bond donors"
   ]
  },
  {
   "cell_type": "code",
   "execution_count": 17,
   "metadata": {},
   "outputs": [
    {
     "data": {
      "image/png": "[encoded data removed]",
      "text/plain": [
       "<Figure size 432x288 with 1 Axes>"
      ]
     },
     "metadata": {
      "needs_background": "light"
     },
     "output_type": "display_data"
    }
   ],
   "source": [
    "plot_hist('HBD', range(0, 7, 1))"
   ]
  },
  {
   "cell_type": "code",
   "execution_count": 18,
   "metadata": {},
   "outputs": [
    {
     "name": "stdout",
     "output_type": "stream",
     "text": [
      "Lowest HBD\n",
      "HBD = 0\n",
      "Structure:\n"
     ]
    },
    {
     "data": {
      "image/png": "[encoded data removed]",
      "text/plain": [
       "<PIL.Image.Image image mode=RGB size=300x300 at 0x7F276D62A790>"
      ]
     },
     "execution_count": 18,
     "metadata": {},
     "output_type": "execute_result"
    }
   ],
   "source": [
    "print('Lowest HBD')\n",
    "draw_ith_structure(df, 'HBD', 2)"
   ]
  },
  {
   "cell_type": "code",
   "execution_count": 19,
   "metadata": {},
   "outputs": [
    {
     "name": "stdout",
     "output_type": "stream",
     "text": [
      "Highest HBD\n",
      "HBD = 6\n",
      "Structure:\n"
     ]
    },
    {
     "data": {
      "image/png": "[encoded data removed]",
      "text/plain": [
       "<PIL.Image.Image image mode=RGB size=300x300 at 0x7F276D5C8310>"
      ]
     },
     "execution_count": 19,
     "metadata": {},
     "output_type": "execute_result"
    }
   ],
   "source": [
    "print('Highest HBD')\n",
    "draw_ith_structure(df, 'HBD', -1)"
   ]
  },
  {
   "cell_type": "markdown",
   "metadata": {},
   "source": [
    "#### 5. Number of NH and OH"
   ]
  },
  {
   "cell_type": "code",
   "execution_count": 20,
   "metadata": {},
   "outputs": [
    {
     "data": {
      "image/png": "[encoded data removed]",
      "text/plain": [
       "<Figure size 432x288 with 1 Axes>"
      ]
     },
     "metadata": {
      "needs_background": "light"
     },
     "output_type": "display_data"
    }
   ],
   "source": [
    "plot_hist('#NH_OH', range(0, 7, 1))"
   ]
  },
  {
   "cell_type": "code",
   "execution_count": 21,
   "metadata": {},
   "outputs": [
    {
     "name": "stdout",
     "output_type": "stream",
     "text": [
      "Lowest #NH_OH\n",
      "#NH_OH = 0\n",
      "Structure:\n"
     ]
    },
    {
     "data": {
      "image/png": "[encoded data removed]",
      "text/plain": [
       "<PIL.Image.Image image mode=RGB size=300x300 at 0x7F276D6C3A10>"
      ]
     },
     "execution_count": 21,
     "metadata": {},
     "output_type": "execute_result"
    }
   ],
   "source": [
    "print('Lowest #NH_OH')\n",
    "draw_ith_structure(df, '#NH_OH', 2)"
   ]
  },
  {
   "cell_type": "code",
   "execution_count": 22,
   "metadata": {},
   "outputs": [
    {
     "name": "stdout",
     "output_type": "stream",
     "text": [
      "Highest #NH_OH\n",
      "#NH_OH = 6\n",
      "Structure:\n"
     ]
    },
    {
     "data": {
      "image/png": "[encoded data removed]",
      "text/plain": [
       "<PIL.Image.Image image mode=RGB size=300x300 at 0x7F276DE6D6D0>"
      ]
     },
     "execution_count": 22,
     "metadata": {},
     "output_type": "execute_result"
    }
   ],
   "source": [
    "print('Highest #NH_OH')\n",
    "draw_ith_structure(df, '#NH_OH', -1)"
   ]
  },
  {
   "cell_type": "markdown",
   "metadata": {},
   "source": [
    "#### 5. Number of biologically active functional groups"
   ]
  },
  {
   "cell_type": "code",
   "execution_count": 23,
   "metadata": {},
   "outputs": [
    {
     "data": {
      "image/png": "[encoded data removed]",
      "text/plain": [
       "<Figure size 432x288 with 1 Axes>"
      ]
     },
     "metadata": {
      "needs_background": "light"
     },
     "output_type": "display_data"
    }
   ],
   "source": [
    "plot_hist('#Active groups', range(0, 7, 1))"
   ]
  },
  {
   "cell_type": "code",
   "execution_count": 24,
   "metadata": {},
   "outputs": [
    {
     "name": "stdout",
     "output_type": "stream",
     "text": [
      "Lowest #Active groups\n",
      "#Active groups = 0\n",
      "Structure:\n"
     ]
    },
    {
     "data": {
      "image/png": "[encoded data removed]",
      "text/plain": [
       "<PIL.Image.Image image mode=RGB size=300x300 at 0x7F276D5C8110>"
      ]
     },
     "execution_count": 24,
     "metadata": {},
     "output_type": "execute_result"
    }
   ],
   "source": [
    "print('Lowest #Active groups')\n",
    "draw_ith_structure(df, '#Active groups', 3)"
   ]
  },
  {
   "cell_type": "code",
   "execution_count": 27,
   "metadata": {},
   "outputs": [
    {
     "name": "stdout",
     "output_type": "stream",
     "text": [
      "Highest #Active groups\n",
      "#Active groups = 6\n",
      "Structure:\n"
     ]
    },
    {
     "data": {
      "image/png": "[encoded data removed]",
      "text/plain": [
       "<PIL.Image.Image image mode=RGB size=300x300 at 0x7F276D5DA1D0>"
      ]
     },
     "execution_count": 27,
     "metadata": {},
     "output_type": "execute_result"
    }
   ],
   "source": [
    "print('Highest #Active groups')\n",
    "draw_ith_structure(df, '#Active groups', -1)"
   ]
  }
 ],
 "metadata": {
  "kernelspec": {
   "display_name": "Python 3",
   "language": "python",
   "name": "python3"
  },
  "language_info": {
   "codemirror_mode": {
    "name": "ipython",
    "version": 3
   },
   "file_extension": ".py",
   "mimetype": "text/x-python",
   "name": "python",
   "nbconvert_exporter": "python",
   "pygments_lexer": "ipython3",
   "version": "3.7.4"
  }
 },
 "nbformat": 4,
 "nbformat_minor": 2
}
