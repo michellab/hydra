{
 "cells": [
  {
   "cell_type": "markdown",
   "metadata": {},
   "source": [
    "# Property Distribution of the Mobley Database\n",
    "\n",
    "_(30.09.19)_\n",
    "\n",
    "## Aim:\n",
    "\n",
    "- Introduction to Matplotlib and Pandas.\n",
    "- Refresher for RDKit\n",
    "- Represent property distribution of the Mobley database using histograms.\n",
    "- Visualise ligands for property extremes."
   ]
  },
  {
   "cell_type": "markdown",
   "metadata": {},
   "source": [
    "### Extracting database\n",
    "Structure data format (SDF) files were exported from GitHub (https://github.com/MobleyLab/FreeSolv) and the tar.gz extracted."
   ]
  },
  {
   "cell_type": "code",
   "execution_count": 1,
   "metadata": {},
   "outputs": [],
   "source": [
    "!tar -xf sdffiles.tar.gz"
   ]
  },
  {
   "cell_type": "markdown",
   "metadata": {},
   "source": [
    "### Calculating descriptors\n",
    "Dictionary with keys for entry ID and molecular descriptos was created with empty lists as values.\n",
    "\n",
    "Mobley IDs and the following molecular descriptors were calcualted and appneded to the dictionary.\n",
    "1. Molecular weight (MW)\n",
    "1. Crippen atomic permeability partition coefficient (AlogP)\n",
    "1. Number of hydrogen bond acceptors (HBA)\n",
    "1. Number of hydrogen bond donors (HBD)\n",
    "1. __Active Groups__"
   ]
  },
  {
   "cell_type": "code",
   "execution_count": 117,
   "metadata": {},
   "outputs": [],
   "source": [
    "from glob import glob\n",
    "from rdkit import Chem\n",
    "\n",
    "# empty dictionary for ligand IDs and corresponding descriptros.\n",
    "data = {'Entry ID': [], 'MW (Da)': [], 'AlogP': [], 'HBA': [], 'HBD': [],}\n",
    "\n",
    "for sdf in glob('sdffiles/*.sdf'):\n",
    "    \n",
    "    # add ligand Mobley IDs\n",
    "    ID = sdf.strip('sdffiles/.')\n",
    "    data['Entry ID'].append(ID)\n",
    "    \n",
    "    # add calculated descriptors\n",
    "    suppl = SDMolSupplier(sdf)\n",
    "    for mol in suppl:\n",
    "        data['MW (Da)'].append(Chem.Descriptors.MolWt(mol))\n",
    "        data['AlogP'].append(Chem.Crippen.MolLogP(mol))\n",
    "        data['HBA'].append(Chem.Lipinski.NumHAcceptors(mol))\n",
    "        data['HBD'].append(Chem.Lipinski.NumHDonors(mol))\n",
    "\n",
    "# Num_NH_OH = Lipinski.NHOHCount"
   ]
  },
  {
   "cell_type": "markdown",
   "metadata": {},
   "source": [
    "Use Pandas to store calculated descriptors and for simple Matplotlib implimentation."
   ]
  },
  {
   "cell_type": "code",
   "execution_count": 30,
   "metadata": {},
   "outputs": [
    {
     "name": "stdout",
     "output_type": "stream",
     "text": [
      "           Entry ID  MW (Da)   AlogP  HBA  HBD\n",
      "0    mobley_5852491   84.162  2.1965    0    0\n",
      "1    mobley_9838013   88.150  1.1673    1    1\n",
      "2    mobley_2410897   45.085 -0.0350    1    1\n",
      "3    mobley_1893815  167.850  2.5954    0    0\n",
      "4    mobley_2008055   30.070  1.0262    0    0\n",
      "..              ...      ...     ...  ...  ...\n",
      "637  mobley_4149784  253.084  4.8914    2    0\n",
      "638  mobley_6497672   70.091  0.7614    1    0\n",
      "639  mobley_9534740  180.156 -3.2214    6    5\n",
      "640  mobley_3980099  181.449  3.6468    0    0\n",
      "641  mobley_2727678  237.984 -0.3322    2    2\n",
      "\n",
      "[642 rows x 5 columns]\n"
     ]
    }
   ],
   "source": [
    "import pandas as pd\n",
    "\n",
    "df = pd.DataFrame(data)\n",
    "print(df)"
   ]
  },
  {
   "cell_type": "markdown",
   "metadata": {},
   "source": [
    "#### Drug-like chemical space"
   ]
  },
  {
   "cell_type": "code",
   "execution_count": 98,
   "metadata": {},
   "outputs": [
    {
     "data": {
      "text/plain": [
       "<matplotlib.axes._subplots.AxesSubplot at 0x7f32b4e25d90>"
      ]
     },
     "execution_count": 98,
     "metadata": {},
     "output_type": "execute_result"
    },
    {
     "data": {
      "image/png": "[encoded data removed]",
      "text/plain": [
       "<Figure size 432x288 with 1 Axes>"
      ]
     },
     "metadata": {
      "needs_background": "light"
     },
     "output_type": "display_data"
    }
   ],
   "source": [
    "from matplotlib import pyplot as plt\n",
    "\n",
    "df.plot(kind='scatter', x='MW (Da)', \n",
    "        y='AlogP', color='black', edgecolor='black', s=1)"
   ]
  },
  {
   "cell_type": "markdown",
   "metadata": {},
   "source": [
    "#### Descriptor histograms\n",
    "A function was written to plot a histogram for any specified DataFrame column."
   ]
  },
  {
   "cell_type": "code",
   "execution_count": 120,
   "metadata": {},
   "outputs": [],
   "source": [
    "def plot_hist(property, bin_range):\n",
    "    '''Enter column name from df as property \n",
    "    and specify range() as bin range.'''\n",
    "    \n",
    "    df[property].plot(kind='hist', bins=bin_range, color='white', \n",
    "                       edgecolor='black', xticks=bin_range)\n",
    "    plt.xlabel(property)\n",
    "    plt.show()"
   ]
  },
  {
   "cell_type": "markdown",
   "metadata": {},
   "source": [
    "A function to display the structure with the largest property value was written."
   ]
  },
  {
   "cell_type": "code",
   "execution_count": 1,
   "metadata": {},
   "outputs": [],
   "source": [
    "def show_last_structure(dataframe, property):"
   ]
  },
  {
   "cell_type": "code",
   "execution_count": 121,
   "metadata": {},
   "outputs": [
    {
     "data": {
      "image/png": "[encoded data removed]",
      "text/plain": [
       "<Figure size 432x288 with 1 Axes>"
      ]
     },
     "metadata": {
      "needs_background": "light"
     },
     "output_type": "display_data"
    }
   ],
   "source": [
    "# Molecular weight\n",
    "plot_hist('MW (Da)', range(0, 500, 50))\n",
    "sorted_MW = df.sort_values('MW (Da)')\n",
    "# print(sorted_MW)"
   ]
  },
  {
   "cell_type": "code",
   "execution_count": 108,
   "metadata": {},
   "outputs": [
    {
     "data": {
      "image/png": "[encoded data removed]",
      "text/plain": [
       "<Figure size 432x288 with 1 Axes>"
      ]
     },
     "metadata": {
      "needs_background": "light"
     },
     "output_type": "display_data"
    }
   ],
   "source": [
    "# AlogP\n",
    "plot_hist('AlogP', range(-4, 10, 1))"
   ]
  },
  {
   "cell_type": "code",
   "execution_count": 109,
   "metadata": {},
   "outputs": [
    {
     "data": {
      "image/png": "[encoded data removed]",
      "text/plain": [
       "<Figure size 432x288 with 1 Axes>"
      ]
     },
     "metadata": {
      "needs_background": "light"
     },
     "output_type": "display_data"
    }
   ],
   "source": [
    "# H-bond acceptors\n",
    "plot_hist('HBA', range(0, 10, 1))"
   ]
  },
  {
   "cell_type": "code",
   "execution_count": 110,
   "metadata": {},
   "outputs": [
    {
     "data": {
      "image/png": "[encoded data removed]",
      "text/plain": [
       "<Figure size 432x288 with 1 Axes>"
      ]
     },
     "metadata": {
      "needs_background": "light"
     },
     "output_type": "display_data"
    }
   ],
   "source": [
    "# H-bond donors\n",
    "plot_hist('HBD', range(0, 7, 1))"
   ]
  }
 ],
 "metadata": {
  "kernelspec": {
   "display_name": "Python 3",
   "language": "python",
   "name": "python3"
  },
  "language_info": {
   "codemirror_mode": {
    "name": "ipython",
    "version": 3
   },
   "file_extension": ".py",
   "mimetype": "text/x-python",
   "name": "python",
   "nbconvert_exporter": "python",
   "pygments_lexer": "ipython3",
   "version": "3.7.4"
  }
 },
 "nbformat": 4,
 "nbformat_minor": 2
}
